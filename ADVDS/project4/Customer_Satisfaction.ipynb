{
  "nbformat": 4,
  "nbformat_minor": 0,
  "metadata": {
    "colab": {
      "name": "Customer_Satisfaction.ipynb",
      "provenance": [],
      "authorship_tag": "ABX9TyMm4pl+fXTKqH0120tDeDTI",
      "include_colab_link": true
    },
    "kernelspec": {
      "name": "python3",
      "display_name": "Python 3"
    },
    "language_info": {
      "name": "python"
    }
  },
  "cells": [
    {
      "cell_type": "markdown",
      "metadata": {
        "id": "view-in-github",
        "colab_type": "text"
      },
      "source": [
        "<a href=\"https://colab.research.google.com/github/sg758253/sg1205/blob/main/ADVDS/project4/Customer_Satisfaction.ipynb\" target=\"_parent\"><img src=\"https://colab.research.google.com/assets/colab-badge.svg\" alt=\"Open In Colab\"/></a>"
      ]
    },
    {
      "cell_type": "markdown",
      "source": [
        "**Customer Satisfaction**: In this assignment, you will be performing experiments on the Kaggle's Customer Satisfaction dataset (Links to an external site.). The training/testing sets include data about customers that are grouped into 4 segments (classes A, B, C, D)  based on a number of categoric and numeric attributes such as gender, age, profession, work experience, etc. "
      ],
      "metadata": {
        "id": "9SOeKthC5IUv"
      }
    },
    {
      "cell_type": "code",
      "source": [
        "# import library\n",
        "import pandas as pd\n",
        "import matplotlib.pyplot as plt \n",
        "import seaborn as sns\n",
        "import numpy as np"
      ],
      "metadata": {
        "id": "Q_dOHQVj5J9d"
      },
      "execution_count": 50,
      "outputs": []
    },
    {
      "cell_type": "code",
      "source": [
        "# Read csv file\n",
        "df_train= pd.read_csv('https://raw.githubusercontent.com/sg758253/sg1205/main/ADVDS/project4/Train.csv')\n",
        "df_test=pd.read_csv('https://raw.githubusercontent.com/sg758253/sg1205/main/ADVDS/project4/Test.csv')"
      ],
      "metadata": {
        "id": "e2PxPOq15og4"
      },
      "execution_count": 51,
      "outputs": []
    },
    {
      "cell_type": "code",
      "source": [
        "#print train data\n",
        "df_train"
      ],
      "metadata": {
        "colab": {
          "base_uri": "https://localhost:8080/",
          "height": 424
        },
        "id": "9FiR3Pny6HOS",
        "outputId": "8f8ab83e-a4dc-402f-f9e0-bb5eb3e4dcfb"
      },
      "execution_count": 52,
      "outputs": [
        {
          "output_type": "execute_result",
          "data": {
            "text/html": [
              "\n",
              "  <div id=\"df-00dd1565-c6d7-41c2-8c98-048014c5021c\">\n",
              "    <div class=\"colab-df-container\">\n",
              "      <div>\n",
              "<style scoped>\n",
              "    .dataframe tbody tr th:only-of-type {\n",
              "        vertical-align: middle;\n",
              "    }\n",
              "\n",
              "    .dataframe tbody tr th {\n",
              "        vertical-align: top;\n",
              "    }\n",
              "\n",
              "    .dataframe thead th {\n",
              "        text-align: right;\n",
              "    }\n",
              "</style>\n",
              "<table border=\"1\" class=\"dataframe\">\n",
              "  <thead>\n",
              "    <tr style=\"text-align: right;\">\n",
              "      <th></th>\n",
              "      <th>ID</th>\n",
              "      <th>Gender</th>\n",
              "      <th>Ever_Married</th>\n",
              "      <th>Age</th>\n",
              "      <th>Graduated</th>\n",
              "      <th>Profession</th>\n",
              "      <th>Work_Experience</th>\n",
              "      <th>Spending_Score</th>\n",
              "      <th>Family_Size</th>\n",
              "      <th>Var_1</th>\n",
              "      <th>Segmentation</th>\n",
              "    </tr>\n",
              "  </thead>\n",
              "  <tbody>\n",
              "    <tr>\n",
              "      <th>0</th>\n",
              "      <td>462809</td>\n",
              "      <td>Male</td>\n",
              "      <td>No</td>\n",
              "      <td>22</td>\n",
              "      <td>No</td>\n",
              "      <td>Healthcare</td>\n",
              "      <td>1.0</td>\n",
              "      <td>Low</td>\n",
              "      <td>4.0</td>\n",
              "      <td>Cat_4</td>\n",
              "      <td>D</td>\n",
              "    </tr>\n",
              "    <tr>\n",
              "      <th>1</th>\n",
              "      <td>462643</td>\n",
              "      <td>Female</td>\n",
              "      <td>Yes</td>\n",
              "      <td>38</td>\n",
              "      <td>Yes</td>\n",
              "      <td>Engineer</td>\n",
              "      <td>NaN</td>\n",
              "      <td>Average</td>\n",
              "      <td>3.0</td>\n",
              "      <td>Cat_4</td>\n",
              "      <td>A</td>\n",
              "    </tr>\n",
              "    <tr>\n",
              "      <th>2</th>\n",
              "      <td>466315</td>\n",
              "      <td>Female</td>\n",
              "      <td>Yes</td>\n",
              "      <td>67</td>\n",
              "      <td>Yes</td>\n",
              "      <td>Engineer</td>\n",
              "      <td>1.0</td>\n",
              "      <td>Low</td>\n",
              "      <td>1.0</td>\n",
              "      <td>Cat_6</td>\n",
              "      <td>B</td>\n",
              "    </tr>\n",
              "    <tr>\n",
              "      <th>3</th>\n",
              "      <td>461735</td>\n",
              "      <td>Male</td>\n",
              "      <td>Yes</td>\n",
              "      <td>67</td>\n",
              "      <td>Yes</td>\n",
              "      <td>Lawyer</td>\n",
              "      <td>0.0</td>\n",
              "      <td>High</td>\n",
              "      <td>2.0</td>\n",
              "      <td>Cat_6</td>\n",
              "      <td>B</td>\n",
              "    </tr>\n",
              "    <tr>\n",
              "      <th>4</th>\n",
              "      <td>462669</td>\n",
              "      <td>Female</td>\n",
              "      <td>Yes</td>\n",
              "      <td>40</td>\n",
              "      <td>Yes</td>\n",
              "      <td>Entertainment</td>\n",
              "      <td>NaN</td>\n",
              "      <td>High</td>\n",
              "      <td>6.0</td>\n",
              "      <td>Cat_6</td>\n",
              "      <td>A</td>\n",
              "    </tr>\n",
              "    <tr>\n",
              "      <th>...</th>\n",
              "      <td>...</td>\n",
              "      <td>...</td>\n",
              "      <td>...</td>\n",
              "      <td>...</td>\n",
              "      <td>...</td>\n",
              "      <td>...</td>\n",
              "      <td>...</td>\n",
              "      <td>...</td>\n",
              "      <td>...</td>\n",
              "      <td>...</td>\n",
              "      <td>...</td>\n",
              "    </tr>\n",
              "    <tr>\n",
              "      <th>8063</th>\n",
              "      <td>464018</td>\n",
              "      <td>Male</td>\n",
              "      <td>No</td>\n",
              "      <td>22</td>\n",
              "      <td>No</td>\n",
              "      <td>NaN</td>\n",
              "      <td>0.0</td>\n",
              "      <td>Low</td>\n",
              "      <td>7.0</td>\n",
              "      <td>Cat_1</td>\n",
              "      <td>D</td>\n",
              "    </tr>\n",
              "    <tr>\n",
              "      <th>8064</th>\n",
              "      <td>464685</td>\n",
              "      <td>Male</td>\n",
              "      <td>No</td>\n",
              "      <td>35</td>\n",
              "      <td>No</td>\n",
              "      <td>Executive</td>\n",
              "      <td>3.0</td>\n",
              "      <td>Low</td>\n",
              "      <td>4.0</td>\n",
              "      <td>Cat_4</td>\n",
              "      <td>D</td>\n",
              "    </tr>\n",
              "    <tr>\n",
              "      <th>8065</th>\n",
              "      <td>465406</td>\n",
              "      <td>Female</td>\n",
              "      <td>No</td>\n",
              "      <td>33</td>\n",
              "      <td>Yes</td>\n",
              "      <td>Healthcare</td>\n",
              "      <td>1.0</td>\n",
              "      <td>Low</td>\n",
              "      <td>1.0</td>\n",
              "      <td>Cat_6</td>\n",
              "      <td>D</td>\n",
              "    </tr>\n",
              "    <tr>\n",
              "      <th>8066</th>\n",
              "      <td>467299</td>\n",
              "      <td>Female</td>\n",
              "      <td>No</td>\n",
              "      <td>27</td>\n",
              "      <td>Yes</td>\n",
              "      <td>Healthcare</td>\n",
              "      <td>1.0</td>\n",
              "      <td>Low</td>\n",
              "      <td>4.0</td>\n",
              "      <td>Cat_6</td>\n",
              "      <td>B</td>\n",
              "    </tr>\n",
              "    <tr>\n",
              "      <th>8067</th>\n",
              "      <td>461879</td>\n",
              "      <td>Male</td>\n",
              "      <td>Yes</td>\n",
              "      <td>37</td>\n",
              "      <td>Yes</td>\n",
              "      <td>Executive</td>\n",
              "      <td>0.0</td>\n",
              "      <td>Average</td>\n",
              "      <td>3.0</td>\n",
              "      <td>Cat_4</td>\n",
              "      <td>B</td>\n",
              "    </tr>\n",
              "  </tbody>\n",
              "</table>\n",
              "<p>8068 rows × 11 columns</p>\n",
              "</div>\n",
              "      <button class=\"colab-df-convert\" onclick=\"convertToInteractive('df-00dd1565-c6d7-41c2-8c98-048014c5021c')\"\n",
              "              title=\"Convert this dataframe to an interactive table.\"\n",
              "              style=\"display:none;\">\n",
              "        \n",
              "  <svg xmlns=\"http://www.w3.org/2000/svg\" height=\"24px\"viewBox=\"0 0 24 24\"\n",
              "       width=\"24px\">\n",
              "    <path d=\"M0 0h24v24H0V0z\" fill=\"none\"/>\n",
              "    <path d=\"M18.56 5.44l.94 2.06.94-2.06 2.06-.94-2.06-.94-.94-2.06-.94 2.06-2.06.94zm-11 1L8.5 8.5l.94-2.06 2.06-.94-2.06-.94L8.5 2.5l-.94 2.06-2.06.94zm10 10l.94 2.06.94-2.06 2.06-.94-2.06-.94-.94-2.06-.94 2.06-2.06.94z\"/><path d=\"M17.41 7.96l-1.37-1.37c-.4-.4-.92-.59-1.43-.59-.52 0-1.04.2-1.43.59L10.3 9.45l-7.72 7.72c-.78.78-.78 2.05 0 2.83L4 21.41c.39.39.9.59 1.41.59.51 0 1.02-.2 1.41-.59l7.78-7.78 2.81-2.81c.8-.78.8-2.07 0-2.86zM5.41 20L4 18.59l7.72-7.72 1.47 1.35L5.41 20z\"/>\n",
              "  </svg>\n",
              "      </button>\n",
              "      \n",
              "  <style>\n",
              "    .colab-df-container {\n",
              "      display:flex;\n",
              "      flex-wrap:wrap;\n",
              "      gap: 12px;\n",
              "    }\n",
              "\n",
              "    .colab-df-convert {\n",
              "      background-color: #E8F0FE;\n",
              "      border: none;\n",
              "      border-radius: 50%;\n",
              "      cursor: pointer;\n",
              "      display: none;\n",
              "      fill: #1967D2;\n",
              "      height: 32px;\n",
              "      padding: 0 0 0 0;\n",
              "      width: 32px;\n",
              "    }\n",
              "\n",
              "    .colab-df-convert:hover {\n",
              "      background-color: #E2EBFA;\n",
              "      box-shadow: 0px 1px 2px rgba(60, 64, 67, 0.3), 0px 1px 3px 1px rgba(60, 64, 67, 0.15);\n",
              "      fill: #174EA6;\n",
              "    }\n",
              "\n",
              "    [theme=dark] .colab-df-convert {\n",
              "      background-color: #3B4455;\n",
              "      fill: #D2E3FC;\n",
              "    }\n",
              "\n",
              "    [theme=dark] .colab-df-convert:hover {\n",
              "      background-color: #434B5C;\n",
              "      box-shadow: 0px 1px 3px 1px rgba(0, 0, 0, 0.15);\n",
              "      filter: drop-shadow(0px 1px 2px rgba(0, 0, 0, 0.3));\n",
              "      fill: #FFFFFF;\n",
              "    }\n",
              "  </style>\n",
              "\n",
              "      <script>\n",
              "        const buttonEl =\n",
              "          document.querySelector('#df-00dd1565-c6d7-41c2-8c98-048014c5021c button.colab-df-convert');\n",
              "        buttonEl.style.display =\n",
              "          google.colab.kernel.accessAllowed ? 'block' : 'none';\n",
              "\n",
              "        async function convertToInteractive(key) {\n",
              "          const element = document.querySelector('#df-00dd1565-c6d7-41c2-8c98-048014c5021c');\n",
              "          const dataTable =\n",
              "            await google.colab.kernel.invokeFunction('convertToInteractive',\n",
              "                                                     [key], {});\n",
              "          if (!dataTable) return;\n",
              "\n",
              "          const docLinkHtml = 'Like what you see? Visit the ' +\n",
              "            '<a target=\"_blank\" href=https://colab.research.google.com/notebooks/data_table.ipynb>data table notebook</a>'\n",
              "            + ' to learn more about interactive tables.';\n",
              "          element.innerHTML = '';\n",
              "          dataTable['output_type'] = 'display_data';\n",
              "          await google.colab.output.renderOutput(dataTable, element);\n",
              "          const docLink = document.createElement('div');\n",
              "          docLink.innerHTML = docLinkHtml;\n",
              "          element.appendChild(docLink);\n",
              "        }\n",
              "      </script>\n",
              "    </div>\n",
              "  </div>\n",
              "  "
            ],
            "text/plain": [
              "          ID  Gender Ever_Married  ...  Family_Size  Var_1 Segmentation\n",
              "0     462809    Male           No  ...          4.0  Cat_4            D\n",
              "1     462643  Female          Yes  ...          3.0  Cat_4            A\n",
              "2     466315  Female          Yes  ...          1.0  Cat_6            B\n",
              "3     461735    Male          Yes  ...          2.0  Cat_6            B\n",
              "4     462669  Female          Yes  ...          6.0  Cat_6            A\n",
              "...      ...     ...          ...  ...          ...    ...          ...\n",
              "8063  464018    Male           No  ...          7.0  Cat_1            D\n",
              "8064  464685    Male           No  ...          4.0  Cat_4            D\n",
              "8065  465406  Female           No  ...          1.0  Cat_6            D\n",
              "8066  467299  Female           No  ...          4.0  Cat_6            B\n",
              "8067  461879    Male          Yes  ...          3.0  Cat_4            B\n",
              "\n",
              "[8068 rows x 11 columns]"
            ]
          },
          "metadata": {},
          "execution_count": 52
        }
      ]
    },
    {
      "cell_type": "code",
      "source": [
        "#print test data\n",
        "df_test"
      ],
      "metadata": {
        "colab": {
          "base_uri": "https://localhost:8080/",
          "height": 424
        },
        "id": "GB0_33Pc6ILt",
        "outputId": "750cf493-80fd-412e-8c0a-ed78aeeec77f"
      },
      "execution_count": 53,
      "outputs": [
        {
          "output_type": "execute_result",
          "data": {
            "text/html": [
              "\n",
              "  <div id=\"df-a961bdb0-4813-4f9d-b081-64feab3e6d67\">\n",
              "    <div class=\"colab-df-container\">\n",
              "      <div>\n",
              "<style scoped>\n",
              "    .dataframe tbody tr th:only-of-type {\n",
              "        vertical-align: middle;\n",
              "    }\n",
              "\n",
              "    .dataframe tbody tr th {\n",
              "        vertical-align: top;\n",
              "    }\n",
              "\n",
              "    .dataframe thead th {\n",
              "        text-align: right;\n",
              "    }\n",
              "</style>\n",
              "<table border=\"1\" class=\"dataframe\">\n",
              "  <thead>\n",
              "    <tr style=\"text-align: right;\">\n",
              "      <th></th>\n",
              "      <th>ID</th>\n",
              "      <th>Gender</th>\n",
              "      <th>Ever_Married</th>\n",
              "      <th>Age</th>\n",
              "      <th>Graduated</th>\n",
              "      <th>Profession</th>\n",
              "      <th>Work_Experience</th>\n",
              "      <th>Spending_Score</th>\n",
              "      <th>Family_Size</th>\n",
              "      <th>Var_1</th>\n",
              "      <th>Segmentation</th>\n",
              "    </tr>\n",
              "  </thead>\n",
              "  <tbody>\n",
              "    <tr>\n",
              "      <th>0</th>\n",
              "      <td>458989</td>\n",
              "      <td>Female</td>\n",
              "      <td>Yes</td>\n",
              "      <td>36</td>\n",
              "      <td>Yes</td>\n",
              "      <td>Engineer</td>\n",
              "      <td>0.0</td>\n",
              "      <td>Low</td>\n",
              "      <td>1.0</td>\n",
              "      <td>Cat_6</td>\n",
              "      <td>B</td>\n",
              "    </tr>\n",
              "    <tr>\n",
              "      <th>1</th>\n",
              "      <td>458994</td>\n",
              "      <td>Male</td>\n",
              "      <td>Yes</td>\n",
              "      <td>37</td>\n",
              "      <td>Yes</td>\n",
              "      <td>Healthcare</td>\n",
              "      <td>8.0</td>\n",
              "      <td>Average</td>\n",
              "      <td>4.0</td>\n",
              "      <td>Cat_6</td>\n",
              "      <td>A</td>\n",
              "    </tr>\n",
              "    <tr>\n",
              "      <th>2</th>\n",
              "      <td>458996</td>\n",
              "      <td>Female</td>\n",
              "      <td>Yes</td>\n",
              "      <td>69</td>\n",
              "      <td>No</td>\n",
              "      <td>NaN</td>\n",
              "      <td>0.0</td>\n",
              "      <td>Low</td>\n",
              "      <td>1.0</td>\n",
              "      <td>Cat_6</td>\n",
              "      <td>A</td>\n",
              "    </tr>\n",
              "    <tr>\n",
              "      <th>3</th>\n",
              "      <td>459000</td>\n",
              "      <td>Male</td>\n",
              "      <td>Yes</td>\n",
              "      <td>59</td>\n",
              "      <td>No</td>\n",
              "      <td>Executive</td>\n",
              "      <td>11.0</td>\n",
              "      <td>High</td>\n",
              "      <td>2.0</td>\n",
              "      <td>Cat_6</td>\n",
              "      <td>B</td>\n",
              "    </tr>\n",
              "    <tr>\n",
              "      <th>4</th>\n",
              "      <td>459001</td>\n",
              "      <td>Female</td>\n",
              "      <td>No</td>\n",
              "      <td>19</td>\n",
              "      <td>No</td>\n",
              "      <td>Marketing</td>\n",
              "      <td>NaN</td>\n",
              "      <td>Low</td>\n",
              "      <td>4.0</td>\n",
              "      <td>Cat_6</td>\n",
              "      <td>A</td>\n",
              "    </tr>\n",
              "    <tr>\n",
              "      <th>...</th>\n",
              "      <td>...</td>\n",
              "      <td>...</td>\n",
              "      <td>...</td>\n",
              "      <td>...</td>\n",
              "      <td>...</td>\n",
              "      <td>...</td>\n",
              "      <td>...</td>\n",
              "      <td>...</td>\n",
              "      <td>...</td>\n",
              "      <td>...</td>\n",
              "      <td>...</td>\n",
              "    </tr>\n",
              "    <tr>\n",
              "      <th>2622</th>\n",
              "      <td>467954</td>\n",
              "      <td>Male</td>\n",
              "      <td>No</td>\n",
              "      <td>29</td>\n",
              "      <td>No</td>\n",
              "      <td>Healthcare</td>\n",
              "      <td>9.0</td>\n",
              "      <td>Low</td>\n",
              "      <td>4.0</td>\n",
              "      <td>Cat_6</td>\n",
              "      <td>B</td>\n",
              "    </tr>\n",
              "    <tr>\n",
              "      <th>2623</th>\n",
              "      <td>467958</td>\n",
              "      <td>Female</td>\n",
              "      <td>No</td>\n",
              "      <td>35</td>\n",
              "      <td>Yes</td>\n",
              "      <td>Doctor</td>\n",
              "      <td>1.0</td>\n",
              "      <td>Low</td>\n",
              "      <td>1.0</td>\n",
              "      <td>Cat_6</td>\n",
              "      <td>A</td>\n",
              "    </tr>\n",
              "    <tr>\n",
              "      <th>2624</th>\n",
              "      <td>467960</td>\n",
              "      <td>Female</td>\n",
              "      <td>No</td>\n",
              "      <td>53</td>\n",
              "      <td>Yes</td>\n",
              "      <td>Entertainment</td>\n",
              "      <td>NaN</td>\n",
              "      <td>Low</td>\n",
              "      <td>2.0</td>\n",
              "      <td>Cat_6</td>\n",
              "      <td>C</td>\n",
              "    </tr>\n",
              "    <tr>\n",
              "      <th>2625</th>\n",
              "      <td>467961</td>\n",
              "      <td>Male</td>\n",
              "      <td>Yes</td>\n",
              "      <td>47</td>\n",
              "      <td>Yes</td>\n",
              "      <td>Executive</td>\n",
              "      <td>1.0</td>\n",
              "      <td>High</td>\n",
              "      <td>5.0</td>\n",
              "      <td>Cat_4</td>\n",
              "      <td>C</td>\n",
              "    </tr>\n",
              "    <tr>\n",
              "      <th>2626</th>\n",
              "      <td>467968</td>\n",
              "      <td>Female</td>\n",
              "      <td>No</td>\n",
              "      <td>43</td>\n",
              "      <td>Yes</td>\n",
              "      <td>Healthcare</td>\n",
              "      <td>9.0</td>\n",
              "      <td>Low</td>\n",
              "      <td>3.0</td>\n",
              "      <td>Cat_7</td>\n",
              "      <td>A</td>\n",
              "    </tr>\n",
              "  </tbody>\n",
              "</table>\n",
              "<p>2627 rows × 11 columns</p>\n",
              "</div>\n",
              "      <button class=\"colab-df-convert\" onclick=\"convertToInteractive('df-a961bdb0-4813-4f9d-b081-64feab3e6d67')\"\n",
              "              title=\"Convert this dataframe to an interactive table.\"\n",
              "              style=\"display:none;\">\n",
              "        \n",
              "  <svg xmlns=\"http://www.w3.org/2000/svg\" height=\"24px\"viewBox=\"0 0 24 24\"\n",
              "       width=\"24px\">\n",
              "    <path d=\"M0 0h24v24H0V0z\" fill=\"none\"/>\n",
              "    <path d=\"M18.56 5.44l.94 2.06.94-2.06 2.06-.94-2.06-.94-.94-2.06-.94 2.06-2.06.94zm-11 1L8.5 8.5l.94-2.06 2.06-.94-2.06-.94L8.5 2.5l-.94 2.06-2.06.94zm10 10l.94 2.06.94-2.06 2.06-.94-2.06-.94-.94-2.06-.94 2.06-2.06.94z\"/><path d=\"M17.41 7.96l-1.37-1.37c-.4-.4-.92-.59-1.43-.59-.52 0-1.04.2-1.43.59L10.3 9.45l-7.72 7.72c-.78.78-.78 2.05 0 2.83L4 21.41c.39.39.9.59 1.41.59.51 0 1.02-.2 1.41-.59l7.78-7.78 2.81-2.81c.8-.78.8-2.07 0-2.86zM5.41 20L4 18.59l7.72-7.72 1.47 1.35L5.41 20z\"/>\n",
              "  </svg>\n",
              "      </button>\n",
              "      \n",
              "  <style>\n",
              "    .colab-df-container {\n",
              "      display:flex;\n",
              "      flex-wrap:wrap;\n",
              "      gap: 12px;\n",
              "    }\n",
              "\n",
              "    .colab-df-convert {\n",
              "      background-color: #E8F0FE;\n",
              "      border: none;\n",
              "      border-radius: 50%;\n",
              "      cursor: pointer;\n",
              "      display: none;\n",
              "      fill: #1967D2;\n",
              "      height: 32px;\n",
              "      padding: 0 0 0 0;\n",
              "      width: 32px;\n",
              "    }\n",
              "\n",
              "    .colab-df-convert:hover {\n",
              "      background-color: #E2EBFA;\n",
              "      box-shadow: 0px 1px 2px rgba(60, 64, 67, 0.3), 0px 1px 3px 1px rgba(60, 64, 67, 0.15);\n",
              "      fill: #174EA6;\n",
              "    }\n",
              "\n",
              "    [theme=dark] .colab-df-convert {\n",
              "      background-color: #3B4455;\n",
              "      fill: #D2E3FC;\n",
              "    }\n",
              "\n",
              "    [theme=dark] .colab-df-convert:hover {\n",
              "      background-color: #434B5C;\n",
              "      box-shadow: 0px 1px 3px 1px rgba(0, 0, 0, 0.15);\n",
              "      filter: drop-shadow(0px 1px 2px rgba(0, 0, 0, 0.3));\n",
              "      fill: #FFFFFF;\n",
              "    }\n",
              "  </style>\n",
              "\n",
              "      <script>\n",
              "        const buttonEl =\n",
              "          document.querySelector('#df-a961bdb0-4813-4f9d-b081-64feab3e6d67 button.colab-df-convert');\n",
              "        buttonEl.style.display =\n",
              "          google.colab.kernel.accessAllowed ? 'block' : 'none';\n",
              "\n",
              "        async function convertToInteractive(key) {\n",
              "          const element = document.querySelector('#df-a961bdb0-4813-4f9d-b081-64feab3e6d67');\n",
              "          const dataTable =\n",
              "            await google.colab.kernel.invokeFunction('convertToInteractive',\n",
              "                                                     [key], {});\n",
              "          if (!dataTable) return;\n",
              "\n",
              "          const docLinkHtml = 'Like what you see? Visit the ' +\n",
              "            '<a target=\"_blank\" href=https://colab.research.google.com/notebooks/data_table.ipynb>data table notebook</a>'\n",
              "            + ' to learn more about interactive tables.';\n",
              "          element.innerHTML = '';\n",
              "          dataTable['output_type'] = 'display_data';\n",
              "          await google.colab.output.renderOutput(dataTable, element);\n",
              "          const docLink = document.createElement('div');\n",
              "          docLink.innerHTML = docLinkHtml;\n",
              "          element.appendChild(docLink);\n",
              "        }\n",
              "      </script>\n",
              "    </div>\n",
              "  </div>\n",
              "  "
            ],
            "text/plain": [
              "          ID  Gender Ever_Married  ...  Family_Size  Var_1 Segmentation\n",
              "0     458989  Female          Yes  ...          1.0  Cat_6            B\n",
              "1     458994    Male          Yes  ...          4.0  Cat_6            A\n",
              "2     458996  Female          Yes  ...          1.0  Cat_6            A\n",
              "3     459000    Male          Yes  ...          2.0  Cat_6            B\n",
              "4     459001  Female           No  ...          4.0  Cat_6            A\n",
              "...      ...     ...          ...  ...          ...    ...          ...\n",
              "2622  467954    Male           No  ...          4.0  Cat_6            B\n",
              "2623  467958  Female           No  ...          1.0  Cat_6            A\n",
              "2624  467960  Female           No  ...          2.0  Cat_6            C\n",
              "2625  467961    Male          Yes  ...          5.0  Cat_4            C\n",
              "2626  467968  Female           No  ...          3.0  Cat_7            A\n",
              "\n",
              "[2627 rows x 11 columns]"
            ]
          },
          "metadata": {},
          "execution_count": 53
        }
      ]
    },
    {
      "cell_type": "code",
      "source": [
        "#dataset info and summary\n",
        "df_train.info()"
      ],
      "metadata": {
        "colab": {
          "base_uri": "https://localhost:8080/"
        },
        "id": "K9MQRzAG6LhA",
        "outputId": "e5f4ef6a-da21-40d0-9366-6dbee9e18f39"
      },
      "execution_count": 54,
      "outputs": [
        {
          "output_type": "stream",
          "name": "stdout",
          "text": [
            "<class 'pandas.core.frame.DataFrame'>\n",
            "RangeIndex: 8068 entries, 0 to 8067\n",
            "Data columns (total 11 columns):\n",
            " #   Column           Non-Null Count  Dtype  \n",
            "---  ------           --------------  -----  \n",
            " 0   ID               8068 non-null   int64  \n",
            " 1   Gender           8068 non-null   object \n",
            " 2   Ever_Married     7928 non-null   object \n",
            " 3   Age              8068 non-null   int64  \n",
            " 4   Graduated        7990 non-null   object \n",
            " 5   Profession       7944 non-null   object \n",
            " 6   Work_Experience  7239 non-null   float64\n",
            " 7   Spending_Score   8068 non-null   object \n",
            " 8   Family_Size      7733 non-null   float64\n",
            " 9   Var_1            7992 non-null   object \n",
            " 10  Segmentation     8068 non-null   object \n",
            "dtypes: float64(2), int64(2), object(7)\n",
            "memory usage: 693.5+ KB\n"
          ]
        }
      ]
    },
    {
      "cell_type": "code",
      "source": [
        "# drop non-essential columns\n",
        "df_train.drop(['ID','Var_1'], axis=1, inplace=True)\n",
        "df_test.drop(['ID','Var_1'], axis=1, inplace=True)"
      ],
      "metadata": {
        "id": "xbKabKJy7Hv7"
      },
      "execution_count": 55,
      "outputs": []
    },
    {
      "cell_type": "code",
      "source": [
        "# Check to see if there are any missing values\n",
        "df_train.isnull().sum()"
      ],
      "metadata": {
        "colab": {
          "base_uri": "https://localhost:8080/"
        },
        "id": "7lxrmUom7Lrq",
        "outputId": "55c9c82d-094a-462a-a3de-11792942ef25"
      },
      "execution_count": 56,
      "outputs": [
        {
          "output_type": "execute_result",
          "data": {
            "text/plain": [
              "Gender               0\n",
              "Ever_Married       140\n",
              "Age                  0\n",
              "Graduated           78\n",
              "Profession         124\n",
              "Work_Experience    829\n",
              "Spending_Score       0\n",
              "Family_Size        335\n",
              "Segmentation         0\n",
              "dtype: int64"
            ]
          },
          "metadata": {},
          "execution_count": 56
        }
      ]
    },
    {
      "cell_type": "markdown",
      "source": [
        "This is showing that imputation is required for the following clumns: Ever_Married, Graduated, Profession, Work_Experience, Family_Size"
      ],
      "metadata": {
        "id": "xCvRDs1X7cV-"
      }
    },
    {
      "cell_type": "code",
      "source": [
        "df_train.dtypes"
      ],
      "metadata": {
        "colab": {
          "base_uri": "https://localhost:8080/"
        },
        "id": "dkjHoXWv7Z8z",
        "outputId": "6a773f23-bdba-4ff3-b860-9e379ca4e959"
      },
      "execution_count": 57,
      "outputs": [
        {
          "output_type": "execute_result",
          "data": {
            "text/plain": [
              "Gender              object\n",
              "Ever_Married        object\n",
              "Age                  int64\n",
              "Graduated           object\n",
              "Profession          object\n",
              "Work_Experience    float64\n",
              "Spending_Score      object\n",
              "Family_Size        float64\n",
              "Segmentation        object\n",
              "dtype: object"
            ]
          },
          "metadata": {},
          "execution_count": 57
        }
      ]
    },
    {
      "cell_type": "code",
      "source": [
        "# Split target from features\n",
        "X_train = df_train.drop(['Segmentation'], axis=1)\n",
        "Y_train = df_train['Segmentation']\n",
        "X_test = df_test.drop(['Segmentation'], axis=1)\n",
        "Y_test = df_test['Segmentation']"
      ],
      "metadata": {
        "id": "Dk5V7nKj7wu1"
      },
      "execution_count": 58,
      "outputs": []
    },
    {
      "cell_type": "code",
      "source": [
        "X_cat =X_train.drop(columns = ['Age','Work_Experience','Family_Size']) #dropping numeric cols\n",
        "\n",
        "figure, axes = plt.subplots(2, 3, figsize=(15, 10))\n",
        "\n",
        "# function to help display subplots \n",
        "\n",
        "classIndex = 0;\n",
        "\n",
        "for row in range(3):\n",
        "  for col in range(3):\n",
        "    if classIndex == 5: \n",
        "      break\n",
        "    ct1 = pd.crosstab(Y_train[:], X_cat[X_cat.columns[classIndex]])\n",
        "    ct1.plot.bar(ax = axes[row][col])\n",
        "    classIndex += 1\n",
        "    \n",
        "\n",
        "plt.show()\n"
      ],
      "metadata": {
        "colab": {
          "base_uri": "https://localhost:8080/",
          "height": 603
        },
        "id": "RziD6eg27-mb",
        "outputId": "efad1d7e-9537-421f-b029-36e1a3366280"
      },
      "execution_count": 59,
      "outputs": [
        {
          "output_type": "display_data",
          "data": {
            "image/png": "[encoded data removed]",
            "text/plain": [
              "<Figure size 1080x720 with 6 Axes>"
            ]
          },
          "metadata": {
            "needs_background": "light"
          }
        }
      ]
    },
    {
      "cell_type": "markdown",
      "source": [
        "Ever_married- segment A,B,C favour married while D favours unmarried.\n",
        "\n",
        "Graduate - segment A,B,C favour graduates while D favours non graduates.\n",
        "\n",
        "Profession: Segments A,B,C favourArtist while D favour healthcare\n",
        "\n",
        "Spending_Score/ segmentation: segment A and D favour low spenders."
      ],
      "metadata": {
        "id": "W8sFZtEH--jv"
      }
    },
    {
      "cell_type": "code",
      "source": [
        "ax = sns.boxplot(x='Segmentation', y='Age', data=df_train)"
      ],
      "metadata": {
        "colab": {
          "base_uri": "https://localhost:8080/",
          "height": 279
        },
        "id": "nH3drvL6-8nC",
        "outputId": "68781296-f7e6-416d-d401-8fee1fd49dd1"
      },
      "execution_count": 60,
      "outputs": [
        {
          "output_type": "display_data",
          "data": {
            "image/png": "[encoded data removed]",
            "text/plain": [
              "<Figure size 432x288 with 1 Axes>"
            ]
          },
          "metadata": {
            "needs_background": "light"
          }
        }
      ]
    },
    {
      "cell_type": "code",
      "source": [
        "sns.boxplot(x='Segmentation', y='Age', data=df_train)"
      ],
      "metadata": {
        "colab": {
          "base_uri": "https://localhost:8080/",
          "height": 296
        },
        "id": "nhJAs0v7_Lk8",
        "outputId": "ca103835-1ec8-4b39-ae72-e9cb6132cf9f"
      },
      "execution_count": 61,
      "outputs": [
        {
          "output_type": "execute_result",
          "data": {
            "text/plain": [
              "<matplotlib.axes._subplots.AxesSubplot at 0x7f5e357c90d0>"
            ]
          },
          "metadata": {},
          "execution_count": 61
        },
        {
          "output_type": "display_data",
          "data": {
            "image/png": "[encoded data removed]",
            "text/plain": [
              "<Figure size 432x288 with 1 Axes>"
            ]
          },
          "metadata": {
            "needs_background": "light"
          }
        }
      ]
    },
    {
      "cell_type": "code",
      "source": [
        "sns.boxplot(x='Segmentation', y='Work_Experience', data=df_train)"
      ],
      "metadata": {
        "colab": {
          "base_uri": "https://localhost:8080/",
          "height": 296
        },
        "id": "2ZKPqbrp_uQA",
        "outputId": "e503b260-aede-4b74-8ae5-477f9d24ecb1"
      },
      "execution_count": 62,
      "outputs": [
        {
          "output_type": "execute_result",
          "data": {
            "text/plain": [
              "<matplotlib.axes._subplots.AxesSubplot at 0x7f5e35725050>"
            ]
          },
          "metadata": {},
          "execution_count": 62
        },
        {
          "output_type": "display_data",
          "data": {
            "image/png": "[encoded data removed]",
            "text/plain": [
              "<Figure size 432x288 with 1 Axes>"
            ]
          },
          "metadata": {
            "needs_background": "light"
          }
        }
      ]
    },
    {
      "cell_type": "code",
      "source": [
        "sns.boxplot(x='Segmentation', y='Family_Size', data=df_train)"
      ],
      "metadata": {
        "colab": {
          "base_uri": "https://localhost:8080/",
          "height": 296
        },
        "id": "hYKax1CZ_7hR",
        "outputId": "fbc8eb01-265e-4bfb-981e-375785124631"
      },
      "execution_count": 63,
      "outputs": [
        {
          "output_type": "execute_result",
          "data": {
            "text/plain": [
              "<matplotlib.axes._subplots.AxesSubplot at 0x7f5e356a3b10>"
            ]
          },
          "metadata": {},
          "execution_count": 63
        },
        {
          "output_type": "display_data",
          "data": {
            "image/png": "[encoded data removed]",
            "text/plain": [
              "<Figure size 432x288 with 1 Axes>"
            ]
          },
          "metadata": {
            "needs_background": "light"
          }
        }
      ]
    },
    {
      "cell_type": "markdown",
      "source": [
        "\n",
        "As correlation doesnt work on categorical data, we need to do some preprocessing on input data to get peason correlation."
      ],
      "metadata": {
        "id": "sqvd6InYACDQ"
      }
    },
    {
      "cell_type": "code",
      "source": [
        "# function for prelim processing of Categorical data and numerical data\n",
        "\n",
        "from sklearn.impute import SimpleImputer, KNNImputer\n",
        "from sklearn.preprocessing import OneHotEncoder, StandardScaler, OrdinalEncoder, MinMaxScaler\n",
        "\n",
        "def prelim_process_cat (column):  \n",
        "  imputer = SimpleImputer(strategy='most_frequent')\n",
        "  imputer.fit(column)\n",
        "  imputed_data = imputer.transform(column)\n",
        "  \n",
        "  #  encode categorical values\n",
        "  encoder = OrdinalEncoder()\n",
        "  encoder.fit(imputed_data)\n",
        "  return encoder.transform(imputed_data)\n",
        "\n",
        "def prelim_process_num (column):  \n",
        "  imputer = SimpleImputer(strategy='most_frequent')\n",
        "  imputer.fit(column)\n",
        "  return imputer.transform(column)\n",
        "\n",
        "# Categorical Values\n",
        "cat_cols = ['Gender', 'Ever_Married', 'Graduated', 'Profession', 'Spending_Score', 'Segmentation'];\n",
        "# for each categorical col,impute and encode\n",
        "for col in cat_cols:\n",
        "  df_train[col] = prelim_process_cat(pd.DataFrame(df_train[col]))\n",
        "\n",
        "#Impute Numerical values \n",
        "num_cols=['Age','Work_Experience','Family_Size']\n",
        "for col in num_cols:\n",
        "  df_train[col] = prelim_process_num(pd.DataFrame(df_train[col]))"
      ],
      "metadata": {
        "id": "nezyzIHx_9AP"
      },
      "execution_count": 64,
      "outputs": []
    },
    {
      "cell_type": "code",
      "source": [
        "df_train.describe()"
      ],
      "metadata": {
        "colab": {
          "base_uri": "https://localhost:8080/",
          "height": 300
        },
        "id": "iSajdkZkAitl",
        "outputId": "2a212a99-b933-419a-b50f-dcc5fdcf7a78"
      },
      "execution_count": 65,
      "outputs": [
        {
          "output_type": "execute_result",
          "data": {
            "text/html": [
              "\n",
              "  <div id=\"df-367be943-5b4a-48bb-94de-107351d6da2d\">\n",
              "    <div class=\"colab-df-container\">\n",
              "      <div>\n",
              "<style scoped>\n",
              "    .dataframe tbody tr th:only-of-type {\n",
              "        vertical-align: middle;\n",
              "    }\n",
              "\n",
              "    .dataframe tbody tr th {\n",
              "        vertical-align: top;\n",
              "    }\n",
              "\n",
              "    .dataframe thead th {\n",
              "        text-align: right;\n",
              "    }\n",
              "</style>\n",
              "<table border=\"1\" class=\"dataframe\">\n",
              "  <thead>\n",
              "    <tr style=\"text-align: right;\">\n",
              "      <th></th>\n",
              "      <th>Gender</th>\n",
              "      <th>Ever_Married</th>\n",
              "      <th>Age</th>\n",
              "      <th>Graduated</th>\n",
              "      <th>Profession</th>\n",
              "      <th>Work_Experience</th>\n",
              "      <th>Spending_Score</th>\n",
              "      <th>Family_Size</th>\n",
              "      <th>Segmentation</th>\n",
              "    </tr>\n",
              "  </thead>\n",
              "  <tbody>\n",
              "    <tr>\n",
              "      <th>count</th>\n",
              "      <td>8068.000000</td>\n",
              "      <td>8068.000000</td>\n",
              "      <td>8068.000000</td>\n",
              "      <td>8068.000000</td>\n",
              "      <td>8068.000000</td>\n",
              "      <td>8068.000000</td>\n",
              "      <td>8068.000000</td>\n",
              "      <td>8068.000000</td>\n",
              "      <td>8068.000000</td>\n",
              "    </tr>\n",
              "    <tr>\n",
              "      <th>mean</th>\n",
              "      <td>0.547471</td>\n",
              "      <td>0.592836</td>\n",
              "      <td>43.466906</td>\n",
              "      <td>0.625434</td>\n",
              "      <td>2.746901</td>\n",
              "      <td>2.472980</td>\n",
              "      <td>1.359941</td>\n",
              "      <td>2.814824</td>\n",
              "      <td>1.561973</td>\n",
              "    </tr>\n",
              "    <tr>\n",
              "      <th>std</th>\n",
              "      <td>0.497772</td>\n",
              "      <td>0.491336</td>\n",
              "      <td>16.711696</td>\n",
              "      <td>0.484041</td>\n",
              "      <td>2.541418</td>\n",
              "      <td>3.265248</td>\n",
              "      <td>0.848418</td>\n",
              "      <td>1.508841</td>\n",
              "      <td>1.139029</td>\n",
              "    </tr>\n",
              "    <tr>\n",
              "      <th>min</th>\n",
              "      <td>0.000000</td>\n",
              "      <td>0.000000</td>\n",
              "      <td>18.000000</td>\n",
              "      <td>0.000000</td>\n",
              "      <td>0.000000</td>\n",
              "      <td>0.000000</td>\n",
              "      <td>0.000000</td>\n",
              "      <td>1.000000</td>\n",
              "      <td>0.000000</td>\n",
              "    </tr>\n",
              "    <tr>\n",
              "      <th>25%</th>\n",
              "      <td>0.000000</td>\n",
              "      <td>0.000000</td>\n",
              "      <td>30.000000</td>\n",
              "      <td>0.000000</td>\n",
              "      <td>0.000000</td>\n",
              "      <td>0.000000</td>\n",
              "      <td>1.000000</td>\n",
              "      <td>2.000000</td>\n",
              "      <td>1.000000</td>\n",
              "    </tr>\n",
              "    <tr>\n",
              "      <th>50%</th>\n",
              "      <td>1.000000</td>\n",
              "      <td>1.000000</td>\n",
              "      <td>40.000000</td>\n",
              "      <td>1.000000</td>\n",
              "      <td>3.000000</td>\n",
              "      <td>1.000000</td>\n",
              "      <td>2.000000</td>\n",
              "      <td>2.000000</td>\n",
              "      <td>2.000000</td>\n",
              "    </tr>\n",
              "    <tr>\n",
              "      <th>75%</th>\n",
              "      <td>1.000000</td>\n",
              "      <td>1.000000</td>\n",
              "      <td>53.000000</td>\n",
              "      <td>1.000000</td>\n",
              "      <td>5.000000</td>\n",
              "      <td>4.000000</td>\n",
              "      <td>2.000000</td>\n",
              "      <td>4.000000</td>\n",
              "      <td>3.000000</td>\n",
              "    </tr>\n",
              "    <tr>\n",
              "      <th>max</th>\n",
              "      <td>1.000000</td>\n",
              "      <td>1.000000</td>\n",
              "      <td>89.000000</td>\n",
              "      <td>1.000000</td>\n",
              "      <td>8.000000</td>\n",
              "      <td>14.000000</td>\n",
              "      <td>2.000000</td>\n",
              "      <td>9.000000</td>\n",
              "      <td>3.000000</td>\n",
              "    </tr>\n",
              "  </tbody>\n",
              "</table>\n",
              "</div>\n",
              "      <button class=\"colab-df-convert\" onclick=\"convertToInteractive('df-367be943-5b4a-48bb-94de-107351d6da2d')\"\n",
              "              title=\"Convert this dataframe to an interactive table.\"\n",
              "              style=\"display:none;\">\n",
              "        \n",
              "  <svg xmlns=\"http://www.w3.org/2000/svg\" height=\"24px\"viewBox=\"0 0 24 24\"\n",
              "       width=\"24px\">\n",
              "    <path d=\"M0 0h24v24H0V0z\" fill=\"none\"/>\n",
              "    <path d=\"M18.56 5.44l.94 2.06.94-2.06 2.06-.94-2.06-.94-.94-2.06-.94 2.06-2.06.94zm-11 1L8.5 8.5l.94-2.06 2.06-.94-2.06-.94L8.5 2.5l-.94 2.06-2.06.94zm10 10l.94 2.06.94-2.06 2.06-.94-2.06-.94-.94-2.06-.94 2.06-2.06.94z\"/><path d=\"M17.41 7.96l-1.37-1.37c-.4-.4-.92-.59-1.43-.59-.52 0-1.04.2-1.43.59L10.3 9.45l-7.72 7.72c-.78.78-.78 2.05 0 2.83L4 21.41c.39.39.9.59 1.41.59.51 0 1.02-.2 1.41-.59l7.78-7.78 2.81-2.81c.8-.78.8-2.07 0-2.86zM5.41 20L4 18.59l7.72-7.72 1.47 1.35L5.41 20z\"/>\n",
              "  </svg>\n",
              "      </button>\n",
              "      \n",
              "  <style>\n",
              "    .colab-df-container {\n",
              "      display:flex;\n",
              "      flex-wrap:wrap;\n",
              "      gap: 12px;\n",
              "    }\n",
              "\n",
              "    .colab-df-convert {\n",
              "      background-color: #E8F0FE;\n",
              "      border: none;\n",
              "      border-radius: 50%;\n",
              "      cursor: pointer;\n",
              "      display: none;\n",
              "      fill: #1967D2;\n",
              "      height: 32px;\n",
              "      padding: 0 0 0 0;\n",
              "      width: 32px;\n",
              "    }\n",
              "\n",
              "    .colab-df-convert:hover {\n",
              "      background-color: #E2EBFA;\n",
              "      box-shadow: 0px 1px 2px rgba(60, 64, 67, 0.3), 0px 1px 3px 1px rgba(60, 64, 67, 0.15);\n",
              "      fill: #174EA6;\n",
              "    }\n",
              "\n",
              "    [theme=dark] .colab-df-convert {\n",
              "      background-color: #3B4455;\n",
              "      fill: #D2E3FC;\n",
              "    }\n",
              "\n",
              "    [theme=dark] .colab-df-convert:hover {\n",
              "      background-color: #434B5C;\n",
              "      box-shadow: 0px 1px 3px 1px rgba(0, 0, 0, 0.15);\n",
              "      filter: drop-shadow(0px 1px 2px rgba(0, 0, 0, 0.3));\n",
              "      fill: #FFFFFF;\n",
              "    }\n",
              "  </style>\n",
              "\n",
              "      <script>\n",
              "        const buttonEl =\n",
              "          document.querySelector('#df-367be943-5b4a-48bb-94de-107351d6da2d button.colab-df-convert');\n",
              "        buttonEl.style.display =\n",
              "          google.colab.kernel.accessAllowed ? 'block' : 'none';\n",
              "\n",
              "        async function convertToInteractive(key) {\n",
              "          const element = document.querySelector('#df-367be943-5b4a-48bb-94de-107351d6da2d');\n",
              "          const dataTable =\n",
              "            await google.colab.kernel.invokeFunction('convertToInteractive',\n",
              "                                                     [key], {});\n",
              "          if (!dataTable) return;\n",
              "\n",
              "          const docLinkHtml = 'Like what you see? Visit the ' +\n",
              "            '<a target=\"_blank\" href=https://colab.research.google.com/notebooks/data_table.ipynb>data table notebook</a>'\n",
              "            + ' to learn more about interactive tables.';\n",
              "          element.innerHTML = '';\n",
              "          dataTable['output_type'] = 'display_data';\n",
              "          await google.colab.output.renderOutput(dataTable, element);\n",
              "          const docLink = document.createElement('div');\n",
              "          docLink.innerHTML = docLinkHtml;\n",
              "          element.appendChild(docLink);\n",
              "        }\n",
              "      </script>\n",
              "    </div>\n",
              "  </div>\n",
              "  "
            ],
            "text/plain": [
              "            Gender  Ever_Married  ...  Family_Size  Segmentation\n",
              "count  8068.000000   8068.000000  ...  8068.000000   8068.000000\n",
              "mean      0.547471      0.592836  ...     2.814824      1.561973\n",
              "std       0.497772      0.491336  ...     1.508841      1.139029\n",
              "min       0.000000      0.000000  ...     1.000000      0.000000\n",
              "25%       0.000000      0.000000  ...     2.000000      1.000000\n",
              "50%       1.000000      1.000000  ...     2.000000      2.000000\n",
              "75%       1.000000      1.000000  ...     4.000000      3.000000\n",
              "max       1.000000      1.000000  ...     9.000000      3.000000\n",
              "\n",
              "[8 rows x 9 columns]"
            ]
          },
          "metadata": {},
          "execution_count": 65
        }
      ]
    },
    {
      "cell_type": "code",
      "source": [
        "corr_matrix=df_train.corr()\n",
        "plt.figure(figsize=(20,10))\n",
        "sns.heatmap(corr_matrix,annot=True,cmap='Pastel1', vmin=-1, vmax=+1)"
      ],
      "metadata": {
        "colab": {
          "base_uri": "https://localhost:8080/",
          "height": 613
        },
        "id": "T9IFKfX6A0_a",
        "outputId": "2ab4cbe8-8e10-47fb-f3c9-f7c08f122869"
      },
      "execution_count": 66,
      "outputs": [
        {
          "output_type": "execute_result",
          "data": {
            "text/plain": [
              "<matplotlib.axes._subplots.AxesSubplot at 0x7f5e35bbe390>"
            ]
          },
          "metadata": {},
          "execution_count": 66
        },
        {
          "output_type": "display_data",
          "data": {
            "image/png": "[encoded data removed]",
            "text/plain": [
              "<Figure size 1440x720 with 2 Axes>"
            ]
          },
          "metadata": {
            "needs_background": "light"
          }
        }
      ]
    },
    {
      "cell_type": "markdown",
      "source": [
        "We may deduce from the heatmap that Profession and Family Size are similarly substantially associated to goal, with a positive corelation.\n",
        "Customer age has a high relationship with target class (segmentation), and the relationship is inverse, meaning that the younger the customer, the more likely they are to be categorized in a specific class."
      ],
      "metadata": {
        "id": "LnHaMrWNBrpQ"
      }
    },
    {
      "cell_type": "markdown",
      "source": [
        "###Creating Pipelines"
      ],
      "metadata": {
        "id": "ZwBdl8y3B8py"
      }
    },
    {
      "cell_type": "code",
      "source": [
        "# Columntransformer for preprocessing \n",
        "\n",
        "from sklearn.compose import ColumnTransformer\n",
        "from sklearn.pipeline import Pipeline, make_pipeline\n",
        "from sklearn.impute import SimpleImputer, KNNImputer\n",
        "from sklearn.preprocessing import StandardScaler, OrdinalEncoder\n",
        "\n",
        "\n",
        "#pipeline for the categoric attributes\n",
        "\n",
        "cat_cols = [\"Gender\", \"Ever_Married\", \"Graduated\", \"Profession\", \"Spending_Score\"]\n",
        "\n",
        "cat_transformer = Pipeline(steps=[\n",
        "    ('imputer', SimpleImputer(strategy='most_frequent')),\n",
        "    ('ordinal', OrdinalEncoder())\n",
        "])\n",
        "\n",
        "\n",
        "\n",
        "# pipeline for the numeric attributes\n",
        "num_cols = ['Age', 'Family_Size', 'Work_Experience']\n",
        "\n",
        "num_transformer = Pipeline(steps=[\n",
        "    ('imputer', KNNImputer(n_neighbors=5)),\n",
        "    ('scaler', StandardScaler())\n",
        "])\n",
        "\n",
        "\n",
        "#applying column transformations\n",
        "preprocessor = ColumnTransformer(\n",
        "    transformers=[\n",
        "        ('num', num_transformer, num_cols),\n",
        "        ('cat', cat_transformer, cat_cols)\n",
        "    ])"
      ],
      "metadata": {
        "id": "iFzE1d9tBG9c"
      },
      "execution_count": 67,
      "outputs": []
    },
    {
      "cell_type": "code",
      "source": [
        "from sklearn.model_selection import train_test_split, cross_val_score, GridSearchCV\n",
        "from sklearn.tree import DecisionTreeClassifier\n",
        "from sklearn.svm import SVC\n",
        "\n",
        "num_folds = 10\n",
        "\n",
        "# A decicion tree with gini\n",
        "gini_dt_clf = Pipeline(steps=[('preprocessor', preprocessor),\n",
        "                      ('classifier', DecisionTreeClassifier(criterion='gini'))])\n",
        "\n",
        "gini_dt_score = cross_val_score(gini_dt_clf, X_train, Y_train, cv=num_folds, scoring=\"accuracy\").mean()\n",
        "\n",
        "\n",
        "# A decicion tree with entropy\n",
        "entropy_dt_clf = Pipeline(steps=[('preprocessor', preprocessor),\n",
        "                      ('classifier', DecisionTreeClassifier(criterion='entropy'))])\n",
        "\n",
        "entropy_dt_score = cross_val_score(entropy_dt_clf, X_train, Y_train, cv=num_folds, scoring=\"accuracy\").mean()\n"
      ],
      "metadata": {
        "id": "H2NFaAq6CMlP"
      },
      "execution_count": 68,
      "outputs": []
    },
    {
      "cell_type": "code",
      "source": [
        "# An RBF kernel classifier\n",
        "rbf_svc_clf = Pipeline(steps=[('preprocessor', preprocessor),\n",
        "                      ('classifier', SVC(kernel='rbf'))])\n",
        "\n",
        "rbf_svc_clf_score = cross_val_score(rbf_svc_clf, X_train, Y_train, cv=num_folds, scoring=\"accuracy\").mean()\n",
        "\n",
        "\n",
        "# Poly kernel classifier\n",
        "poly_svc_clf = Pipeline(steps=[('preprocessor', preprocessor),\n",
        "                      ('classifier', SVC(kernel='poly'))])\n",
        "\n",
        "poly_svc_clf_score = cross_val_score(poly_svc_clf, X_train, Y_train, cv=num_folds, scoring=\"accuracy\").mean()\n",
        "\n",
        "# linear kernel classifier\n",
        "linear_svc_clf = Pipeline(steps=[('preprocessor', preprocessor),\n",
        "                      ('classifier', SVC(kernel='linear'))])\n",
        "\n",
        "linear_svc_clf_score = cross_val_score(linear_svc_clf, X_train, Y_train, cv=num_folds, scoring=\"accuracy\").mean()"
      ],
      "metadata": {
        "id": "mOqL3xPuDh25"
      },
      "execution_count": 69,
      "outputs": []
    },
    {
      "cell_type": "code",
      "source": [
        "# Summarize the findings for all models\n",
        "\n",
        "labels = ['DT (Gini)', 'DT (Entropy)', 'SVC(Linear)', 'SVC (RBF)', 'SVC (Poly)']\n",
        "training_scores = [gini_dt_score, entropy_dt_score, linear_svc_clf_score, rbf_svc_clf_score, poly_svc_clf_score]\n",
        "\n",
        "x = np.arange(len(labels))\n",
        "width = 0.3\n",
        "\n",
        "fig, ax = plt.subplots()\n",
        "rects1 = ax.bar(x - width/2, training_scores, width, label='CV=10')\n",
        "\n",
        "# Add some text for labels, title and custom x-axis tick labels, etc.\n",
        "ax.set_ylabel('Accuracy')\n",
        "ax.set_xticks(x)\n",
        "ax.set_ylim(0,1)\n",
        "ax.set_xticklabels(labels)\n",
        "ax.legend(bbox_to_anchor = (1.3, 1.0))\n",
        "\n",
        "plt.title('Model Comparisons')\n",
        "plt.show()"
      ],
      "metadata": {
        "colab": {
          "base_uri": "https://localhost:8080/",
          "height": 281
        },
        "id": "xdt2xipyD6YJ",
        "outputId": "b6c7a42c-d4a8-4eea-ec1e-c44eacca5359"
      },
      "execution_count": 70,
      "outputs": [
        {
          "output_type": "display_data",
          "data": {
            "image/png": "[encoded data removed]",
            "text/plain": [
              "<Figure size 432x288 with 1 Axes>"
            ]
          },
          "metadata": {
            "needs_background": "light"
          }
        }
      ]
    },
    {
      "cell_type": "code",
      "source": [
        "# Convert the decision tree model to text and graph\n",
        "\n",
        "from sklearn.tree import export_text, export_graphviz\n",
        "import graphviz\n",
        "\n",
        "\n",
        "# deep copy of df train data\n",
        "tree_X = df_train.copy(deep=True)\n",
        "tree_y = df_train[\"Segmentation\"]\n",
        "\n",
        "# drop target and non-essential columns\n",
        "tree_X.drop(['Segmentation'], axis=1, inplace=True)\n",
        "entropy_dt_clf['classifier'].fit(preprocessor.fit_transform(tree_X), tree_y)\n",
        "\n",
        "\n",
        "# display the induced decision tree as a series of logical rules\n",
        "text_representation = export_text(entropy_dt_clf['classifier'],\n",
        "                                  feature_names=[ \"Gender\",\"Ever_Married\",\"Age\", \"Graduated\",\"Profession\" ,\"Work_Experience\",\"Spending_Score\",\"Family_Size\" ],\n",
        "                                  max_depth=2)\n",
        "print(text_representation)\n",
        "\n",
        "\n",
        "# draw the induced decision tree\n",
        "dot_data = export_graphviz(entropy_dt_clf['classifier'],\n",
        "                                  max_depth=2,\n",
        "                                  feature_names=[\"Gender\",\"Ever_Married\",\"Age\", \"Graduated\",\"Profession\" ,\"Work_Experience\",\"Spending_Score\",\"Family_Size\" ],\n",
        "                                  filled=True)\n",
        "\n",
        "graph = graphviz.Source(dot_data, format=\"png\") \n",
        "graph\n"
      ],
      "metadata": {
        "colab": {
          "base_uri": "https://localhost:8080/",
          "height": 895
        },
        "id": "ru_gPXX3Edym",
        "outputId": "8b15acfc-482d-4ba5-f21b-da8c9146502f"
      },
      "execution_count": 71,
      "outputs": [
        {
          "output_type": "stream",
          "name": "stdout",
          "text": [
            "|--- Gender <= -0.57\n",
            "|   |--- Gender <= -1.16\n",
            "|   |   |--- Spending_Score <= 4.50\n",
            "|   |   |   |--- truncated branch of depth 14\n",
            "|   |   |--- Spending_Score >  4.50\n",
            "|   |   |   |--- truncated branch of depth 14\n",
            "|   |--- Gender >  -1.16\n",
            "|   |   |--- Spending_Score <= 4.50\n",
            "|   |   |   |--- truncated branch of depth 21\n",
            "|   |   |--- Spending_Score >  4.50\n",
            "|   |   |   |--- truncated branch of depth 21\n",
            "|--- Gender >  -0.57\n",
            "|   |--- Family_Size <= 1.50\n",
            "|   |   |--- Work_Experience <= 0.50\n",
            "|   |   |   |--- truncated branch of depth 20\n",
            "|   |   |--- Work_Experience >  0.50\n",
            "|   |   |   |--- truncated branch of depth 25\n",
            "|   |--- Family_Size >  1.50\n",
            "|   |   |--- Spending_Score <= 1.50\n",
            "|   |   |   |--- truncated branch of depth 20\n",
            "|   |   |--- Spending_Score >  1.50\n",
            "|   |   |   |--- truncated branch of depth 21\n",
            "\n"
          ]
        },
        {
          "output_type": "execute_result",
          "data": {
            "text/plain": [
              "<graphviz.files.Source at 0x7f5e38266a90>"
            ],
            "image/svg+xml": "<?xml version=\"1.0\" encoding=\"UTF-8\" standalone=\"no\"?>\n<!DOCTYPE svg PUBLIC \"-//W3C//DTD SVG 1.1//EN\"\n \"http://www.w3.org/Graphics/SVG/1.1/DTD/svg11.dtd\">\n<!-- Generated by graphviz version 2.40.1 (20161225.0304)\n -->\n<!-- Title: Tree Pages: 1 -->\n<svg width=\"840pt\" height=\"356pt\"\n viewBox=\"0.00 0.00 839.50 356.00\" xmlns=\"http://www.w3.org/2000/svg\" xmlns:xlink=\"http://www.w3.org/1999/xlink\">\n<g id=\"graph0\" class=\"graph\" transform=\"scale(1 1) rotate(0) translate(4 352)\">\n<title>Tree</title>\n<polygon fill=\"#ffffff\" stroke=\"transparent\" points=\"-4,4 -4,-352 835.5,-352 835.5,4 -4,4\"/>\n<!-- 0 -->\n<g id=\"node1\" class=\"node\">\n<title>0</title>\n<polygon fill=\"#fdf5fe\" stroke=\"#000000\" points=\"516,-348 286,-348 286,-280 516,-280 516,-348\"/>\n<text text-anchor=\"middle\" x=\"401\" y=\"-332.8\" font-family=\"Helvetica,sans-Serif\" font-size=\"14.00\" fill=\"#000000\">Gender &lt;= &#45;0.567</text>\n<text text-anchor=\"middle\" x=\"401\" y=\"-317.8\" font-family=\"Helvetica,sans-Serif\" font-size=\"14.00\" fill=\"#000000\">entropy = 1.996</text>\n<text text-anchor=\"middle\" x=\"401\" y=\"-302.8\" font-family=\"Helvetica,sans-Serif\" font-size=\"14.00\" fill=\"#000000\">samples = 8068</text>\n<text text-anchor=\"middle\" x=\"401\" y=\"-287.8\" font-family=\"Helvetica,sans-Serif\" font-size=\"14.00\" fill=\"#000000\">value = [1972, 1858, 1970, 2268]</text>\n</g>\n<!-- 1 -->\n<g id=\"node2\" class=\"node\">\n<title>1</title>\n<polygon fill=\"#eca0f3\" stroke=\"#000000\" points=\"388.5,-244 183.5,-244 183.5,-176 388.5,-176 388.5,-244\"/>\n<text text-anchor=\"middle\" x=\"286\" y=\"-228.8\" font-family=\"Helvetica,sans-Serif\" font-size=\"14.00\" fill=\"#000000\">Gender &lt;= &#45;1.165</text>\n<text text-anchor=\"middle\" x=\"286\" y=\"-213.8\" font-family=\"Helvetica,sans-Serif\" font-size=\"14.00\" fill=\"#000000\">entropy = 1.613</text>\n<text text-anchor=\"middle\" x=\"286\" y=\"-198.8\" font-family=\"Helvetica,sans-Serif\" font-size=\"14.00\" fill=\"#000000\">samples = 2693</text>\n<text text-anchor=\"middle\" x=\"286\" y=\"-183.8\" font-family=\"Helvetica,sans-Serif\" font-size=\"14.00\" fill=\"#000000\">value = [536, 281, 305, 1571]</text>\n</g>\n<!-- 0&#45;&gt;1 -->\n<g id=\"edge1\" class=\"edge\">\n<title>0&#45;&gt;1</title>\n<path fill=\"none\" stroke=\"#000000\" d=\"M363.3447,-279.9465C353.1187,-270.6986 341.9382,-260.5876 331.3359,-250.9994\"/>\n<polygon fill=\"#000000\" stroke=\"#000000\" points=\"333.5044,-248.2416 323.7399,-244.13 328.8092,-253.4334 333.5044,-248.2416\"/>\n<text text-anchor=\"middle\" x=\"324.994\" y=\"-265.3985\" font-family=\"Helvetica,sans-Serif\" font-size=\"14.00\" fill=\"#000000\">True</text>\n</g>\n<!-- 2336 -->\n<g id=\"node9\" class=\"node\">\n<title>2336</title>\n<polygon fill=\"#fafdfe\" stroke=\"#000000\" points=\"627.5,-244 406.5,-244 406.5,-176 627.5,-176 627.5,-244\"/>\n<text text-anchor=\"middle\" x=\"517\" y=\"-228.8\" font-family=\"Helvetica,sans-Serif\" font-size=\"14.00\" fill=\"#000000\">Family_Size &lt;= 1.5</text>\n<text text-anchor=\"middle\" x=\"517\" y=\"-213.8\" font-family=\"Helvetica,sans-Serif\" font-size=\"14.00\" fill=\"#000000\">entropy = 1.934</text>\n<text text-anchor=\"middle\" x=\"517\" y=\"-198.8\" font-family=\"Helvetica,sans-Serif\" font-size=\"14.00\" fill=\"#000000\">samples = 5375</text>\n<text text-anchor=\"middle\" x=\"517\" y=\"-183.8\" font-family=\"Helvetica,sans-Serif\" font-size=\"14.00\" fill=\"#000000\">value = [1436, 1577, 1665, 697]</text>\n</g>\n<!-- 0&#45;&gt;2336 -->\n<g id=\"edge8\" class=\"edge\">\n<title>0&#45;&gt;2336</title>\n<path fill=\"none\" stroke=\"#000000\" d=\"M438.9827,-279.9465C449.2977,-270.6986 460.5754,-260.5876 471.2699,-250.9994\"/>\n<polygon fill=\"#000000\" stroke=\"#000000\" points=\"473.8226,-253.4115 478.9319,-244.13 469.1498,-248.1995 473.8226,-253.4115\"/>\n<text text-anchor=\"middle\" x=\"477.5703\" y=\"-265.3929\" font-family=\"Helvetica,sans-Serif\" font-size=\"14.00\" fill=\"#000000\">False</text>\n</g>\n<!-- 2 -->\n<g id=\"node3\" class=\"node\">\n<title>2</title>\n<polygon fill=\"#dc50e8\" stroke=\"#000000\" points=\"172,-140 0,-140 0,-72 172,-72 172,-140\"/>\n<text text-anchor=\"middle\" x=\"86\" y=\"-124.8\" font-family=\"Helvetica,sans-Serif\" font-size=\"14.00\" fill=\"#000000\">Spending_Score &lt;= 4.5</text>\n<text text-anchor=\"middle\" x=\"86\" y=\"-109.8\" font-family=\"Helvetica,sans-Serif\" font-size=\"14.00\" fill=\"#000000\">entropy = 0.667</text>\n<text text-anchor=\"middle\" x=\"86\" y=\"-94.8\" font-family=\"Helvetica,sans-Serif\" font-size=\"14.00\" fill=\"#000000\">samples = 780</text>\n<text text-anchor=\"middle\" x=\"86\" y=\"-79.8\" font-family=\"Helvetica,sans-Serif\" font-size=\"14.00\" fill=\"#000000\">value = [25, 25, 35, 695]</text>\n</g>\n<!-- 1&#45;&gt;2 -->\n<g id=\"edge2\" class=\"edge\">\n<title>1&#45;&gt;2</title>\n<path fill=\"none\" stroke=\"#000000\" d=\"M220.5125,-175.9465C201.3468,-165.9803 180.2533,-155.0117 160.5681,-144.7754\"/>\n<polygon fill=\"#000000\" stroke=\"#000000\" points=\"162.1215,-141.6383 151.6346,-140.13 158.892,-147.8488 162.1215,-141.6383\"/>\n</g>\n<!-- 217 -->\n<g id=\"node6\" class=\"node\">\n<title>217</title>\n<polygon fill=\"#f5cbf8\" stroke=\"#000000\" points=\"387.5,-140 190.5,-140 190.5,-72 387.5,-72 387.5,-140\"/>\n<text text-anchor=\"middle\" x=\"289\" y=\"-124.8\" font-family=\"Helvetica,sans-Serif\" font-size=\"14.00\" fill=\"#000000\">Spending_Score &lt;= 4.5</text>\n<text text-anchor=\"middle\" x=\"289\" y=\"-109.8\" font-family=\"Helvetica,sans-Serif\" font-size=\"14.00\" fill=\"#000000\">entropy = 1.812</text>\n<text text-anchor=\"middle\" x=\"289\" y=\"-94.8\" font-family=\"Helvetica,sans-Serif\" font-size=\"14.00\" fill=\"#000000\">samples = 1913</text>\n<text text-anchor=\"middle\" x=\"289\" y=\"-79.8\" font-family=\"Helvetica,sans-Serif\" font-size=\"14.00\" fill=\"#000000\">value = [511, 256, 270, 876]</text>\n</g>\n<!-- 1&#45;&gt;217 -->\n<g id=\"edge5\" class=\"edge\">\n<title>1&#45;&gt;217</title>\n<path fill=\"none\" stroke=\"#000000\" d=\"M286.9823,-175.9465C287.218,-167.776 287.4731,-158.9318 287.7201,-150.3697\"/>\n<polygon fill=\"#000000\" stroke=\"#000000\" points=\"291.2256,-150.2268 288.0155,-140.13 284.2285,-150.0249 291.2256,-150.2268\"/>\n</g>\n<!-- 3 -->\n<g id=\"node4\" class=\"node\">\n<title>3</title>\n<polygon fill=\"#c0c0c0\" stroke=\"#000000\" points=\"77,-36 23,-36 23,0 77,0 77,-36\"/>\n<text text-anchor=\"middle\" x=\"50\" y=\"-14.3\" font-family=\"Helvetica,sans-Serif\" font-size=\"14.00\" fill=\"#000000\">(...)</text>\n</g>\n<!-- 2&#45;&gt;3 -->\n<g id=\"edge3\" class=\"edge\">\n<title>2&#45;&gt;3</title>\n<path fill=\"none\" stroke=\"#000000\" d=\"M72.0815,-71.9769C68.4977,-63.2167 64.6862,-53.8995 61.2564,-45.5157\"/>\n<polygon fill=\"#000000\" stroke=\"#000000\" points=\"64.468,-44.1222 57.4422,-36.192 57.9891,-46.7727 64.468,-44.1222\"/>\n</g>\n<!-- 140 -->\n<g id=\"node5\" class=\"node\">\n<title>140</title>\n<polygon fill=\"#c0c0c0\" stroke=\"#000000\" points=\"149,-36 95,-36 95,0 149,0 149,-36\"/>\n<text text-anchor=\"middle\" x=\"122\" y=\"-14.3\" font-family=\"Helvetica,sans-Serif\" font-size=\"14.00\" fill=\"#000000\">(...)</text>\n</g>\n<!-- 2&#45;&gt;140 -->\n<g id=\"edge4\" class=\"edge\">\n<title>2&#45;&gt;140</title>\n<path fill=\"none\" stroke=\"#000000\" d=\"M99.9185,-71.9769C103.5023,-63.2167 107.3138,-53.8995 110.7436,-45.5157\"/>\n<polygon fill=\"#000000\" stroke=\"#000000\" points=\"114.0109,-46.7727 114.5578,-36.192 107.532,-44.1222 114.0109,-46.7727\"/>\n</g>\n<!-- 218 -->\n<g id=\"node7\" class=\"node\">\n<title>218</title>\n<polygon fill=\"#c0c0c0\" stroke=\"#000000\" points=\"280,-36 226,-36 226,0 280,0 280,-36\"/>\n<text text-anchor=\"middle\" x=\"253\" y=\"-14.3\" font-family=\"Helvetica,sans-Serif\" font-size=\"14.00\" fill=\"#000000\">(...)</text>\n</g>\n<!-- 217&#45;&gt;218 -->\n<g id=\"edge6\" class=\"edge\">\n<title>217&#45;&gt;218</title>\n<path fill=\"none\" stroke=\"#000000\" d=\"M275.0815,-71.9769C271.4977,-63.2167 267.6862,-53.8995 264.2564,-45.5157\"/>\n<polygon fill=\"#000000\" stroke=\"#000000\" points=\"267.468,-44.1222 260.4422,-36.192 260.9891,-46.7727 267.468,-44.1222\"/>\n</g>\n<!-- 1513 -->\n<g id=\"node8\" class=\"node\">\n<title>1513</title>\n<polygon fill=\"#c0c0c0\" stroke=\"#000000\" points=\"352,-36 298,-36 298,0 352,0 352,-36\"/>\n<text text-anchor=\"middle\" x=\"325\" y=\"-14.3\" font-family=\"Helvetica,sans-Serif\" font-size=\"14.00\" fill=\"#000000\">(...)</text>\n</g>\n<!-- 217&#45;&gt;1513 -->\n<g id=\"edge7\" class=\"edge\">\n<title>217&#45;&gt;1513</title>\n<path fill=\"none\" stroke=\"#000000\" d=\"M302.9185,-71.9769C306.5023,-63.2167 310.3138,-53.8995 313.7436,-45.5157\"/>\n<polygon fill=\"#000000\" stroke=\"#000000\" points=\"317.0109,-46.7727 317.5578,-36.192 310.532,-44.1222 317.0109,-46.7727\"/>\n</g>\n<!-- 2337 -->\n<g id=\"node10\" class=\"node\">\n<title>2337</title>\n<polygon fill=\"#daedfa\" stroke=\"#000000\" points=\"616.5,-140 411.5,-140 411.5,-72 616.5,-72 616.5,-140\"/>\n<text text-anchor=\"middle\" x=\"514\" y=\"-124.8\" font-family=\"Helvetica,sans-Serif\" font-size=\"14.00\" fill=\"#000000\">Work_Experience &lt;= 0.5</text>\n<text text-anchor=\"middle\" x=\"514\" y=\"-109.8\" font-family=\"Helvetica,sans-Serif\" font-size=\"14.00\" fill=\"#000000\">entropy = 1.735</text>\n<text text-anchor=\"middle\" x=\"514\" y=\"-94.8\" font-family=\"Helvetica,sans-Serif\" font-size=\"14.00\" fill=\"#000000\">samples = 2878</text>\n<text text-anchor=\"middle\" x=\"514\" y=\"-79.8\" font-family=\"Helvetica,sans-Serif\" font-size=\"14.00\" fill=\"#000000\">value = [501, 915, 1281, 181]</text>\n</g>\n<!-- 2336&#45;&gt;2337 -->\n<g id=\"edge9\" class=\"edge\">\n<title>2336&#45;&gt;2337</title>\n<path fill=\"none\" stroke=\"#000000\" d=\"M516.0177,-175.9465C515.782,-167.776 515.5269,-158.9318 515.2799,-150.3697\"/>\n<polygon fill=\"#000000\" stroke=\"#000000\" points=\"518.7715,-150.0249 514.9845,-140.13 511.7744,-150.2268 518.7715,-150.0249\"/>\n</g>\n<!-- 5364 -->\n<g id=\"node13\" class=\"node\">\n<title>5364</title>\n<polygon fill=\"#fbece2\" stroke=\"#000000\" points=\"831.5,-140 634.5,-140 634.5,-72 831.5,-72 831.5,-140\"/>\n<text text-anchor=\"middle\" x=\"733\" y=\"-124.8\" font-family=\"Helvetica,sans-Serif\" font-size=\"14.00\" fill=\"#000000\">Spending_Score &lt;= 1.5</text>\n<text text-anchor=\"middle\" x=\"733\" y=\"-109.8\" font-family=\"Helvetica,sans-Serif\" font-size=\"14.00\" fill=\"#000000\">entropy = 1.924</text>\n<text text-anchor=\"middle\" x=\"733\" y=\"-94.8\" font-family=\"Helvetica,sans-Serif\" font-size=\"14.00\" fill=\"#000000\">samples = 2497</text>\n<text text-anchor=\"middle\" x=\"733\" y=\"-79.8\" font-family=\"Helvetica,sans-Serif\" font-size=\"14.00\" fill=\"#000000\">value = [935, 662, 384, 516]</text>\n</g>\n<!-- 2336&#45;&gt;5364 -->\n<g id=\"edge12\" class=\"edge\">\n<title>2336&#45;&gt;5364</title>\n<path fill=\"none\" stroke=\"#000000\" d=\"M587.7265,-175.9465C608.6119,-165.8906 631.6171,-154.814 653.0407,-144.4989\"/>\n<polygon fill=\"#000000\" stroke=\"#000000\" points=\"654.623,-147.6217 662.1146,-140.13 651.5862,-141.3147 654.623,-147.6217\"/>\n</g>\n<!-- 2338 -->\n<g id=\"node11\" class=\"node\">\n<title>2338</title>\n<polygon fill=\"#c0c0c0\" stroke=\"#000000\" points=\"505,-36 451,-36 451,0 505,0 505,-36\"/>\n<text text-anchor=\"middle\" x=\"478\" y=\"-14.3\" font-family=\"Helvetica,sans-Serif\" font-size=\"14.00\" fill=\"#000000\">(...)</text>\n</g>\n<!-- 2337&#45;&gt;2338 -->\n<g id=\"edge10\" class=\"edge\">\n<title>2337&#45;&gt;2338</title>\n<path fill=\"none\" stroke=\"#000000\" d=\"M500.0815,-71.9769C496.4977,-63.2167 492.6862,-53.8995 489.2564,-45.5157\"/>\n<polygon fill=\"#000000\" stroke=\"#000000\" points=\"492.468,-44.1222 485.4422,-36.192 485.9891,-46.7727 492.468,-44.1222\"/>\n</g>\n<!-- 3255 -->\n<g id=\"node12\" class=\"node\">\n<title>3255</title>\n<polygon fill=\"#c0c0c0\" stroke=\"#000000\" points=\"577,-36 523,-36 523,0 577,0 577,-36\"/>\n<text text-anchor=\"middle\" x=\"550\" y=\"-14.3\" font-family=\"Helvetica,sans-Serif\" font-size=\"14.00\" fill=\"#000000\">(...)</text>\n</g>\n<!-- 2337&#45;&gt;3255 -->\n<g id=\"edge11\" class=\"edge\">\n<title>2337&#45;&gt;3255</title>\n<path fill=\"none\" stroke=\"#000000\" d=\"M527.9185,-71.9769C531.5023,-63.2167 535.3138,-53.8995 538.7436,-45.5157\"/>\n<polygon fill=\"#000000\" stroke=\"#000000\" points=\"542.0109,-46.7727 542.5578,-36.192 535.532,-44.1222 542.0109,-46.7727\"/>\n</g>\n<!-- 5365 -->\n<g id=\"node14\" class=\"node\">\n<title>5365</title>\n<polygon fill=\"#c0c0c0\" stroke=\"#000000\" points=\"724,-36 670,-36 670,0 724,0 724,-36\"/>\n<text text-anchor=\"middle\" x=\"697\" y=\"-14.3\" font-family=\"Helvetica,sans-Serif\" font-size=\"14.00\" fill=\"#000000\">(...)</text>\n</g>\n<!-- 5364&#45;&gt;5365 -->\n<g id=\"edge13\" class=\"edge\">\n<title>5364&#45;&gt;5365</title>\n<path fill=\"none\" stroke=\"#000000\" d=\"M719.0815,-71.9769C715.4977,-63.2167 711.6862,-53.8995 708.2564,-45.5157\"/>\n<polygon fill=\"#000000\" stroke=\"#000000\" points=\"711.468,-44.1222 704.4422,-36.192 704.9891,-46.7727 711.468,-44.1222\"/>\n</g>\n<!-- 6706 -->\n<g id=\"node15\" class=\"node\">\n<title>6706</title>\n<polygon fill=\"#c0c0c0\" stroke=\"#000000\" points=\"796,-36 742,-36 742,0 796,0 796,-36\"/>\n<text text-anchor=\"middle\" x=\"769\" y=\"-14.3\" font-family=\"Helvetica,sans-Serif\" font-size=\"14.00\" fill=\"#000000\">(...)</text>\n</g>\n<!-- 5364&#45;&gt;6706 -->\n<g id=\"edge14\" class=\"edge\">\n<title>5364&#45;&gt;6706</title>\n<path fill=\"none\" stroke=\"#000000\" d=\"M746.9185,-71.9769C750.5023,-63.2167 754.3138,-53.8995 757.7436,-45.5157\"/>\n<polygon fill=\"#000000\" stroke=\"#000000\" points=\"761.0109,-46.7727 761.5578,-36.192 754.532,-44.1222 761.0109,-46.7727\"/>\n</g>\n</g>\n</svg>\n"
          },
          "metadata": {},
          "execution_count": 71
        }
      ]
    },
    {
      "cell_type": "code",
      "source": [
        "# get feature importances from the model\n",
        "importance = entropy_dt_clf['classifier'].feature_importances_\n",
        "\n",
        "# summarize feature importances\n",
        "for i,v in enumerate(importance):\n",
        "\tprint('Feature: %0d, Score: %.5f' % (i,v))\n",
        " \n",
        "# plot feature importances\n",
        "plt.bar([x for x in range(len(importance))], importance)\n",
        "plt.show()"
      ],
      "metadata": {
        "colab": {
          "base_uri": "https://localhost:8080/",
          "height": 404
        },
        "id": "8smZv4E3FNpl",
        "outputId": "d93dc039-e1bd-4785-8b5e-6ab407ea50f6"
      },
      "execution_count": 72,
      "outputs": [
        {
          "output_type": "stream",
          "name": "stdout",
          "text": [
            "Feature: 0, Score: 0.40667\n",
            "Feature: 1, Score: 0.11392\n",
            "Feature: 2, Score: 0.17575\n",
            "Feature: 3, Score: 0.04915\n",
            "Feature: 4, Score: 0.02454\n",
            "Feature: 5, Score: 0.04183\n",
            "Feature: 6, Score: 0.12199\n",
            "Feature: 7, Score: 0.06616\n"
          ]
        },
        {
          "output_type": "display_data",
          "data": {
            "image/png": "[encoded data removed]",
            "text/plain": [
              "<Figure size 432x288 with 1 Axes>"
            ]
          },
          "metadata": {
            "needs_background": "light"
          }
        }
      ]
    },
    {
      "cell_type": "code",
      "source": [
        "# Use GridSearchCV to find optimum hyperparameter values\n",
        "\n",
        "# create a dictionary of all values we want to test\n",
        "param_grid1 = { 'criterion':['gini','entropy'],'max_depth': np.arange(3, 15)}      # tree depth \n",
        "\n",
        "# use gridsearch to test all values\n",
        "grid_search1 = GridSearchCV(entropy_dt_clf['classifier'], param_grid1, cv=3)\n",
        "    \n",
        "# fit the model \n",
        "grid_search1.fit(preprocessor.fit_transform(X_train), Y_train)\n",
        "\n",
        "print(\"The best DT model hyperparameters:\", grid_search1.best_params_)\n",
        "print(\"The best achieved accuracy For DT: \" ,(grid_search1.best_score_))\n"
      ],
      "metadata": {
        "colab": {
          "base_uri": "https://localhost:8080/"
        },
        "id": "0xsvv7e0FaAD",
        "outputId": "1dea8c33-3b05-4a09-a04f-0c7360bf65b2"
      },
      "execution_count": 73,
      "outputs": [
        {
          "output_type": "stream",
          "name": "stdout",
          "text": [
            "The best DT model hyperparameters: {'criterion': 'gini', 'max_depth': 5}\n",
            "The best achieved accuracy For DT:  0.5190875857076169\n"
          ]
        }
      ]
    },
    {
      "cell_type": "code",
      "source": [
        "# Use GridSearchCV to find optimum hyperparameter values\n",
        "\n",
        "# create a dictionary of all values we want to test\n",
        "param_grid2 = { 'kernel':['rbf','linear', 'poly'],    # kernel\n",
        "                'decision_function_shape': ['ovo', 'ovr'], # decision function (choose between ovo, one verus one, and ovr, one versus rest)\n",
        "                 'C' : np.arange(1, 3),\n",
        "                 'degree': np.arange(1,3)\n",
        "               } \n",
        "   \n",
        "    \n",
        "# use gridsearch to test all values\n",
        "grid_search2 = GridSearchCV(rbf_svc_clf['classifier'], \n",
        "                           param_grid2, \n",
        "                           cv=3)\n",
        "    \n",
        "# fit the model \n",
        "grid_search2.fit(preprocessor.fit_transform(X_train), Y_train)\n",
        "\n",
        "print(\"The best SVC model hyperparameters:\", grid_search2.best_params_)\n",
        "print(\"The best achieved accuracy For SVC after hyperparameter optimization  \" % (grid_search2.best_score_))"
      ],
      "metadata": {
        "colab": {
          "base_uri": "https://localhost:8080/"
        },
        "id": "yqI6E2tIGswn",
        "outputId": "ada7c27c-7e51-4c9f-b27c-a6bf121c23ff"
      },
      "execution_count": 74,
      "outputs": [
        {
          "output_type": "stream",
          "name": "stdout",
          "text": [
            "The best SVC model hyperparameters: {'C': 1, 'decision_function_shape': 'ovo', 'degree': 1, 'kernel': 'rbf'}\n",
            "The best achieved accuracy For SVC after hyperparameter optimization  \n"
          ]
        }
      ]
    },
    {
      "cell_type": "code",
      "source": [
        "# graph results of grid search for the two models\n",
        "\n",
        "labels = ['DT (Gini)', 'SVC (RBF)']\n",
        "before_optimization_scores = [gini_dt_score, rbf_svc_clf_score]\n",
        "after_optimization_scores = [grid_search1.best_score_, grid_search2.best_score_]\n",
        "\n",
        "x = np.arange(len(labels))  # the label locations\n",
        "width = 0.3                # the width of the bars\n",
        "\n",
        "fig, ax = plt.subplots()\n",
        "rects1 = ax.bar(x - width/2, before_optimization_scores, width, label='Before Optimization')\n",
        "rects2 = ax.bar(x + width/2, after_optimization_scores, width, label='After Optimization')\n",
        "\n",
        "# Add some text for labels, title and custom x-axis tick labels, etc.\n",
        "ax.set_ylabel('Accuracy')\n",
        "ax.set_xticks(x)\n",
        "ax.set_ylim(0,1.0)\n",
        "ax.set_xticklabels(labels)\n",
        "ax.legend(bbox_to_anchor = (1.45, 1.0), loc='upper right')\n",
        "\n",
        "plt.title('Hyperparamater Optimization Results')\n",
        "plt.show()"
      ],
      "metadata": {
        "colab": {
          "base_uri": "https://localhost:8080/",
          "height": 281
        },
        "id": "4lQoqXhDFpoO",
        "outputId": "e23c64c7-531c-4f4b-b647-8ee50d6a0066"
      },
      "execution_count": 75,
      "outputs": [
        {
          "output_type": "display_data",
          "data": {
            "image/png": "[encoded data removed]",
            "text/plain": [
              "<Figure size 432x288 with 1 Axes>"
            ]
          },
          "metadata": {
            "needs_background": "light"
          }
        }
      ]
    },
    {
      "cell_type": "markdown",
      "source": [
        "### **Summary**\n",
        "In this dataset, we performed pipeline imputation and preparing data, pipeline of classification. then we converted decision trees into text and graph. and then we used grid search to optimize a few hyperparameters."
      ],
      "metadata": {
        "id": "1LDNqFjjHa3h"
      }
    },
    {
      "cell_type": "code",
      "source": [
        ""
      ],
      "metadata": {
        "id": "Nsd3G3jAIZ1f"
      },
      "execution_count": 75,
      "outputs": []
    }
  ]
}