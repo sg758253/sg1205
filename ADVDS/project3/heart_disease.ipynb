{
 "cells": [
  {
   "cell_type": "markdown",
   "metadata": {
    "colab_type": "text",
    "id": "view-in-github"
   },
   "source": [
    "<a href=\"https://colab.research.google.com/github/GarimaChopra/AML/blob/main/Project3_heart_disease.ipynb\" target=\"_parent\"><img src=\"https://colab.research.google.com/assets/colab-badge.svg\" alt=\"Open In Colab\"/></a>"
   ]
  },
  {
   "cell_type": "markdown",
   "metadata": {
    "id": "vjxjqq_lTfJZ"
   },
   "source": [
    "# Project 3: The Heart Disease"
   ]
  },
  {
   "cell_type": "code",
   "execution_count": 1,
   "metadata": {
    "id": "5MSgdANdTQjo"
   },
   "outputs": [],
   "source": [
    "# import library\n",
    "import pandas as pd\n",
    "import matplotlib.pyplot as plt \n",
    "import seaborn as sbn\n",
    "import numpy as np\n",
    "from sklearn.model_selection import train_test_split\n",
    "from sklearn.linear_model import LogisticRegression\n",
    "from sklearn.metrics import confusion_matrix, classification_report\n",
    "from sklearn.metrics import plot_roc_curve\n",
    "from sklearn.linear_model import SGDClassifier\n",
    "from sklearn.ensemble import RandomForestClassifier \n",
    "from sklearn.preprocessing import StandardScaler\n",
    "from sklearn.preprocessing import MinMaxScaler\n"
   ]
  },
  {
   "cell_type": "code",
   "execution_count": 2,
   "metadata": {
    "id": "ZdXZVNpwTet-"
   },
   "outputs": [],
   "source": [
    "# Read csv file\n",
    "df = pd.read_csv('heart.csv')"
   ]
  },
  {
   "cell_type": "code",
   "execution_count": 3,
   "metadata": {},
   "outputs": [
    {
     "data": {
      "text/html": [
       "<div>\n",
       "<style scoped>\n",
       "    .dataframe tbody tr th:only-of-type {\n",
       "        vertical-align: middle;\n",
       "    }\n",
       "\n",
       "    .dataframe tbody tr th {\n",
       "        vertical-align: top;\n",
       "    }\n",
       "\n",
       "    .dataframe thead th {\n",
       "        text-align: right;\n",
       "    }\n",
       "</style>\n",
       "<table border=\"1\" class=\"dataframe\">\n",
       "  <thead>\n",
       "    <tr style=\"text-align: right;\">\n",
       "      <th></th>\n",
       "      <th>age</th>\n",
       "      <th>sex</th>\n",
       "      <th>cp</th>\n",
       "      <th>trestbps</th>\n",
       "      <th>chol</th>\n",
       "      <th>fbs</th>\n",
       "      <th>restecg</th>\n",
       "      <th>thalach</th>\n",
       "      <th>exang</th>\n",
       "      <th>oldpeak</th>\n",
       "      <th>slope</th>\n",
       "      <th>ca</th>\n",
       "      <th>thal</th>\n",
       "      <th>target</th>\n",
       "    </tr>\n",
       "  </thead>\n",
       "  <tbody>\n",
       "    <tr>\n",
       "      <th>0</th>\n",
       "      <td>63</td>\n",
       "      <td>1</td>\n",
       "      <td>3</td>\n",
       "      <td>145</td>\n",
       "      <td>233</td>\n",
       "      <td>1</td>\n",
       "      <td>0</td>\n",
       "      <td>150</td>\n",
       "      <td>0</td>\n",
       "      <td>2.3</td>\n",
       "      <td>0</td>\n",
       "      <td>0</td>\n",
       "      <td>1</td>\n",
       "      <td>1</td>\n",
       "    </tr>\n",
       "    <tr>\n",
       "      <th>1</th>\n",
       "      <td>37</td>\n",
       "      <td>1</td>\n",
       "      <td>2</td>\n",
       "      <td>130</td>\n",
       "      <td>250</td>\n",
       "      <td>0</td>\n",
       "      <td>1</td>\n",
       "      <td>187</td>\n",
       "      <td>0</td>\n",
       "      <td>3.5</td>\n",
       "      <td>0</td>\n",
       "      <td>0</td>\n",
       "      <td>2</td>\n",
       "      <td>1</td>\n",
       "    </tr>\n",
       "    <tr>\n",
       "      <th>2</th>\n",
       "      <td>41</td>\n",
       "      <td>0</td>\n",
       "      <td>1</td>\n",
       "      <td>130</td>\n",
       "      <td>204</td>\n",
       "      <td>0</td>\n",
       "      <td>0</td>\n",
       "      <td>172</td>\n",
       "      <td>0</td>\n",
       "      <td>1.4</td>\n",
       "      <td>2</td>\n",
       "      <td>0</td>\n",
       "      <td>2</td>\n",
       "      <td>1</td>\n",
       "    </tr>\n",
       "    <tr>\n",
       "      <th>3</th>\n",
       "      <td>56</td>\n",
       "      <td>1</td>\n",
       "      <td>1</td>\n",
       "      <td>120</td>\n",
       "      <td>236</td>\n",
       "      <td>0</td>\n",
       "      <td>1</td>\n",
       "      <td>178</td>\n",
       "      <td>0</td>\n",
       "      <td>0.8</td>\n",
       "      <td>2</td>\n",
       "      <td>0</td>\n",
       "      <td>2</td>\n",
       "      <td>1</td>\n",
       "    </tr>\n",
       "    <tr>\n",
       "      <th>4</th>\n",
       "      <td>57</td>\n",
       "      <td>0</td>\n",
       "      <td>0</td>\n",
       "      <td>120</td>\n",
       "      <td>354</td>\n",
       "      <td>0</td>\n",
       "      <td>1</td>\n",
       "      <td>163</td>\n",
       "      <td>1</td>\n",
       "      <td>0.6</td>\n",
       "      <td>2</td>\n",
       "      <td>0</td>\n",
       "      <td>2</td>\n",
       "      <td>1</td>\n",
       "    </tr>\n",
       "    <tr>\n",
       "      <th>...</th>\n",
       "      <td>...</td>\n",
       "      <td>...</td>\n",
       "      <td>...</td>\n",
       "      <td>...</td>\n",
       "      <td>...</td>\n",
       "      <td>...</td>\n",
       "      <td>...</td>\n",
       "      <td>...</td>\n",
       "      <td>...</td>\n",
       "      <td>...</td>\n",
       "      <td>...</td>\n",
       "      <td>...</td>\n",
       "      <td>...</td>\n",
       "      <td>...</td>\n",
       "    </tr>\n",
       "    <tr>\n",
       "      <th>298</th>\n",
       "      <td>57</td>\n",
       "      <td>0</td>\n",
       "      <td>0</td>\n",
       "      <td>140</td>\n",
       "      <td>241</td>\n",
       "      <td>0</td>\n",
       "      <td>1</td>\n",
       "      <td>123</td>\n",
       "      <td>1</td>\n",
       "      <td>0.2</td>\n",
       "      <td>1</td>\n",
       "      <td>0</td>\n",
       "      <td>3</td>\n",
       "      <td>0</td>\n",
       "    </tr>\n",
       "    <tr>\n",
       "      <th>299</th>\n",
       "      <td>45</td>\n",
       "      <td>1</td>\n",
       "      <td>3</td>\n",
       "      <td>110</td>\n",
       "      <td>264</td>\n",
       "      <td>0</td>\n",
       "      <td>1</td>\n",
       "      <td>132</td>\n",
       "      <td>0</td>\n",
       "      <td>1.2</td>\n",
       "      <td>1</td>\n",
       "      <td>0</td>\n",
       "      <td>3</td>\n",
       "      <td>0</td>\n",
       "    </tr>\n",
       "    <tr>\n",
       "      <th>300</th>\n",
       "      <td>68</td>\n",
       "      <td>1</td>\n",
       "      <td>0</td>\n",
       "      <td>144</td>\n",
       "      <td>193</td>\n",
       "      <td>1</td>\n",
       "      <td>1</td>\n",
       "      <td>141</td>\n",
       "      <td>0</td>\n",
       "      <td>3.4</td>\n",
       "      <td>1</td>\n",
       "      <td>2</td>\n",
       "      <td>3</td>\n",
       "      <td>0</td>\n",
       "    </tr>\n",
       "    <tr>\n",
       "      <th>301</th>\n",
       "      <td>57</td>\n",
       "      <td>1</td>\n",
       "      <td>0</td>\n",
       "      <td>130</td>\n",
       "      <td>131</td>\n",
       "      <td>0</td>\n",
       "      <td>1</td>\n",
       "      <td>115</td>\n",
       "      <td>1</td>\n",
       "      <td>1.2</td>\n",
       "      <td>1</td>\n",
       "      <td>1</td>\n",
       "      <td>3</td>\n",
       "      <td>0</td>\n",
       "    </tr>\n",
       "    <tr>\n",
       "      <th>302</th>\n",
       "      <td>57</td>\n",
       "      <td>0</td>\n",
       "      <td>1</td>\n",
       "      <td>130</td>\n",
       "      <td>236</td>\n",
       "      <td>0</td>\n",
       "      <td>0</td>\n",
       "      <td>174</td>\n",
       "      <td>0</td>\n",
       "      <td>0.0</td>\n",
       "      <td>1</td>\n",
       "      <td>1</td>\n",
       "      <td>2</td>\n",
       "      <td>0</td>\n",
       "    </tr>\n",
       "  </tbody>\n",
       "</table>\n",
       "<p>303 rows × 14 columns</p>\n",
       "</div>"
      ],
      "text/plain": [
       "     age  sex  cp  trestbps  chol  fbs  restecg  thalach  exang  oldpeak  \\\n",
       "0     63    1   3       145   233    1        0      150      0      2.3   \n",
       "1     37    1   2       130   250    0        1      187      0      3.5   \n",
       "2     41    0   1       130   204    0        0      172      0      1.4   \n",
       "3     56    1   1       120   236    0        1      178      0      0.8   \n",
       "4     57    0   0       120   354    0        1      163      1      0.6   \n",
       "..   ...  ...  ..       ...   ...  ...      ...      ...    ...      ...   \n",
       "298   57    0   0       140   241    0        1      123      1      0.2   \n",
       "299   45    1   3       110   264    0        1      132      0      1.2   \n",
       "300   68    1   0       144   193    1        1      141      0      3.4   \n",
       "301   57    1   0       130   131    0        1      115      1      1.2   \n",
       "302   57    0   1       130   236    0        0      174      0      0.0   \n",
       "\n",
       "     slope  ca  thal  target  \n",
       "0        0   0     1       1  \n",
       "1        0   0     2       1  \n",
       "2        2   0     2       1  \n",
       "3        2   0     2       1  \n",
       "4        2   0     2       1  \n",
       "..     ...  ..   ...     ...  \n",
       "298      1   0     3       0  \n",
       "299      1   0     3       0  \n",
       "300      1   2     3       0  \n",
       "301      1   1     3       0  \n",
       "302      1   1     2       0  \n",
       "\n",
       "[303 rows x 14 columns]"
      ]
     },
     "execution_count": 3,
     "metadata": {},
     "output_type": "execute_result"
    }
   ],
   "source": [
    "df"
   ]
  },
  {
   "cell_type": "code",
   "execution_count": 4,
   "metadata": {
    "colab": {
     "base_uri": "https://localhost:8080/",
     "height": 297
    },
    "id": "8jv8l8o2LdE1",
    "outputId": "a9807a2f-ad19-499a-9cef-e3b0ac55e1bc"
   },
   "outputs": [
    {
     "data": {
      "text/html": [
       "<div>\n",
       "<style scoped>\n",
       "    .dataframe tbody tr th:only-of-type {\n",
       "        vertical-align: middle;\n",
       "    }\n",
       "\n",
       "    .dataframe tbody tr th {\n",
       "        vertical-align: top;\n",
       "    }\n",
       "\n",
       "    .dataframe thead th {\n",
       "        text-align: right;\n",
       "    }\n",
       "</style>\n",
       "<table border=\"1\" class=\"dataframe\">\n",
       "  <thead>\n",
       "    <tr style=\"text-align: right;\">\n",
       "      <th></th>\n",
       "      <th>age</th>\n",
       "      <th>sex</th>\n",
       "      <th>cp</th>\n",
       "      <th>trestbps</th>\n",
       "      <th>chol</th>\n",
       "      <th>fbs</th>\n",
       "      <th>restecg</th>\n",
       "      <th>thalach</th>\n",
       "      <th>exang</th>\n",
       "      <th>oldpeak</th>\n",
       "      <th>slope</th>\n",
       "      <th>ca</th>\n",
       "      <th>thal</th>\n",
       "      <th>target</th>\n",
       "    </tr>\n",
       "  </thead>\n",
       "  <tbody>\n",
       "    <tr>\n",
       "      <th>count</th>\n",
       "      <td>303.000000</td>\n",
       "      <td>303.000000</td>\n",
       "      <td>303.000000</td>\n",
       "      <td>303.000000</td>\n",
       "      <td>303.000000</td>\n",
       "      <td>303.000000</td>\n",
       "      <td>303.000000</td>\n",
       "      <td>303.000000</td>\n",
       "      <td>303.000000</td>\n",
       "      <td>303.000000</td>\n",
       "      <td>303.000000</td>\n",
       "      <td>303.000000</td>\n",
       "      <td>303.000000</td>\n",
       "      <td>303.000000</td>\n",
       "    </tr>\n",
       "    <tr>\n",
       "      <th>mean</th>\n",
       "      <td>54.366337</td>\n",
       "      <td>0.683168</td>\n",
       "      <td>0.966997</td>\n",
       "      <td>131.623762</td>\n",
       "      <td>246.264026</td>\n",
       "      <td>0.148515</td>\n",
       "      <td>0.528053</td>\n",
       "      <td>149.646865</td>\n",
       "      <td>0.326733</td>\n",
       "      <td>1.039604</td>\n",
       "      <td>1.399340</td>\n",
       "      <td>0.729373</td>\n",
       "      <td>2.313531</td>\n",
       "      <td>0.544554</td>\n",
       "    </tr>\n",
       "    <tr>\n",
       "      <th>std</th>\n",
       "      <td>9.082101</td>\n",
       "      <td>0.466011</td>\n",
       "      <td>1.032052</td>\n",
       "      <td>17.538143</td>\n",
       "      <td>51.830751</td>\n",
       "      <td>0.356198</td>\n",
       "      <td>0.525860</td>\n",
       "      <td>22.905161</td>\n",
       "      <td>0.469794</td>\n",
       "      <td>1.161075</td>\n",
       "      <td>0.616226</td>\n",
       "      <td>1.022606</td>\n",
       "      <td>0.612277</td>\n",
       "      <td>0.498835</td>\n",
       "    </tr>\n",
       "    <tr>\n",
       "      <th>min</th>\n",
       "      <td>29.000000</td>\n",
       "      <td>0.000000</td>\n",
       "      <td>0.000000</td>\n",
       "      <td>94.000000</td>\n",
       "      <td>126.000000</td>\n",
       "      <td>0.000000</td>\n",
       "      <td>0.000000</td>\n",
       "      <td>71.000000</td>\n",
       "      <td>0.000000</td>\n",
       "      <td>0.000000</td>\n",
       "      <td>0.000000</td>\n",
       "      <td>0.000000</td>\n",
       "      <td>0.000000</td>\n",
       "      <td>0.000000</td>\n",
       "    </tr>\n",
       "    <tr>\n",
       "      <th>25%</th>\n",
       "      <td>47.500000</td>\n",
       "      <td>0.000000</td>\n",
       "      <td>0.000000</td>\n",
       "      <td>120.000000</td>\n",
       "      <td>211.000000</td>\n",
       "      <td>0.000000</td>\n",
       "      <td>0.000000</td>\n",
       "      <td>133.500000</td>\n",
       "      <td>0.000000</td>\n",
       "      <td>0.000000</td>\n",
       "      <td>1.000000</td>\n",
       "      <td>0.000000</td>\n",
       "      <td>2.000000</td>\n",
       "      <td>0.000000</td>\n",
       "    </tr>\n",
       "    <tr>\n",
       "      <th>50%</th>\n",
       "      <td>55.000000</td>\n",
       "      <td>1.000000</td>\n",
       "      <td>1.000000</td>\n",
       "      <td>130.000000</td>\n",
       "      <td>240.000000</td>\n",
       "      <td>0.000000</td>\n",
       "      <td>1.000000</td>\n",
       "      <td>153.000000</td>\n",
       "      <td>0.000000</td>\n",
       "      <td>0.800000</td>\n",
       "      <td>1.000000</td>\n",
       "      <td>0.000000</td>\n",
       "      <td>2.000000</td>\n",
       "      <td>1.000000</td>\n",
       "    </tr>\n",
       "    <tr>\n",
       "      <th>75%</th>\n",
       "      <td>61.000000</td>\n",
       "      <td>1.000000</td>\n",
       "      <td>2.000000</td>\n",
       "      <td>140.000000</td>\n",
       "      <td>274.500000</td>\n",
       "      <td>0.000000</td>\n",
       "      <td>1.000000</td>\n",
       "      <td>166.000000</td>\n",
       "      <td>1.000000</td>\n",
       "      <td>1.600000</td>\n",
       "      <td>2.000000</td>\n",
       "      <td>1.000000</td>\n",
       "      <td>3.000000</td>\n",
       "      <td>1.000000</td>\n",
       "    </tr>\n",
       "    <tr>\n",
       "      <th>max</th>\n",
       "      <td>77.000000</td>\n",
       "      <td>1.000000</td>\n",
       "      <td>3.000000</td>\n",
       "      <td>200.000000</td>\n",
       "      <td>564.000000</td>\n",
       "      <td>1.000000</td>\n",
       "      <td>2.000000</td>\n",
       "      <td>202.000000</td>\n",
       "      <td>1.000000</td>\n",
       "      <td>6.200000</td>\n",
       "      <td>2.000000</td>\n",
       "      <td>4.000000</td>\n",
       "      <td>3.000000</td>\n",
       "      <td>1.000000</td>\n",
       "    </tr>\n",
       "  </tbody>\n",
       "</table>\n",
       "</div>"
      ],
      "text/plain": [
       "              age         sex          cp    trestbps        chol         fbs  \\\n",
       "count  303.000000  303.000000  303.000000  303.000000  303.000000  303.000000   \n",
       "mean    54.366337    0.683168    0.966997  131.623762  246.264026    0.148515   \n",
       "std      9.082101    0.466011    1.032052   17.538143   51.830751    0.356198   \n",
       "min     29.000000    0.000000    0.000000   94.000000  126.000000    0.000000   \n",
       "25%     47.500000    0.000000    0.000000  120.000000  211.000000    0.000000   \n",
       "50%     55.000000    1.000000    1.000000  130.000000  240.000000    0.000000   \n",
       "75%     61.000000    1.000000    2.000000  140.000000  274.500000    0.000000   \n",
       "max     77.000000    1.000000    3.000000  200.000000  564.000000    1.000000   \n",
       "\n",
       "          restecg     thalach       exang     oldpeak       slope          ca  \\\n",
       "count  303.000000  303.000000  303.000000  303.000000  303.000000  303.000000   \n",
       "mean     0.528053  149.646865    0.326733    1.039604    1.399340    0.729373   \n",
       "std      0.525860   22.905161    0.469794    1.161075    0.616226    1.022606   \n",
       "min      0.000000   71.000000    0.000000    0.000000    0.000000    0.000000   \n",
       "25%      0.000000  133.500000    0.000000    0.000000    1.000000    0.000000   \n",
       "50%      1.000000  153.000000    0.000000    0.800000    1.000000    0.000000   \n",
       "75%      1.000000  166.000000    1.000000    1.600000    2.000000    1.000000   \n",
       "max      2.000000  202.000000    1.000000    6.200000    2.000000    4.000000   \n",
       "\n",
       "             thal      target  \n",
       "count  303.000000  303.000000  \n",
       "mean     2.313531    0.544554  \n",
       "std      0.612277    0.498835  \n",
       "min      0.000000    0.000000  \n",
       "25%      2.000000    0.000000  \n",
       "50%      2.000000    1.000000  \n",
       "75%      3.000000    1.000000  \n",
       "max      3.000000    1.000000  "
      ]
     },
     "execution_count": 4,
     "metadata": {},
     "output_type": "execute_result"
    }
   ],
   "source": [
    "# describe data\n",
    "df.describe()"
   ]
  },
  {
   "cell_type": "code",
   "execution_count": 5,
   "metadata": {
    "colab": {
     "base_uri": "https://localhost:8080/"
    },
    "id": "qKRwb0-yTqat",
    "outputId": "afe1555b-64ef-4f38-a69b-4a0588ed7185"
   },
   "outputs": [
    {
     "name": "stdout",
     "output_type": "stream",
     "text": [
      "<class 'pandas.core.frame.DataFrame'>\n",
      "RangeIndex: 303 entries, 0 to 302\n",
      "Data columns (total 14 columns):\n",
      " #   Column    Non-Null Count  Dtype  \n",
      "---  ------    --------------  -----  \n",
      " 0   age       303 non-null    int64  \n",
      " 1   sex       303 non-null    int64  \n",
      " 2   cp        303 non-null    int64  \n",
      " 3   trestbps  303 non-null    int64  \n",
      " 4   chol      303 non-null    int64  \n",
      " 5   fbs       303 non-null    int64  \n",
      " 6   restecg   303 non-null    int64  \n",
      " 7   thalach   303 non-null    int64  \n",
      " 8   exang     303 non-null    int64  \n",
      " 9   oldpeak   303 non-null    float64\n",
      " 10  slope     303 non-null    int64  \n",
      " 11  ca        303 non-null    int64  \n",
      " 12  thal      303 non-null    int64  \n",
      " 13  target    303 non-null    int64  \n",
      "dtypes: float64(1), int64(13)\n",
      "memory usage: 33.3 KB\n"
     ]
    }
   ],
   "source": [
    "#dataset info and summary\n",
    "df.info()"
   ]
  },
  {
   "cell_type": "markdown",
   "metadata": {},
   "source": [
    "# Task 3. Check for any missing feature values and impute as necessary."
   ]
  },
  {
   "cell_type": "code",
   "execution_count": 6,
   "metadata": {},
   "outputs": [
    {
     "data": {
      "text/plain": [
       "age         0\n",
       "sex         0\n",
       "cp          0\n",
       "trestbps    0\n",
       "chol        0\n",
       "fbs         0\n",
       "restecg     0\n",
       "thalach     0\n",
       "exang       0\n",
       "oldpeak     0\n",
       "slope       0\n",
       "ca          0\n",
       "thal        0\n",
       "target      0\n",
       "dtype: int64"
      ]
     },
     "execution_count": 6,
     "metadata": {},
     "output_type": "execute_result"
    }
   ],
   "source": [
    "df.isnull().sum()"
   ]
  },
  {
   "cell_type": "markdown",
   "metadata": {
    "id": "6HPXhjbSf8mJ"
   },
   "source": [
    "From above analysis we find that data contains no null values and all columns are numeric "
   ]
  },
  {
   "cell_type": "markdown",
   "metadata": {
    "id": "XtbrtpNogNVA"
   },
   "source": [
    "# Task 1. Plot distribution of age and sex for each target class."
   ]
  },
  {
   "cell_type": "code",
   "execution_count": 7,
   "metadata": {
    "colab": {
     "base_uri": "https://localhost:8080/",
     "height": 400
    },
    "id": "AbjzarSMnYXr",
    "outputId": "e9dad04e-3c93-45aa-c984-ffb8be69e15b"
   },
   "outputs": [
    {
     "data": {
      "text/plain": [
       "<seaborn.axisgrid.FacetGrid at 0x7fb89c149940>"
      ]
     },
     "execution_count": 7,
     "metadata": {},
     "output_type": "execute_result"
    },
    {
     "data": {
      "image/png": "[encoded data removed]",
      "text/plain": [
       "<Figure size 402.375x360 with 1 Axes>"
      ]
     },
     "metadata": {
      "needs_background": "light"
     },
     "output_type": "display_data"
    }
   ],
   "source": [
    "sbn.catplot(data=df, x='sex' , y='age',palette='pastel',hue='target')"
   ]
  },
  {
   "cell_type": "markdown",
   "metadata": {
    "id": "RsunQd9WmoQl"
   },
   "source": [
    "From the above plot we find that there is high chances of heart disease in female than male."
   ]
  },
  {
   "cell_type": "markdown",
   "metadata": {
    "id": "xrBthDUcpe28"
   },
   "source": [
    "# Task 2. Plot correlation values for all features with respect to the target class."
   ]
  },
  {
   "cell_type": "code",
   "execution_count": 8,
   "metadata": {
    "colab": {
     "base_uri": "https://localhost:8080/"
    },
    "id": "m1mXUNXIszfD",
    "outputId": "661ce02c-d449-42b0-f197-362b833a2849"
   },
   "outputs": [
    {
     "data": {
      "text/plain": [
       "<AxesSubplot:>"
      ]
     },
     "execution_count": 8,
     "metadata": {},
     "output_type": "execute_result"
    },
    {
     "data": {
      "image/png": "[encoded data removed]",
      "text/plain": [
       "<Figure size 1440x720 with 2 Axes>"
      ]
     },
     "metadata": {
      "needs_background": "light"
     },
     "output_type": "display_data"
    }
   ],
   "source": [
    "corr_matrix=df.corr()\n",
    "plt.figure(figsize=(20,10))\n",
    "sbn.heatmap(corr_matrix,annot=True,cmap='Pastel1', vmin=-1, vmax=+1)"
   ]
  },
  {
   "cell_type": "markdown",
   "metadata": {
    "id": "HFZYNNy8vVst"
   },
   "source": [
    "Factors (cp,thalach, slope and restecg) has positive value with target as this factors affect the chances of heart disease."
   ]
  },
  {
   "cell_type": "markdown",
   "metadata": {
    "id": "0VC3q53gzQM1"
   },
   "source": [
    "# Task 4. Use an 80-20 rule to train and test the following ML models:\n",
    "\n",
    "1. Logistic Regression\n",
    "2. Random Forest\n",
    "3. SGD Classifier\n",
    "\n",
    "\n"
   ]
  },
  {
   "cell_type": "code",
   "execution_count": 9,
   "metadata": {
    "id": "r7fEEW7-1yhF"
   },
   "outputs": [
    {
     "name": "stdout",
     "output_type": "stream",
     "text": [
      "Shape of X_train=  (242, 13)\n",
      "Shape of X_test=  (61, 13)\n",
      "Shape of y_train=  (242,)\n",
      "Shape of y_test=  (61,)\n"
     ]
    }
   ],
   "source": [
    "# Split the data set \n",
    "X = df.drop(columns = ['target'])\n",
    "Y = df['target'] \n",
    "X_train, X_test, Y_train, Y_test = train_test_split(X, Y, test_size = 0.20, random_state = 51)  \n",
    "print(\"Shape of X_train= \",X_train.shape)\n",
    "print(\"Shape of X_test= \",X_test.shape)\n",
    "print(\"Shape of y_train= \",Y_train.shape)\n",
    "print(\"Shape of y_test= \",Y_test.shape)"
   ]
  },
  {
   "cell_type": "markdown",
   "metadata": {
    "id": "cVxSI1rZOt7u"
   },
   "source": [
    "### Logistic Regression"
   ]
  },
  {
   "cell_type": "code",
   "execution_count": 10,
   "metadata": {
    "colab": {
     "base_uri": "https://localhost:8080/"
    },
    "id": "H5p9tA-dV5Wj",
    "outputId": "83631b66-9545-485f-b7e7-22af2165ce26"
   },
   "outputs": [
    {
     "name": "stdout",
     "output_type": "stream",
     "text": [
      "RUNNING THE L-BFGS-B CODE\n",
      "\n",
      "           * * *\n",
      "\n",
      "Machine precision = 2.220D-16\n",
      " N =           14     M =           10\n",
      "\n",
      "At X0         0 variables are exactly at the bounds\n",
      "\n",
      "At iterate    0    f=  1.67742D+02    |proj g|=  3.01950D+03\n",
      "\n",
      "At iterate    1    f=  1.66608D+02    |proj g|=  2.70007D+03\n",
      "\n",
      "At iterate    2    f=  1.65818D+02    |proj g|=  8.72496D+02\n",
      "\n",
      "At iterate    3    f=  1.65493D+02    |proj g|=  1.14469D+03\n",
      "\n",
      "At iterate    4    f=  1.63362D+02    |proj g|=  2.22068D+03\n",
      "\n",
      "At iterate    5    f=  1.60196D+02    |proj g|=  3.54287D+03\n",
      "\n",
      "At iterate    6    f=  1.55224D+02    |proj g|=  4.04089D+03\n",
      "\n",
      "At iterate    7    f=  1.49292D+02    |proj g|=  1.94494D+03\n",
      "\n",
      "At iterate    8    f=  1.47033D+02    |proj g|=  4.18986D+02\n",
      "\n",
      "At iterate    9    f=  1.46674D+02    |proj g|=  8.44172D+02\n",
      "\n",
      "At iterate   10    f=  1.46326D+02    |proj g|=  1.08065D+03\n",
      "\n",
      "At iterate   11    f=  1.45985D+02    |proj g|=  6.35172D+02\n",
      "\n",
      "At iterate   12    f=  1.45891D+02    |proj g|=  8.56001D+01\n",
      "\n",
      "At iterate   13    f=  1.45881D+02    |proj g|=  8.72091D+01\n",
      "\n",
      "At iterate   14    f=  1.45875D+02    |proj g|=  1.61659D+02\n",
      "\n",
      "At iterate   15    f=  1.45858D+02    |proj g|=  2.87892D+02\n",
      "\n",
      "At iterate   16    f=  1.45809D+02    |proj g|=  4.91518D+02\n",
      "\n",
      "At itera"
     ]
    },
    {
     "name": "stderr",
     "output_type": "stream",
     "text": [
      "[Parallel(n_jobs=1)]: Using backend SequentialBackend with 1 concurrent workers.\n",
      " This problem is unconstrained.\n",
      "[Parallel(n_jobs=1)]: Done   1 out of   1 | elapsed:    0.3s remaining:    0.0s\n"
     ]
    },
    {
     "name": "stdout",
     "output_type": "stream",
     "text": [
      "te   17    f=  1.45691D+02    |proj g|=  7.79833D+02\n",
      "\n",
      "At iterate   18    f=  1.45408D+02    |proj g|=  1.15194D+03\n",
      "\n",
      "At iterate   19    f=  1.44809D+02    |proj g|=  1.46515D+03\n",
      "\n",
      "At iterate   20    f=  1.43855D+02    |proj g|=  1.27042D+03\n",
      "\n",
      "At iterate   21    f=  1.42602D+02    |proj g|=  6.87061D+02\n",
      "\n",
      "At iterate   22    f=  1.41506D+02    |proj g|=  3.93512D+02\n",
      "\n",
      "At iterate   23    f=  1.41126D+02    |proj g|=  6.30376D+02\n",
      "\n",
      "At iterate   24    f=  1.41026D+02    |proj g|=  1.39395D+02\n",
      "\n",
      "At iterate   25    f=  1.40941D+02    |proj g|=  2.50117D+02\n",
      "\n",
      "At iterate   26    f=  1.40846D+02    |proj g|=  2.50631D+02\n",
      "\n",
      "At iterate   27    f=  1.40090D+02    |proj g|=  5.78190D+02\n",
      "\n",
      "At iterate   28    f=  1.37373D+02    |proj g|=  1.04808D+03\n",
      "\n",
      "At iterate   29    f=  1.31269D+02    |proj g|=  1.32435D+03\n",
      "\n",
      "At iterate   30    f=  1.25924D+02    |proj g|=  3.43636D+03\n",
      "\n",
      "At iterate   31    f=  1.11656D+02    |proj g|=  2.12025D+03\n",
      "\n",
      "At iterate   32    f=  1.02747D+02    |proj g|=  1.23723D+03\n",
      "\n",
      "At iterate   33 logistic classifier class value:  [0 1]\n"
     ]
    },
    {
     "name": "stderr",
     "output_type": "stream",
     "text": [
      "[Parallel(n_jobs=1)]: Done   1 out of   1 | elapsed:    0.3s finished\n"
     ]
    },
    {
     "name": "stdout",
     "output_type": "stream",
     "text": [
      "   f=  9.46258D+01    |proj g|=  3.60581D+02\n",
      "\n",
      "At iterate   34    f=  9.36792D+01    |proj g|=  9.27968D+01\n",
      "\n",
      "At iterate   35    f=  9.36687D+01    |proj g|=  1.10681D+02\n",
      "\n",
      "At iterate   36    f=  9.35803D+01    |proj g|=  1.05200D+02\n",
      "\n",
      "At iterate   37    f=  9.35183D+01    |proj g|=  4.15801D+01\n",
      "\n",
      "At iterate   38    f=  9.35043D+01    |proj g|=  6.25595D+00\n",
      "\n",
      "At iterate   39    f=  9.35021D+01    |proj g|=  6.28034D+00\n",
      "\n",
      "At iterate   40    f=  9.34546D+01    |proj g|=  2.40256D+01\n",
      "\n",
      "At iterate   41    f=  9.33018D+01    |proj g|=  1.96557D+02\n",
      "\n",
      "At iterate   42    f=  9.30058D+01    |proj g|=  1.80412D+02\n",
      "\n",
      "At iterate   43    f=  9.08107D+01    |proj g|=  1.89415D+02\n",
      "\n",
      "At iterate   44    f=  8.94835D+01    |proj g|=  2.05096D+02\n",
      "\n",
      "At iterate   45    f=  8.92788D+01    |proj g|=  3.34428D+02\n",
      "\n",
      "At iterate   46    f=  8.91351D+01    |proj g|=  3.01458D+02\n",
      "\n",
      "At iterate   47    f=  8.87600D+01    |proj g|=  5.72806D+01\n",
      "\n",
      "At iterate   48    f=  8.87119D+01    |proj g|=  3.82315D+00\n",
      "\n",
      "At iterate   49    f=  8.87108D+01    |proj g|=  2.97713D+00\n",
      "\n",
      "At iterate   50    f=  8.87091D+01    |proj g|=  4.79574D+00\n",
      "\n",
      "At iterate   51    f=  8.86979D+01    |proj g|=  2.34471D+01\n",
      "\n",
      "At iterate   52    f=  8.86966D+01    |proj g|=  4.73922D+00\n",
      "\n",
      "At iterate   53    f=  8.86937D+01    |proj g|=  6.79635D+00\n",
      "\n",
      "At iterate   54    f=  8.86833D+01    |proj g|=  1.08592D+01\n",
      "\n",
      "At iterate   55    f=  8.86307D+01    |proj g|=  3.54653D+01\n",
      "\n",
      "At iterate   56    f=  8.85521D+01    |proj g|=  5.51511D+01\n",
      "\n",
      "At iterate   57    f=  8.85176D+01    |proj g|=  2.35534D+02\n",
      "\n",
      "At iterate   58    f=  8.83550D+01    |proj g|=  5.65729D+01\n",
      "\n",
      "At iterate   59    f=  8.82091D+01    |proj g|=  5.97350D+01\n",
      "\n",
      "At iterate   60    f=  8.81553D+01    |proj g|=  4.31238D+01\n",
      "\n",
      "At iterate   61    f=  8.81527D+01    |proj g|=  4.92766D+01\n",
      "\n",
      "At iterate   62    f=  8.81503D+01    |proj g|=  3.03250D+01\n",
      "\n",
      "At iterate   63    f=  8.81482D+01    |proj g|=  3.70586D+00\n",
      "\n",
      "At iterate   64    f=  8.81478D+01    |proj g|=  3.01951D+00\n",
      "\n",
      "At iterate   65    f=  8.81465D+01    |proj g|=  4.21330D+00\n",
      "\n",
      "At iterate   66    f=  8.81461D+01    |proj g|=  1.25764D+01\n",
      "\n",
      "At iterate   67    f=  8.81447D+01    |proj g|=  1.08401D+01\n",
      "\n",
      "At iterate   68    f=  8.81444D+01    |proj g|=  1.80633D+01\n",
      "\n",
      "At iterate   69    f=  8.81432D+01    |proj g|=  3.15148D+00\n",
      "\n",
      "At iterate   70    f=  8.81426D+01    |proj g|=  4.73179D+00\n",
      "\n",
      "At iterate   71    f=  8.81416D+01    |proj g|=  9.23008D+00\n",
      "\n",
      "At iterate   72    f=  8.81399D+01    |proj g|=  6.58346D+00\n",
      "\n",
      "At iterate   73    f=  8.81389D+01    |proj g|=  1.98070D+01\n",
      "\n",
      "At iterate   74    f=  8.81378D+01    |proj g|=  6.30339D+00\n",
      "\n",
      "At iterate   75    f=  8.81373D+01    |proj g|=  5.78693D+00\n",
      "\n",
      "At iterate   76    f=  8.81366D+01    |proj g|=  5.89567D+00\n",
      "\n",
      "At iterate   77    f=  8.81343D+01    |proj g|=  7.71204D+00\n",
      "\n",
      "At iterate   78    f=  8.81335D+01    |proj g|=  1.81343D+01\n",
      "\n",
      "At iterate   79    f=  8.81300D+01    |proj g|=  6.30976D+01\n",
      "\n",
      "At iterate   80    f=  8.81225D+01    |proj g|=  4.76589D+01\n",
      "\n",
      "At iterate   81    f=  8.80519D+01    |proj g|=  5.16077D+01\n",
      "\n",
      "At iterate   82    f=  8.79707D+01    |proj g|=  8.57637D+01\n",
      "\n",
      "At iterate   83    f=  8.79102D+01    |proj g|=  1.89758D+01\n",
      "\n",
      "At iterate   84    f=  8.79051D+01    |proj g|=  2.51694D+01\n",
      "\n",
      "At iterate   85    f=  8.79048D+01    |proj g|=  8.19499D+00\n",
      "\n",
      "At iterate   86    f=  8.79034D+01    |proj g|=  6.82863D+00\n",
      "\n",
      "At iterate   87    f=  8.79019D+01    |proj g|=  5.93705D+00\n",
      "\n",
      "At iterate   88    f=  8.79011D+01    |proj g|=  3.27388D+00\n",
      "\n",
      "At iterate   89    f=  8.79010D+01    |proj g|=  1.15390D+01\n",
      "\n",
      "At iterate   90    f=  8.79006D+01    |proj g|=  3.34620D+01\n",
      "\n",
      "At iterate   91    f=  8.78999D+01    |proj g|=  1.96469D+01\n",
      "\n",
      "At iterate   92    f=  8.78981D+01    |proj g|=  5.29768D+00\n",
      "\n",
      "At iterate   93    f=  8.78970D+01    |proj g|=  1.30032D+01\n",
      "\n",
      "At iterate   94    f=  8.78966D+01    |proj g|=  5.24078D+00\n",
      "\n",
      "At iterate   95    f=  8.78965D+01    |proj g|=  3.77819D+00\n",
      "\n",
      "At iterate   96    f=  8.78965D+01    |proj g|=  5.15860D+00\n",
      "\n",
      "At iterate   97    f=  8.78964D+01    |proj g|=  1.71373D+00\n",
      "\n",
      "At iterate   98    f=  8.78962D+01    |proj g|=  1.23778D+01\n",
      "\n",
      "At iterate   99    f=  8.78961D+01    |proj g|=  1.80188D+01\n",
      "\n",
      "At iterate  100    f=  8.78957D+01    |proj g|=  1.86307D+01\n",
      "\n",
      "At iterate  101    f=  8.78957D+01    |proj g|=  2.41333D+01\n",
      "\n",
      "At iterate  102    f=  8.78954D+01    |proj g|=  1.41672D+01\n",
      "\n",
      "At iterate  103    f=  8.78953D+01    |proj g|=  4.32188D+00\n",
      "\n",
      "At iterate  104    f=  8.78953D+01    |proj g|=  2.06357D+00\n",
      "\n",
      "At iterate  105    f=  8.78953D+01    |proj g|=  3.86175D+00\n",
      "\n",
      "At iterate  106    f=  8.78952D+01    |proj g|=  7.53118D+00\n",
      "\n",
      "At iterate  107    f=  8.78951D+01    |proj g|=  1.23420D+01\n",
      "\n",
      "At iterate  108    f=  8.78947D+01    |proj g|=  1.68730D+01\n",
      "\n",
      "At iterate  109    f=  8.78943D+01    |proj g|=  1.63983D+01\n",
      "\n",
      "At iterate  110    f=  8.78943D+01    |proj g|=  1.55263D+01\n",
      "\n",
      "At iterate  111    f=  8.78936D+01    |proj g|=  1.20717D+01\n",
      "\n",
      "At iterate  112    f=  8.78930D+01    |proj g|=  6.02324D+00\n",
      "\n",
      "At iterate  113    f=  8.78927D+01    |proj g|=  1.94775D+00\n",
      "\n",
      "At iterate  114    f=  8.78925D+01    |proj g|=  2.71513D+01\n",
      "\n",
      "At iterate  115    f=  8.78922D+01    |proj g|=  1.48539D+01\n",
      "\n",
      "At iterate  116    f=  8.78917D+01    |proj g|=  4.19510D+00\n",
      "\n",
      "At iterate  117    f=  8.78916D+01    |proj g|=  6.13734D+00\n",
      "\n",
      "At iterate  118    f=  8.78911D+01    |proj g|=  4.40605D+00\n",
      "\n",
      "At iterate  119    f=  8.78903D+01    |proj g|=  1.26591D+01\n",
      "\n",
      "At iterate  120    f=  8.78900D+01    |proj g|=  2.92465D+00\n",
      "\n",
      "At iterate  121    f=  8.78900D+01    |proj g|=  2.03554D+00\n",
      "\n",
      "At iterate  122    f=  8.78899D+01    |proj g|=  3.61438D+00\n",
      "\n",
      "At iterate  123    f=  8.78898D+01    |proj g|=  7.26930D+00\n",
      "\n",
      "At iterate  124    f=  8.78895D+01    |proj g|=  1.14540D+01\n",
      "\n",
      "At iterate  125    f=  8.78890D+01    |proj g|=  1.04146D+01\n",
      "\n",
      "At iterate  126    f=  8.78890D+01    |proj g|=  1.95796D+01\n",
      "\n",
      "At iterate  127    f=  8.78883D+01    |proj g|=  1.17281D+01\n",
      "\n",
      "At iterate  128    f=  8.78877D+01    |proj g|=  2.28251D+00\n",
      "\n",
      "At iterate  129    f=  8.78875D+01    |proj g|=  6.32572D+00\n",
      "\n",
      "At iterate  130    f=  8.78874D+01    |proj g|=  7.60702D+00\n",
      "\n",
      "At iterate  131    f=  8.78872D+01    |proj g|=  3.04943D+00\n",
      "\n",
      "At iterate  132    f=  8.78870D+01    |proj g|=  3.01992D+00\n",
      "\n",
      "At iterate  133    f=  8.78858D+01    |proj g|=  8.11004D+00\n",
      "\n",
      "At iterate  134    f=  8.78851D+01    |proj g|=  6.64821D+00\n",
      "\n",
      "At iterate  135    f=  8.78833D+01    |proj g|=  4.87409D+00\n",
      "\n",
      "At iterate  136    f=  8.78798D+01    |proj g|=  1.40035D+01\n",
      "\n",
      "At iterate  137    f=  8.78783D+01    |proj g|=  3.43667D+01\n",
      "\n",
      "At iterate  138    f=  8.78778D+01    |proj g|=  3.22301D+00\n",
      "\n",
      "At iterate  139    f=  8.78775D+01    |proj g|=  5.24160D+00\n",
      "\n",
      "At iterate  140    f=  8.78772D+01    |proj g|=  3.38620D+00\n",
      "\n",
      "At iterate  141    f=  8.78766D+01    |proj g|=  2.66293D+01\n",
      "\n",
      "At iterate  142    f=  8.78752D+01    |proj g|=  8.22686D+00\n",
      "\n",
      "At iterate  143    f=  8.78732D+01    |proj g|=  1.26071D+01\n",
      "\n",
      "At iterate  144    f=  8.78715D+01    |proj g|=  1.76404D+01\n",
      "\n",
      "At iterate  145    f=  8.78713D+01    |proj g|=  1.35641D+01\n",
      "\n",
      "At iterate  146    f=  8.78707D+01    |proj g|=  4.28219D+00\n",
      "\n",
      "At iterate  147    f=  8.78706D+01    |proj g|=  2.46807D+00\n",
      "\n",
      "At iterate  148    f=  8.78705D+01    |proj g|=  4.86210D+00\n",
      "\n",
      "At iterate  149    f=  8.78704D+01    |proj g|=  4.85529D+00\n",
      "\n",
      "At iterate  150    f=  8.78704D+01    |proj g|=  8.87887D+00\n",
      "\n",
      "At iterate  151    f=  8.78703D+01    |proj g|=  5.07092D+00\n",
      "\n",
      "At iterate  152    f=  8.78703D+01    |proj g|=  1.44835D+00\n",
      "\n",
      "At iterate  153    f=  8.78703D+01    |proj g|=  3.77405D-01\n",
      "\n",
      "At iterate  154    f=  8.78703D+01    |proj g|=  4.22436D-01\n",
      "\n",
      "At iterate  155    f=  8.78703D+01    |proj g|=  6.39356D-01\n",
      "\n",
      "At iterate  156    f=  8.78703D+01    |proj g|=  1.19213D+00\n",
      "\n",
      "At iterate  157    f=  8.78703D+01    |proj g|=  3.43691D-01\n",
      "\n",
      "At iterate  158    f=  8.78702D+01    |proj g|=  6.22587D-01\n",
      "\n",
      "At iterate  159    f=  8.78702D+01    |proj g|=  2.10033D+00\n",
      "\n",
      "At iterate  160    f=  8.78702D+01    |proj g|=  1.71826D+00\n",
      "\n",
      "At iterate  161    f=  8.78701D+01    |proj g|=  9.45764D+00\n",
      "\n",
      "At iterate  162   "
     ]
    }
   ],
   "source": [
    "# Logistic regression model\n",
    "\n",
    "lr_classifier = LogisticRegression(fit_intercept=True,\n",
    "                        multi_class='auto',\n",
    "                        solver='lbfgs', \n",
    "                        max_iter=1000,\n",
    "                        verbose=2,\n",
    "                        random_state=51\n",
    "                        )\n",
    "\n",
    "lr_classifier.fit(X_train, Y_train)\n",
    "\n",
    "#print(\"logistic classifier coefficient value: \",lr_classifier.coef_)\n",
    "print(\"logistic classifier class value: \",lr_classifier.classes_)\n",
    "\n",
    "\n"
   ]
  },
  {
   "cell_type": "code",
   "execution_count": 11,
   "metadata": {},
   "outputs": [
    {
     "name": "stdout",
     "output_type": "stream",
     "text": [
      " f=  8.78701D+01    |proj g|=  3.65738D+00\n",
      "\n",
      "At iterate  163    f=  8.78700D+01    |proj g|=  1.94769D+00\n",
      "\n",
      "At iterate  164    f=  8.78699D+01    |proj g|=  2.52113D+00\n",
      "\n",
      "At iterate  165    f=  8.78698D+01    |proj g|=  1.38992D+00\n",
      "\n",
      "At iterate  166    f=  8.78697D+01    |proj g|=  5.06656D+00\n",
      "\n",
      "At iterate  167    f=  8.78696D+01    |proj g|=  2.23175D+00\n",
      "\n",
      "At iterate  168    f=  8.78696D+01    |proj g|=  1.71082D+00\n",
      "\n",
      "At iterate  169    f=  8.78696D+01    |proj g|=  3.00946D+00\n",
      "\n",
      "At iterate  170    f=  8.78695D+01    |proj g|=  7.88474D+00\n",
      "\n",
      "At iterate  171    f=  8.78693D+01    |proj g|=  1.38869D+01\n",
      "\n",
      "At iterate  172    f=  8.78686D+01    |proj g|=  2.22966D+01\n",
      "\n",
      "At iterate  173    f=  8.78674D+01    |proj g|=  4.27762D+01\n",
      "\n",
      "At iterate  174    f=  8.78655D+01    |proj g|=  1.23731D+01\n",
      "\n",
      "At iterate  175    f=  8.78638D+01    |proj g|=  7.67667D+01\n",
      "\n",
      "At iterate  176    f=  8.78619D+01    |proj g|=  3.00365D+01\n",
      "\n",
      "At iterate  177    f=  8.78611D+01    |proj g|=  4.77974D+00\n",
      "\n",
      "At iterate  178    f=  8.78611D+01    |proj g|=  4.70908D+00\n",
      "\n",
      "At iterate  179    f=  8.78609D+01    |proj g|=  2.01705D+00\n",
      "\n",
      "At iterate  180    f=  8.78604D+01    |proj g|=  4.30488D+00\n",
      "\n",
      "At iterate  181    f=  8.78595D+01    |proj g|=  1.02189D+01\n",
      "\n",
      "At iterate  182    f=  8.78588D+01    |proj g|=  1.08843D+01\n",
      "\n",
      "At iterate  183    f=  8.78584D+01    |proj g|=  4.46408D+00\n",
      "\n",
      "At iterate  184    f=  8.78583D+01    |proj g|=  5.03195D+00\n",
      "\n",
      "At iterate  185    f=  8.78582D+01    |proj g|=  6.72802D+00\n",
      "\n",
      "At iterate  186    f=  8.78581D+01    |proj g|=  1.71235D+00\n",
      "\n",
      "At iterate  187    f=  8.78574D+01    |proj g|=  1.09197D+01\n",
      "\n",
      "At iterate  188    f=  8.78561D+01    |proj g|=  1.31935D+01\n",
      "\n",
      "At iterate  189    f=  8.78559D+01    |proj g|=  3.08665D+01\n",
      "\n",
      "At iterate  190    f=  8.78546D+01    |proj g|=  2.08413D+01\n",
      "\n",
      "At iterate  191    f=  8.78539D+01    |proj g|=  6.62978D+00\n",
      "\n",
      "At iterate  192    f=  8.78537D+01    |proj g|=  9.57962D-01\n",
      "\n",
      "At iterate  193    f=  8.78537D+01    |proj g|=  5.56329D-01\n",
      "\n",
      "At iterate  194    f=  8.78537D+01    |proj g|=  6.17369D-01\n",
      "\n",
      "At iterate  195    f=  8.78537D+01    |proj g|=  1.69911D+00\n",
      "\n",
      "At iterate  196    f=  8.78536D+01    |proj g|=  2.09246D+00\n",
      "\n",
      "At iterate  197    f=  8.78536D+01    |proj g|=  3.77849D+00\n",
      "\n",
      "At iterate  198    f=  8.78534D+01    |proj g|=  6.82610D+00\n",
      "\n",
      "At iterate  199    f=  8.78527D+01    |proj g|=  1.08674D+01\n",
      "\n",
      "At iterate  200    f=  8.78514D+01    |proj g|=  2.73748D+01\n",
      "\n",
      "At iterate  201    f=  8.78505D+01    |proj g|=  1.12812D+01\n",
      "\n",
      "At iterate  202    f=  8.78490D+01    |proj g|=  7.93143D+00\n",
      "\n",
      "At iterate  203    f=  8.78478D+01    |proj g|=  9.07552D+00\n",
      "\n",
      "At iterate  204    f=  8.78457D+01    |proj g|=  5.09621D+01\n",
      "\n",
      "At iterate  205    f=  8.78432D+01    |proj g|=  3.56783D+01\n",
      "\n",
      "At iterate  206    f=  8.78393D+01    |proj g|=  2.73925D+00\n",
      "\n",
      "At iterate  207    f=  8.78390D+01    |proj g|=  3.76643D+00\n",
      "\n",
      "At iterate  208    f=  8.78383D+01    |proj g|=  3.37697D+00\n",
      "\n",
      "At iterate  209    f=  8.78381D+01    |proj g|=  2.03605D+00\n",
      "\n",
      "At iterate  210    f=  8.78375D+01    |proj g|=  2.67218D+00\n",
      "\n",
      "At iterate  211    f=  8.78372D+01    |proj g|=  1.63027D+01\n",
      "\n",
      "At iterate  212    f=  8.78368D+01    |proj g|=  6.81899D+00\n",
      "\n",
      "At iterate  213    f=  8.78367D+01    |proj g|=  1.57529D+00\n",
      "\n",
      "At iterate  214    f=  8.78367D+01    |proj g|=  3.62997D-01\n",
      "\n",
      "At iterate  215    f=  8.78367D+01    |proj g|=  3.48574D-01\n",
      "\n",
      "At iterate  216    f=  8.78367D+01    |proj g|=  4.99195D+00\n",
      "\n",
      "At iterate  217    f=  8.78366D+01    |proj g|=  1.10651D+00\n",
      "\n",
      "At iterate  218    f=  8.78366D+01    |proj g|=  1.30653D+00\n",
      "\n",
      "At iterate  219    f=  8.78366D+01    |proj g|=  1.08122D+00\n",
      "\n",
      "At iterate  220    f=  8.78364D+01    |proj g|=  2.18883D+00\n",
      "\n",
      "At iterate  221    f=  8.78362D+01    |proj g|=  2.12796D+00\n",
      "\n",
      "At iterate  222    f=  8.78360D+01    |proj g|=  4.05662D+00\n",
      "\n",
      "At iterate  223    f=  8.78360D+01    |proj g|=  7.87071D+00\n",
      "\n",
      "At iterate  224    f=  8.78356D+01    |proj g|=  3.57152D+00\n",
      "\n",
      "At iterate  225    f=  8.78353D+01    |proj g|=  2.09180D+00\n",
      "\n",
      "At iterate  226    f=  8.78348D+01    |proj g|=  6Train score: 0.8636363636363636\n",
      "Train score: 0.8360655737704918\n",
      ".66121D+00\n",
      "\n",
      "At iterate  227    f=  8.78339D+01    |proj g|=  9.98925D+00\n",
      "\n",
      "At iterate  228    f=  8.78326D+01    |proj g|=  6.26744D+01\n",
      "\n",
      "At iterate  229    f=  8.78295D+01    |proj g|=  3.93824D+01\n",
      "\n",
      "At iterate  230    f=  8.78207D+01    |proj g|=  1.39190D+01\n",
      "\n",
      "At iterate  231    f=  8.78130D+01    |proj g|=  4.07198D+01\n",
      "\n",
      "At iterate  232    f=  8.78057D+01    |proj g|=  3.65703D+01\n",
      "\n",
      "At iterate  233    f=  8.77981D+01    |proj g|=  4.02313D+01\n",
      "\n",
      "At iterate  234    f=  8.77976D+01    |proj g|=  1.56010D+01\n",
      "\n",
      "At iterate  235    f=  8.77908D+01    |proj g|=  1.03595D+01\n",
      "\n",
      "At iterate  236    f=  8.77844D+01    |proj g|=  2.23196D+01\n",
      "\n",
      "At iterate  237    f=  8.77738D+01    |proj g|=  3.56223D+01\n",
      "\n",
      "At iterate  238    f=  8.77632D+01    |proj g|=  9.11859D+00\n",
      "\n",
      "At iterate  239    f=  8.77527D+01    |proj g|=  4.67821D+00\n",
      "\n",
      "At iterate  240    f=  8.77525D+01    |proj g|=  2.52954D+01\n",
      "\n",
      "At iterate  241    f=  8.77482D+01    |proj g|=  1.70195D+01\n",
      "\n",
      "At iterate  242    f=  8.77416D+01    |proj g|=  5.44238D+00\n",
      "\n",
      "At iterate  243    f=  8.77400D+01    |proj g|=  5.80752D+00\n",
      "\n",
      "At iterate  244    f=  8.77387D+01    |proj g|=  4.76438D+00\n",
      "\n",
      "At iterate  245    f=  8.77374D+01    |proj g|=  2.82114D+01\n",
      "\n",
      "At iterate  246    f=  8.77359D+01    |proj g|=  7.98539D+00\n",
      "\n",
      "At iterate  247    f=  8.77349D+01    |proj g|=  6.83388D+00\n",
      "\n",
      "At iterate  248    f=  8.77284D+01    |proj g|=  2.13228D+01\n",
      "\n",
      "At iterate  249    f=  8.77251D+01    |proj g|=  2.99425D+00\n",
      "\n",
      "At iterate  250    f=  8.77241D+01    |proj g|=  3.83113D+00\n",
      "\n",
      "At iterate  251    f=  8.77221D+01    |proj g|=  2.81988D+01\n",
      "\n",
      "At iterate  252    f=  8.77209D+01    |proj g|=  1.43437D+01\n",
      "\n",
      "At iterate  253    f=  8.77200D+01    |proj g|=  1.18722D+01\n",
      "\n",
      "At iterate  254    f=  8.77165D+01    |proj g|=  1.51963D+01\n",
      "\n",
      "At iterate  255    f=  8.77161D+01    |proj g|=  3.46536D+00\n",
      "\n",
      "At iterate  256    f=  8.77160D+01    |proj g|=  8.26786D-01\n",
      "\n",
      "At iterate  257    f=  8.77160D+01    |proj g|=  8.20651D-01\n",
      "\n",
      "At iterate  258    f=  8.77160D+01    |proj g|=  2.73005D+00\n",
      "\n",
      "At iterate  259    f=  8.77158D+01    |proj g|=  6.27839D+00\n",
      "\n",
      "At iterate  260    f=  8.77156D+01    |proj g|=  4.08065D+00\n",
      "\n",
      "At iterate  261    f=  8.77155D+01    |proj g|=  1.21658D+01\n",
      "\n",
      "At iterate  262    f=  8.77153D+01    |proj g|=  4.86522D+00\n",
      "\n",
      "At iterate  263    f=  8.77152D+01    |proj g|=  4.93691D+00\n",
      "\n",
      "At iterate  264    f=  8.77152D+01    |proj g|=  2.29919D+00\n",
      "\n",
      "At iterate  265    f=  8.77152D+01    |proj g|=  1.86061D+00\n",
      "\n",
      "At iterate  266    f=  8.77151D+01    |proj g|=  2.67699D+00\n",
      "\n",
      "At iterate  267    f=  8.77151D+01    |proj g|=  4.01519D+00\n",
      "\n",
      "At iterate  268    f=  8.77149D+01    |proj g|=  3.63713D+00\n",
      "\n",
      "At iterate  269    f=  8.77147D+01    |proj g|=  2.99389D+00\n",
      "\n",
      "At iterate  270    f=  8.77146D+01    |proj g|=  6.05282D+00\n",
      "\n",
      "At iterate  271    f=  8.77143D+01    |proj g|=  3.87001D+00\n",
      "\n",
      "At iterate  272    f=  8.77142D+01    |proj g|=  8.69674D-01\n",
      "\n",
      "At iterate  273    f=  8.77141D+01    |proj g|=  1.29583D+00\n",
      "\n",
      "At iterate  274    f=  8.77140D+01    |proj g|=  2.33042D+00\n",
      "\n",
      "At iterate  275    f=  8.77136D+01    |proj g|=  8.41254D+00\n",
      "\n",
      "At iterate  276    f=  8.77134D+01    |proj g|=  2.27413D+01\n",
      "\n",
      "At iterate  277    f=  8.77125D+01    |proj g|=  6.67690D+00\n",
      "\n",
      "At iterate  278    f=  8.77106D+01    |proj g|=  2.72159D+01\n",
      "\n",
      "At iterate  279    f=  8.77080D+01    |proj g|=  4.55283D+01\n",
      "\n",
      "At iterate  280    f=  8.77061D+01    |proj g|=  3.38401D+01\n",
      "\n",
      "At iterate  281    f=  8.77054D+01    |proj g|=  9.92186D+00\n",
      "\n",
      "At iterate  282    f=  8.77051D+01    |proj g|=  7.62074D+00\n",
      "\n",
      "At iterate  283    f=  8.77049D+01    |proj g|=  1.37622D+01\n",
      "\n",
      "At iterate  284    f=  8.77047D+01    |proj g|=  1.27618D+01\n",
      "\n",
      "At iterate  285    f=  8.77047D+01    |proj g|=  1.73533D+01\n",
      "\n",
      "At iterate  286    f=  8.77046D+01    |proj g|=  8.06537D+00\n",
      "\n",
      "At iterate  287    f=  8.77045D+01    |proj g|=  1.69206D+00\n",
      "\n",
      "At iterate  288    f=  8.77045D+01    |proj g|=  5.18266D+00\n",
      "\n",
      "At iterate  289    f=  8.77044D+01    |proj g|=  1.15364D+01\n",
      "\n",
      "At iterate  290    f=  8.77042D+01    |proj g|=  1.80012D+01\n",
      "\n",
      "At iterate  291    f=  8.77039D+01    |proj g|=  2.13794D+01\n",
      "\n",
      "At iterate  292    f=  8.77034D+01    |proj g|=  2.00294D+01\n",
      "\n",
      "At iterate  293    f=  8.77031D+01    |proj g|=  2.02564D+01\n",
      "\n",
      "At iterate  294    f=  8.77007D+01    |proj g|=  2.84727D+01\n",
      "\n",
      "At iterate  295    f=  8.76980D+01    |proj g|=  1.24643D+01\n",
      "\n",
      "At iterate  296    f=  8.76895D+01    |proj g|=  6.44690D+01\n",
      "\n",
      "At iterate  297    f=  8.76880D+01    |proj g|=  5.57839D+01\n",
      "\n",
      "At iterate  298    f=  8.76821D+01    |proj g|=  5.23222D+01\n",
      "\n",
      "At iterate  299    f=  8.76808D+01    |proj g|=  1.56769D+01\n",
      "\n",
      "At iterate  300    f=  8.76755D+01    |proj g|=  1.59501D+01\n",
      "\n",
      "At iterate  301    f=  8.76687D+01    |proj g|=  5.18154D+01\n",
      "\n",
      "At iterate  302    f=  8.76602D+01    |proj g|=  9.65697D+00\n",
      "\n",
      "At iterate  303    f=  8.76594D+01    |proj g|=  4.17419D+00\n",
      "\n",
      "At iterate  304    f=  8.76591D+01    |proj g|=  2.32873D+00\n",
      "\n",
      "At iterate  305    f=  8.76584D+01    |proj g|=  2.69366D+00\n",
      "\n",
      "At iterate  306    f=  8.76561D+01    |proj g|=  5.93685D+00\n",
      "\n",
      "At iterate  307    f=  8.76556D+01    |proj g|=  8.10882D+00\n",
      "\n",
      "At iterate  308    f=  8.76492D+01    |proj g|=  6.80613D+00\n",
      "\n",
      "At iterate  309    f=  8.76420D+01    |proj g|=  4.49393D+00\n",
      "\n",
      "At iterate  310    f=  8.76320D+01    |proj g|=  3.23497D+01\n",
      "\n",
      "At iterate  311    f=  8.76309D+01    |proj g|=  1.98059D+01\n",
      "\n",
      "At iterate  312    f=  8.76264D+01    |proj g|=  3.26897D+00\n",
      "\n",
      "At iterate  313    f=  8.76254D+01    |proj g|=  5.53840D+00\n",
      "\n",
      "At iterate  314    f=  8.76252D+01    |proj g|=  6.61019D+00\n",
      "\n",
      "At iterate  315    f=  8.76250D+01    |proj g|=  4.28355D+00\n",
      "\n",
      "At iterate  316    f=  8.76247D+01    |proj g|=  4.08809D+00\n",
      "\n",
      "At iterate  317    f=  8.76244D+01    |proj g|=  5.64796D+00\n",
      "\n",
      "At iterate  318    f=  8.76234D+01    |proj g|=  9.16986D+00\n",
      "\n",
      "At iterate  319    f=  8.76220D+01    |proj g|=  1.00116D+01\n",
      "\n",
      "At iterate  320    f=  8.76204D+01    |proj g|=  9.27424D+00\n",
      "\n",
      "At iterate  321    f=  8.76175D+01    |proj g|=  5.09685D+00\n",
      "\n",
      "At iterate  322    f=  8.76141D+01    |proj g|=  1.43002D+01\n",
      "\n",
      "At iterate  323    f=  8.76136D+01    |proj g|=  1.86347D+01\n",
      "\n",
      "At iterate  324    f=  8.76102D+01    |proj g|=  1.63272D+01\n",
      "\n",
      "At iterate  325    f=  8.76049D+01    |proj g|=  1.31569D+01\n",
      "\n",
      "At iterate  326    f=  8.76046D+01    |proj g|=  7.74588D+00\n",
      "\n",
      "At iterate  327    f=  8.76006D+01    |proj g|=  4.15168D+00\n",
      "\n",
      "At iterate  328    f=  8.75992D+01    |proj g|=  6.96202D+00\n",
      "\n",
      "At iterate  329    f=  8.75981D+01    |proj g|=  1.41967D+00\n",
      "\n",
      "At iterate  330    f=  8.75976D+01    |proj g|=  1.49769D+00\n",
      "\n",
      "At iterate  331    f=  8.75968D+01    |proj g|=  4.65681D+00\n",
      "\n",
      "At iterate  332    f=  8.75953D+01    |proj g|=  7.63734D+00\n",
      "\n",
      "At iterate  333    f=  8.75927D+01    |proj g|=  8.78486D+00\n",
      "\n",
      "At iterate  334    f=  8.75926D+01    |proj g|=  4.57807D+00\n",
      "\n",
      "At iterate  335    f=  8.75902D+01    |proj g|=  4.27902D+00\n",
      "\n",
      "At iterate  336    f=  8.75814D+01    |proj g|=  1.06415D+01\n",
      "\n",
      "At iterate  337    f=  8.75707D+01    |proj g|=  9.57236D+00\n",
      "\n",
      "At iterate  338    f=  8.75591D+01    |proj g|=  6.45626D+01\n",
      "\n",
      "At iterate  339    f=  8.75468D+01    |proj g|=  1.43358D+01\n",
      "\n",
      "At iterate  340    f=  8.75462D+01    |proj g|=  7.94314D+00\n",
      "\n",
      "At iterate  341    f=  8.75458D+01    |proj g|=  3.35341D+00\n",
      "\n",
      "At iterate  342    f=  8.75451D+01    |proj g|=  6.30691D+00\n",
      "\n",
      "At iterate  343    f=  8.75448D+01    |proj g|=  3.49084D+00\n",
      "\n",
      "At iterate  344    f=  8.75445D+01    |proj g|=  1.66452D+00\n",
      "\n",
      "At iterate  345    f=  8.75444D+01    |proj g|=  1.06239D+01\n",
      "\n",
      "At iterate  346    f=  8.75442D+01    |proj g|=  3.76064D+00\n",
      "\n",
      "At iterate  347    f=  8.75442D+01    |proj g|=  2.68372D+00\n",
      "\n",
      "At iterate  348    f=  8.75439D+01    |proj g|=  1.19095D+00\n",
      "\n",
      "At iterate  349    f=  8.75438D+01    |proj g|=  2.11692D+00\n",
      "\n",
      "At iterate  350    f=  8.75438D+01    |proj g|=  1.92872D+00\n",
      "\n",
      "At iterate  351    f=  8.75438D+01    |proj g|=  8.21649D-01\n",
      "\n",
      "At iterate  352    f=  8.75437D+01    |proj g|=  1.89519D+00\n",
      "\n",
      "At iterate  353    f=  8.75436D+01    |proj g|=  4.00602D+00\n",
      "\n",
      "At iterate  354    f=  8.75434D+01    |proj g|=  7.56417D+00\n",
      "\n",
      "At iterate  355    f=  8.75431D+01    |proj g|=  9.96561D+00\n",
      "\n",
      "At iterate  356    f=  8.75426D+01    |proj g|=  7.16712D+00\n",
      "\n",
      "At iterate  357    f=  8.75426D+01    |proj g|=  1.43313D+01\n",
      "\n",
      "At iterate  358    f=  8.75422D+01    |proj g|=  4.40796D+00\n",
      "\n",
      "At iterate  359    f=  8.75421D+01    |proj g|=  1.88041D+00\n",
      "\n",
      "At iterate  360    f=  8.75420D+01    |proj g|=  3.67232D+00\n",
      "\n",
      "At iterate  361    f=  8.75420D+01    |proj g|=  5.17217D+00\n",
      "\n",
      "At iterate  362    f=  8.75418D+01    |proj g|=  5.43967D+00\n",
      "\n",
      "At iterate  363    f=  8.75417D+01    |proj g|=  9.35459D+00\n",
      "\n",
      "At iterate  364    f=  8.75415D+01    |proj g|=  5.80717D+00\n",
      "\n",
      "At iterate  365    f=  8.75414D+01    |proj g|=  1.81731D+00\n",
      "\n",
      "At iterate  366    f=  8.75413D+01    |proj g|=  7.52995D-01\n",
      "\n",
      "At iterate  367    f=  8.75413D+01    |proj g|=  2.10991D+00\n",
      "\n",
      "At iterate  368    f=  8.75413D+01    |proj g|=  2.29350D+00\n",
      "\n",
      "At iterate  369    f=  8.75413D+01    |proj g|=  5.92826D+00\n",
      "\n",
      "At iterate  370    f=  8.75412D+01    |proj g|=  6.21867D+00\n",
      "\n",
      "At iterate  371    f=  8.75412D+01    |proj g|=  5.76605D+00\n",
      "\n",
      "At iterate  372    f=  8.75406D+01    |proj g|=  1.44163D+00\n",
      "\n",
      "At iterate  373    f=  8.75397D+01    |proj g|=  3.81786D+00\n",
      "\n",
      "At iterate  374    f=  8.75385D+01    |proj g|=  1.44124D+01\n",
      "\n",
      "At iterate  375    f=  8.75382D+01    |proj g|=  1.31436D+01\n",
      "\n",
      "At iterate  376    f=  8.75372D+01    |proj g|=  3.22599D+00\n",
      "\n",
      "At iterate  377    f=  8.75370D+01    |proj g|=  2.61622D+00\n",
      "\n",
      "At iterate  378    f=  8.75368D+01    |proj g|=  6.49456D+00\n",
      "\n",
      "At iterate  379    f=  8.75362D+01    |proj g|=  3.63460D+00\n",
      "\n",
      "At iterate  380    f=  8.75354D+01    |proj g|=  2.98178D+01\n",
      "\n",
      "At iterate  381    f=  8.75349D+01    |proj g|=  7.00148D+00\n",
      "\n",
      "At iterate  382    f=  8.75345D+01    |proj g|=  7.69330D+00\n",
      "\n",
      "At iterate  383    f=  8.75332D+01    |proj g|=  5.07343D+00\n",
      "\n",
      "At iterate  384    f=  8.75279D+01    |proj g|=  7.47420D+00\n",
      "\n",
      "At iterate  385    f=  8.75192D+01    |proj g|=  5.11657D+01\n",
      "\n",
      "At iterate  386    f=  8.75141D+01    |proj g|=  3.48472D+00\n",
      "\n",
      "At iterate  387    f=  8.75126D+01    |proj g|=  7.70128D+00\n",
      "\n",
      "At iterate  388    f=  8.75122D+01    |proj g|=  3.19703D+00\n",
      "\n",
      "At iterate  389    f=  8.75120D+01    |proj g|=  2.77070D+00\n",
      "\n",
      "At iterate  390    f=  8.75117D+01    |proj g|=  3.63048D+00\n",
      "\n",
      "At iterate  391    f=  8.75116D+01    |proj g|=  1.53036D+01\n",
      "\n",
      "At iterate  392    f=  8.75111D+01    |proj g|=  7.65363D+00\n",
      "\n",
      "At iterate  393    f=  8.75109D+01    |proj g|=  2.00125D+00\n",
      "\n",
      "At iterate  394    f=  8.75107D+01    |proj g|=  5.34722D+00\n",
      "\n",
      "At iterate  395    f=  8.75101D+01    |proj g|=  1.09784D+01\n",
      "\n",
      "At iterate  396    f=  8.75088D+01    |proj g|=  1.68605D+01\n",
      "\n",
      "At iterate  397    f=  8.75058D+01    |proj g|=  1.89490D+01\n",
      "\n",
      "At iterate  398    f=  8.75053D+01    |proj g|=  3.48201D+01\n",
      "\n",
      "At iterate  399    f=  8.74996D+01    |proj g|=  2.72351D+01\n",
      "\n",
      "At iterate  400    f=  8.74904D+01    |proj g|=  2.69658D+01\n",
      "\n",
      "At iterate  401    f=  8.74865D+01    |proj g|=  1.51362D+01\n",
      "\n",
      "At iterate  402    f=  8.74795D+01    |proj g|=  1.15844D+01\n",
      "\n",
      "At iterate  403    f=  8.74794D+01    |proj g|=  5.54212D+00\n",
      "\n",
      "At iterate  404    f=  8.74760D+01    |proj g|=  1.27450D+00\n",
      "\n",
      "At iterate  405    f=  8.74760D+01    |proj g|=  3.22467D+00\n",
      "\n",
      "At iterate  406    f=  8.74760D+01    |proj g|=  2.62224D+00\n",
      "\n",
      "At iterate  407    f=  8.74758D+01    |proj g|=  1.68888D+00\n",
      "\n",
      "At iterate  408    f=  8.74757D+01    |proj g|=  1.94331D+00\n",
      "\n",
      "At iterate  409    f=  8.74751D+01    |proj g|=  2.27444D+01\n",
      "\n",
      "At iterate  410    f=  8.74733D+01    |proj g|=  7.37612D+00\n",
      "\n",
      "At iterate  411    f=  8.74709D+01    |proj g|=  6.33211D+00\n",
      "\n",
      "At iterate  412    f=  8.74691D+01    |proj g|=  9.76187D+00\n",
      "\n",
      "At iterate  413    f=  8.74683D+01    |proj g|=  6.47371D+00\n",
      "\n",
      "At iterate  414    f=  8.74681D+01    |proj g|=  2.26128D+01\n",
      "\n",
      "At iterate  415    f=  8.74671D+01    |proj g|=  5.20953D+00\n",
      "\n",
      "At iterate  416    f=  8.74663D+01    |proj g|=  1.21179D+01\n",
      "\n",
      "At iterate  417    f=  8.74637D+01    |proj g|=  4.15860D+01\n",
      "\n",
      "At iterate  418    f=  8.74603D+01    |proj g|=  5.92674D+01\n",
      "\n",
      "At iterate  419    f=  8.74564D+01    |proj g|=  4.47019D+01\n",
      "\n",
      "At iterate  420    f=  8.74558D+01    |proj g|=  4.63813D+01\n",
      "\n",
      "At iterate  421    f=  8.74540D+01    |proj g|=  4.96742D+00\n",
      "\n",
      "At iterate  422    f=  8.74536D+01    |proj g|=  8.36907D+00\n",
      "\n",
      "At iterate  423    f=  8.74531D+01    |proj g|=  1.85396D+01\n",
      "\n",
      "At iterate  424    f=  8.74526D+01    |proj g|=  2.52475D+01\n",
      "\n",
      "At iterate  425    f=  8.74511D+01    |proj g|=  2.41725D+01\n",
      "\n",
      "At iterate  426    f=  8.74509D+01    |proj g|=  4.08986D+01\n",
      "\n",
      "At iterate  427    f=  8.74489D+01    |proj g|=  3.28197D+01\n",
      "\n",
      "At iterate  428    f=  8.74454D+01    |proj g|=  1.34753D+01\n",
      "\n",
      "At iterate  429    f=  8.74432D+01    |proj g|=  7.09754D+00\n",
      "\n",
      "At iterate  430    f=  8.74425D+01    |proj g|=  1.24754D+01\n",
      "\n",
      "At iterate  431    f=  8.74418D+01    |proj g|=  1.10565D+01\n",
      "\n",
      "At iterate  432    f=  8.74416D+01    |proj g|=  4.65906D+00\n",
      "\n",
      "At iterate  433    f=  8.74412D+01    |proj g|=  1.90645D+00\n",
      "\n",
      "At iterate  434    f=  8.74410D+01    |proj g|=  3.43644D+00\n",
      "\n",
      "At iterate  435    f=  8.74404D+01    |proj g|=  5.86943D+00\n",
      "\n",
      "At iterate  436    f=  8.74395D+01    |proj g|=  8.83646D+00\n",
      "\n",
      "At iterate  437    f=  8.74393D+01    |proj g|=  8.39071D+00\n",
      "\n",
      "At iterate  438    f=  8.74383D+01    |proj g|=  3.78377D+00\n",
      "\n",
      "At iterate  439    f=  8.74374D+01    |proj g|=  5.15871D+00\n",
      "\n",
      "At iterate  440    f=  8.74373D+01    |proj g|=  8.12566D-01\n",
      "\n",
      "At iterate  441    f=  8.74371D+01    |proj g|=  7.94980D-01\n",
      "\n",
      "At iterate  442    f=  8.74369D+01    |proj g|=  1.46430D+00\n",
      "\n",
      "At iterate  443    f=  8.74369D+01    |proj g|=  7.13074D+00\n",
      "\n",
      "At iterate  444    f=  8.74366D+01    |proj g|=  2.31128D+00\n",
      "\n",
      "At iterate  445    f=  8.74364D+01    |proj g|=  3.39540D+00\n",
      "\n",
      "At iterate  446    f=  8.74357D+01    |proj g|=  7.70692D+00\n",
      "\n",
      "At iterate  447    f=  8.74347D+01    |proj g|=  9.01931D+00\n",
      "\n",
      "At iterate  448    f=  8.74345D+01    |proj g|=  1.51841D+01\n",
      "\n",
      "At iterate  449    f=  8.74333D+01    |proj g|=  4.52110D+00\n",
      "\n",
      "At iterate  450    f=  8.74328D+01    |proj g|=  2.85835D+00\n",
      "\n",
      "At iterate  451    f=  8.74328D+01    |proj g|=  1.73029D+00\n",
      "\n",
      "At iterate  452    f=  8.74327D+01    |proj g|=  1.19439D+00\n",
      "\n",
      "At iterate  453    f=  8.74326D+01    |proj g|=  4.26244D+00\n",
      "\n",
      "At iterate  454    f=  8.74323D+01    |proj g|=  2.95343D+00\n",
      "\n",
      "At iterate  455    f=  8.74322D+01    |proj g|=  9.77783D+00\n",
      "\n",
      "At iterate  456    f=  8.74318D+01    |proj g|=  4.79284D+00\n",
      "\n",
      "At iterate  457    f=  8.74308D+01    |proj g|=  4.03967D+00\n",
      "\n",
      "At iterate  458    f=  8.74289D+01    |proj g|=  1.55085D+01\n",
      "\n",
      "At iterate  459    f=  8.74253D+01    |proj g|=  3.86297D+01\n",
      "\n",
      "At iterate  460    f=  8.74223D+01    |proj g|=  1.24168D+01\n",
      "\n",
      "At iterate  461    f=  8.74184D+01    |proj g|=  4.71166D+01\n",
      "\n",
      "At iterate  462    f=  8.74167D+01    |proj g|=  1.85995D+01\n",
      "\n",
      "At iterate  463    f=  8.74159D+01    |proj g|=  1.01611D+01\n",
      "\n",
      "At iterate  464    f=  8.74157D+01    |proj g|=  1.19876D+01\n",
      "\n",
      "At iterate  465    f=  8.74150D+01    |proj g|=  1.04013D+01\n",
      "\n",
      "At iterate  466    f=  8.74150D+01    |proj g|=  1.74788D+01\n",
      "\n",
      "At iterate  467    f=  8.74144D+01    |proj g|=  9.92498D+00\n",
      "\n",
      "At iterate  468    f=  8.74141D+01    |proj g|=  2.96610D+00\n",
      "\n",
      "At iterate  469    f=  8.74137D+01    |proj g|=  8.95256D+00\n",
      "\n",
      "At iterate  470    f=  8.74134D+01    |proj g|=  1.21354D+01\n",
      "\n",
      "At iterate  471    f=  8.74131D+01    |proj g|=  1.14939D+01\n",
      "\n",
      "At iterate  472    f=  8.74131D+01    |proj g|=  1.49648D+01\n",
      "\n",
      "At iterate  473    f=  8.74128D+01    |proj g|=  6.90539D+00\n",
      "\n",
      "At iterate  474    f=  8.74127D+01    |proj g|=  1.93834D+00\n",
      "\n",
      "At iterate  475    f=  8.74127D+01    |proj g|=  4.13700D+00\n",
      "\n",
      "At iterate  476    f=  8.74126D+01    |proj g|=  9.71294D+00\n",
      "\n",
      "At iterate  477    f=  8.74125D+01    |proj g|=  1.29086D+01\n",
      "\n",
      "At iterate  478    f=  8.74123D+01    |proj g|=  2.58556D+01\n",
      "\n",
      "At iterate  479    f=  8.74120D+01    |proj g|=  7.82785D+00\n",
      "\n",
      "At iterate  480    f=  8.74118D+01    |proj g|=  3.39132D+00\n",
      "\n",
      "At iterate  481    f=  8.74115D+01    |proj g|=  7.42471D+00\n",
      "\n",
      "At iterate  482    f=  8.74114D+01    |proj g|=  8.86389D+00\n",
      "\n",
      "At iterate  483    f=  8.74112D+01    |proj g|=  6.66401D+00\n",
      "\n",
      "At iterate  484    f=  8.74110D+01    |proj g|=  1.45118D+01\n",
      "\n",
      "At iterate  485    f=  8.74108D+01    |proj g|=  6.06693D+00\n",
      "\n",
      "At iterate  486    f=  8.74106D+01    |proj g|=  1.19081D+00\n",
      "\n",
      "At iterate  487    f=  8.74106D+01    |proj g|=  3.02936D+00\n",
      "\n",
      "At iterate  488    f=  8.74105D+01    |proj g|=  4.19905D+00\n",
      "\n",
      "At iterate  489    f=  8.74104D+01    |proj g|=  6.13060D+00\n",
      "\n",
      "At iterate  490    f=  8.74104D+01    |proj g|=  1.99784D+00\n",
      "\n",
      "At iterate  491    f=  8.74103D+01    |proj g|=  1.95482D+00\n",
      "\n",
      "At iterate  492    f=  8.74103D+01    |proj g|=  2.18909D+00\n",
      "\n",
      "At iterate  493    f=  8.74101D+01    |proj g|=  3.42974D+00\n",
      "\n",
      "At iterate  494    f=  8.74101D+01    |proj g|=  2.48050D+00\n",
      "\n",
      "At iterate  495    f=  8.74100D+01    |proj g|=  3.74228D+00\n",
      "\n",
      "At iterate  496    f=  8.74100D+01    |proj g|=  1.03252D+00\n",
      "\n",
      "At iterate  497    f=  8.74100D+01    |proj g|=  1.15641D+00\n",
      "\n",
      "At iterate  498    f=  8.74100D+01    |proj g|=  7.48137D-01\n",
      "\n",
      "At iterate  499    f=  8.74100D+01    |proj g|=  5.27888D-01\n",
      "\n",
      "At iterate  500    f=  8.74099D+01    |proj g|=  8.25832D-01\n",
      "\n",
      "At iterate  501    f=  8.74097D+01    |proj g|=  2.70919D+00\n",
      "\n",
      "At iterate  502    f=  8.74097D+01    |proj g|=  4.79949D+00\n",
      "\n",
      "At iterate  503    f=  8.74096D+01    |proj g|=  1.30756D+00\n",
      "\n",
      "At iterate  504    f=  8.74095D+01    |proj g|=  1.42495D+00\n",
      "\n",
      "At iterate  505    f=  8.74095D+01    |proj g|=  1.62545D+00\n",
      "\n",
      "At iterate  506    f=  8.74093D+01    |proj g|=  6.37790D+00\n",
      "\n",
      "At iterate  507    f=  8.74093D+01    |proj g|=  1.76700D+00\n",
      "\n",
      "At iterate  508    f=  8.74092D+01    |proj g|=  1.09230D+00\n",
      "\n",
      "At iterate  509    f=  8.74090D+01    |proj g|=  3.42642D+00\n",
      "\n",
      "At iterate  510    f=  8.74089D+01    |proj g|=  8.54263D-01\n",
      "\n",
      "At iterate  511    f=  8.74089D+01    |proj g|=  2.29405D+00\n",
      "\n",
      "At iterate  512    f=  8.74088D+01    |proj g|=  3.27683D+00\n",
      "\n",
      "At iterate  513    f=  8.74088D+01    |proj g|=  1.84050D+00\n",
      "\n",
      "At iterate  514    f=  8.74088D+01    |proj g|=  9.42969D-01\n",
      "\n",
      "At iterate  515    f=  8.74087D+01    |proj g|=  3.12843D+00\n",
      "\n",
      "At iterate  516    f=  8.74087D+01    |proj g|=  6.18549D+00\n",
      "\n",
      "At iterate  517    f=  8.74085D+01    |proj g|=  9.11076D+00\n",
      "\n",
      "At iterate  518    f=  8.74083D+01    |proj g|=  1.23643D+01\n",
      "\n",
      "At iterate  519    f=  8.74082D+01    |proj g|=  3.06622D+00\n",
      "\n",
      "At iterate  520    f=  8.74078D+01    |proj g|=  5.07083D+00\n",
      "\n",
      "At iterate  521    f=  8.74073D+01    |proj g|=  6.10331D+00\n",
      "\n",
      "At iterate  522    f=  8.74063D+01    |proj g|=  2.56887D+01\n",
      "\n",
      "At iterate  523    f=  8.74057D+01    |proj g|=  1.33334D+01\n",
      "\n",
      "At iterate  524    f=  8.74057D+01    |proj g|=  7.09567D+00\n",
      "\n",
      "At iterate  525    f=  8.74056D+01    |proj g|=  8.60877D-01\n",
      "\n",
      "At iterate  526    f=  8.74056D+01    |proj g|=  1.22053D+00\n",
      "\n",
      "At iterate  527    f=  8.74056D+01    |proj g|=  2.03503D+00\n",
      "\n",
      "At iterate  528    f=  8.74056D+01    |proj g|=  2.08442D+00\n",
      "\n",
      "At iterate  529    f=  8.74055D+01    |proj g|=  2.08833D+00\n",
      "\n",
      "At iterate  530    f=  8.74055D+01    |proj g|=  3.12953D+00\n",
      "\n",
      "At iterate  531    f=  8.74055D+01    |proj g|=  1.45660D+00\n",
      "\n",
      "At iterate  532    f=  8.74055D+01    |proj g|=  5.75154D-01\n",
      "\n",
      "At iterate  533    f=  8.74055D+01    |proj g|=  2.30101D-01\n",
      "\n",
      "At iterate  534    f=  8.74055D+01    |proj g|=  4.27058D-01\n",
      "\n",
      "At iterate  535    f=  8.74055D+01    |proj g|=  6.07838D-01\n",
      "\n",
      "At iterate  536    f=  8.74055D+01    |proj g|=  3.98405D+00\n",
      "\n",
      "At iterate  537    f=  8.74054D+01    |proj g|=  2.20731D+00\n",
      "\n",
      "At iterate  538    f=  8.74054D+01    |proj g|=  7.08712D-01\n",
      "\n",
      "At iterate  539    f=  8.74054D+01    |proj g|=  6.24691D-01\n",
      "\n",
      "At iterate  540    f=  8.74054D+01    |proj g|=  4.77151D-01\n",
      "\n",
      "At iterate  541    f=  8.74054D+01    |proj g|=  7.87769D-01\n",
      "\n",
      "At iterate  542    f=  8.74054D+01    |proj g|=  9.33361D-01\n",
      "\n",
      "At iterate  543    f=  8.74054D+01    |proj g|=  3.42332D-01\n",
      "\n",
      "At iterate  544    f=  8.74054D+01    |proj g|=  2.63939D-01\n",
      "\n",
      "At iterate  545    f=  8.74053D+01    |proj g|=  6.84935D-01\n",
      "\n",
      "At iterate  546    f=  8.74053D+01    |proj g|=  1.50356D+00\n",
      "\n",
      "At iterate  547    f=  8.74052D+01    |proj g|=  5.66125D+00\n",
      "\n",
      "At iterate  548    f=  8.74052D+01    |proj g|=  3.08076D+00\n",
      "\n",
      "At iterate  549    f=  8.74051D+01    |proj g|=  7.66708D-01\n",
      "\n",
      "At iterate  550    f=  8.74051D+01    |proj g|=  4.02436D-01\n",
      "\n",
      "At iterate  551    f=  8.74051D+01    |proj g|=  3.70503D-01\n",
      "\n",
      "At iterate  552    f=  8.74051D+01    |proj g|=  8.69747D-01\n",
      "\n",
      "At iterate  553    f=  8.74051D+01    |proj g|=  6.27658D-01\n",
      "\n",
      "At iterate  554    f=  8.74051D+01    |proj g|=  2.82657D-01\n",
      "\n",
      "At iterate  555    f=  8.74051D+01    |proj g|=  2.80110D-01\n",
      "\n",
      "At iterate  556    f=  8.74051D+01    |proj g|=  3.84968D-01\n",
      "\n",
      "At iterate  557    f=  8.74051D+01    |proj g|=  3.90826D-01\n",
      "\n",
      "At iterate  558    f=  8.74051D+01    |proj g|=  1.69783D+00\n",
      "\n",
      "At iterate  559    f=  8.74051D+01    |proj g|=  5.15537D-01\n",
      "\n",
      "At iterate  560    f=  8.74051D+01    |proj g|=  3.00003D-01\n",
      "\n",
      "At iterate  561    f=  8.74050D+01    |proj g|=  1.21849D+00\n",
      "\n",
      "At iterate  562    f=  8.74050D+01    |proj g|=  1.38335D+00\n",
      "\n",
      "At iterate  563    f=  8.74050D+01    |proj g|=  2.73102D+00\n",
      "\n",
      "At iterate  564    f=  8.74050D+01    |proj g|=  1.88790D+00\n",
      "\n",
      "At iterate  565    f=  8.74049D+01    |proj g|=  1.10321D+00\n",
      "\n",
      "At iterate  566    f=  8.74049D+01    |proj g|=  1.66075D+00\n",
      "\n",
      "At iterate  567    f=  8.74049D+01    |proj g|=  1.85386D+00\n",
      "\n",
      "At iterate  568    f=  8.74047D+01    |proj g|=  1.71073D+00\n",
      "\n",
      "At iterate  569    f=  8.74047D+01    |proj g|=  5.30795D+00\n",
      "\n",
      "At iterate  570    f=  8.74046D+01    |proj g|=  2.52520D+00\n",
      "\n",
      "At iterate  571    f=  8.74046D+01    |proj g|=  1.52818D+00\n",
      "\n",
      "At iterate  572    f=  8.74045D+01    |proj g|=  1.76394D+00\n",
      "\n",
      "At iterate  573    f=  8.74044D+01    |proj g|=  2.35100D+00\n",
      "\n",
      "At iterate  574    f=  8.74044D+01    |proj g|=  1.71107D+00\n",
      "\n",
      "At iterate  575    f=  8.74043D+01    |proj g|=  2.80492D-01\n",
      "\n",
      "At iterate  576    f=  8.74043D+01    |proj g|=  5.83532D-01\n",
      "\n",
      "At iterate  577    f=  8.74043D+01    |proj g|=  4.90464D-01\n",
      "\n",
      "At iterate  578    f=  8.74043D+01    |proj g|=  3.25785D-01\n",
      "\n",
      "At iterate  579    f=  8.74043D+01    |proj g|=  1.58201D-01\n",
      "\n",
      "At iterate  580    f=  8.74043D+01    |proj g|=  2.97760D-01\n",
      "\n",
      "At iterate  581    f=  8.74043D+01    |proj g|=  3.81695D-01\n",
      "\n",
      "At iterate  582    f=  8.74043D+01    |proj g|=  4.59107D-01\n",
      "\n",
      "At iterate  583    f=  8.74043D+01    |proj g|=  3.89643D-01\n",
      "\n",
      "At iterate  584    f=  8.74043D+01    |proj g|=  3.79358D-01\n",
      "\n",
      "At iterate  585    f=  8.74043D+01    |proj g|=  2.02000D+00\n",
      "\n",
      "At iterate  586    f=  8.74043D+01    |proj g|=  7.71472D-01\n",
      "\n",
      "At iterate  587    f=  8.74043D+01    |proj g|=  6.40058D-01\n",
      "\n",
      "At iterate  588    f=  8.74043D+01    |proj g|=  1.73057D+00\n",
      "\n",
      "At iterate  589    f=  8.74042D+01    |proj g|=  1.73512D+00\n",
      "\n",
      "At iterate  590    f=  8.74042D+01    |proj g|=  3.90120D+00\n",
      "\n",
      "At iterate  591    f=  8.74042D+01    |proj g|=  2.52890D+00\n",
      "\n",
      "At iterate  592    f=  8.74042D+01    |proj g|=  1.09484D+00\n",
      "\n",
      "At iterate  593    f=  8.74041D+01    |proj g|=  1.02250D+00\n",
      "\n",
      "At iterate  594    f=  8.74041D+01    |proj g|=  2.36143D-01\n",
      "\n",
      "At iterate  595    f=  8.74041D+01    |proj g|=  6.89508D-01\n",
      "\n",
      "At iterate  596    f=  8.74041D+01    |proj g|=  1.93353D+00\n",
      "\n",
      "At iterate  597    f=  8.74041D+01    |proj g|=  2.00823D-01\n",
      "\n",
      "At iterate  598    f=  8.74041D+01    |proj g|=  1.57290D-01\n",
      "\n",
      "           * * *\n",
      "\n",
      "Tit   = total number of iterations\n",
      "Tnf   = total number of function evaluations\n",
      "Tnint = total number of segments explored during Cauchy searches\n",
      "Skip  = number of BFGS updates skipped\n",
      "Nact  = number of active bounds at final generalized Cauchy point\n",
      "Projg = norm of the final projected gradient\n",
      "F     = final function value\n",
      "\n",
      "           * * *\n",
      "\n",
      "   N    Tit     Tnf  Tnint  Skip  Nact     Projg        F\n",
      "   14    598    708      1     0     0   1.573D-01   8.740D+01\n",
      "  F =   87.404099127166830     \n",
      "\n",
      "CONVERGENCE: REL_REDUCTION_OF_F_<=_FACTR*EPSMCH             \n"
     ]
    }
   ],
   "source": [
    "# Accuracy scores on the training and testing sets\n",
    "\n",
    "lr_train_score = lr_classifier.score(X_train, Y_train)\n",
    "lr_test_score = lr_classifier.score(X_test, Y_test)\n",
    "\n",
    "print (\"Train score:\",lr_train_score)\n",
    "print (\"Train score:\",lr_test_score)"
   ]
  },
  {
   "cell_type": "code",
   "execution_count": 12,
   "metadata": {
    "colab": {
     "base_uri": "https://localhost:8080/",
     "height": 111
    },
    "id": "jh6TiNev4VvG",
    "outputId": "b2b09f8b-6a48-4626-fbd9-42d35b1428d6"
   },
   "outputs": [
    {
     "data": {
      "text/plain": [
       "Text(0.5, 20.57999999999999, 'Prediction')"
      ]
     },
     "execution_count": 12,
     "metadata": {},
     "output_type": "execute_result"
    },
    {
     "data": {
      "image/png": "[encoded data removed]",
      "text/plain": [
       "<Figure size 216x216 with 2 Axes>"
      ]
     },
     "metadata": {
      "needs_background": "light"
     },
     "output_type": "display_data"
    }
   ],
   "source": [
    "# The confusion matrix\n",
    "\n",
    "lr_predictions = lr_classifier.predict(X_test)\n",
    "\n",
    "labels = lr_classifier.classes_\n",
    "\n",
    "# compute TP, TN, FP, FN values\n",
    "lr_cm = confusion_matrix(y_true=Y_test, \n",
    "                      y_pred = lr_predictions, \n",
    "                      labels = labels)\n",
    "\n",
    "plt.figure(figsize=(3,3))\n",
    "sbn.heatmap(lr_cm, annot=True,linewidths=.5, square = True);\n",
    "\n",
    "plt.ylabel('Actual')\n",
    "plt.xlabel('Prediction')"
   ]
  },
  {
   "cell_type": "code",
   "execution_count": 13,
   "metadata": {
    "colab": {
     "base_uri": "https://localhost:8080/"
    },
    "id": "vSWSaP064ewH",
    "outputId": "23e8006f-2184-4a90-967c-38a96e2c3510"
   },
   "outputs": [
    {
     "name": "stdout",
     "output_type": "stream",
     "text": [
      "              precision    recall  f1-score   support\n",
      "\n",
      "           0       0.88      0.77      0.82        30\n",
      "           1       0.80      0.90      0.85        31\n",
      "\n",
      "    accuracy                           0.84        61\n",
      "   macro avg       0.84      0.83      0.83        61\n",
      "weighted avg       0.84      0.84      0.84        61\n",
      "\n"
     ]
    }
   ],
   "source": [
    "# Print the classification report \n",
    "lr_cr = classification_report(y_true=Y_test, \n",
    "                      y_pred = lr_predictions, \n",
    "                      labels = labels)\n",
    "\n",
    "print(lr_cr)"
   ]
  },
  {
   "cell_type": "code",
   "execution_count": 14,
   "metadata": {
    "colab": {
     "base_uri": "https://localhost:8080/",
     "height": 279
    },
    "id": "4X60e6OLPdue",
    "outputId": "785182e0-5216-4fb2-bf2a-e806da4d3c69"
   },
   "outputs": [
    {
     "data": {
      "image/png": "[encoded data removed]",
      "text/plain": [
       "<Figure size 432x288 with 1 Axes>"
      ]
     },
     "metadata": {
      "needs_background": "light"
     },
     "output_type": "display_data"
    }
   ],
   "source": [
    "#Plotting ROC Curve with logistic regrssion\n",
    "ax = plt.gca()\n",
    "rfc_disp = plot_roc_curve(lr_classifier, X_test, Y_test, ax=ax)\n",
    "plt.show()"
   ]
  },
  {
   "cell_type": "markdown",
   "metadata": {},
   "source": [
    "# SGD classifier"
   ]
  },
  {
   "cell_type": "code",
   "execution_count": 15,
   "metadata": {
    "colab": {
     "base_uri": "https://localhost:8080/"
    },
    "id": "AVLPbmXM8TX1",
    "outputId": "0f7c8683-861d-4e7a-8227-de859a53c1e2"
   },
   "outputs": [
    {
     "data": {
      "text/plain": [
       "SGDClassifier(random_state=0, tol=1e-05)"
      ]
     },
     "execution_count": 15,
     "metadata": {},
     "output_type": "execute_result"
    }
   ],
   "source": [
    "\n",
    "sgd_classifier = SGDClassifier(max_iter=1000, tol=1e-5,random_state=0)\n",
    "sgd_classifier.fit(X_train, Y_train)\n"
   ]
  },
  {
   "cell_type": "code",
   "execution_count": 16,
   "metadata": {},
   "outputs": [
    {
     "name": "stdout",
     "output_type": "stream",
     "text": [
      "Train score: 0.6115702479338843\n",
      "Train score: 0.6229508196721312\n"
     ]
    }
   ],
   "source": [
    "sgd_train_score = sgd_classifier.score(X_train, Y_train)\n",
    "sgd_test_score = sgd_classifier.score(X_test, Y_test)\n",
    "\n",
    "print (\"Train score:\",sgd_train_score)\n",
    "print (\"Train score:\",sgd_test_score)"
   ]
  },
  {
   "cell_type": "code",
   "execution_count": 17,
   "metadata": {
    "colab": {
     "base_uri": "https://localhost:8080/",
     "height": 111
    },
    "id": "veP7Slpc8lJ0",
    "outputId": "a0687e69-4ce0-4483-ef22-a3a4656edd70"
   },
   "outputs": [
    {
     "data": {
      "text/plain": [
       "Text(0.5, 20.57999999999999, 'Prediction')"
      ]
     },
     "execution_count": 17,
     "metadata": {},
     "output_type": "execute_result"
    },
    {
     "data": {
      "image/png": "[encoded data removed]",
      "text/plain": [
       "<Figure size 216x216 with 2 Axes>"
      ]
     },
     "metadata": {
      "needs_background": "light"
     },
     "output_type": "display_data"
    }
   ],
   "source": [
    "# The confusion matrix\n",
    "\n",
    "sgd_predictions = sgd_classifier.predict(X_test)\n",
    "\n",
    "labels = sgd_classifier.classes_\n",
    "\n",
    "# compute TP, TN, FP, FN values\n",
    "sgd_cm = confusion_matrix(y_true=Y_test, \n",
    "                      y_pred = sgd_predictions, \n",
    "                      labels = labels)\n",
    "\n",
    "# Visualize the confusion matrix as a heatmap\n",
    "\n",
    "plt.figure(figsize=(3,3))\n",
    "sbn.heatmap(sgd_cm, annot=True, linewidths=.5, square = True);\n",
    "\n",
    "plt.ylabel('Actual')\n",
    "plt.xlabel('Prediction')"
   ]
  },
  {
   "cell_type": "code",
   "execution_count": 18,
   "metadata": {
    "colab": {
     "base_uri": "https://localhost:8080/"
    },
    "id": "v_kcmpPC81ux",
    "outputId": "6d55481a-b478-4861-d220-43ac6240d97f"
   },
   "outputs": [
    {
     "name": "stdout",
     "output_type": "stream",
     "text": [
      "              precision    recall  f1-score   support\n",
      "\n",
      "           0       1.00      0.23      0.38        30\n",
      "           1       0.57      1.00      0.73        31\n",
      "\n",
      "    accuracy                           0.62        61\n",
      "   macro avg       0.79      0.62      0.55        61\n",
      "weighted avg       0.78      0.62      0.56        61\n",
      "\n"
     ]
    }
   ],
   "source": [
    "# compute recall, precision, f1-scores and print the classification report \n",
    "\n",
    "sgd_cr = classification_report(y_true=Y_test, \n",
    "                      y_pred = sgd_predictions, \n",
    "                      labels = labels)\n",
    "print(sgd_cr)"
   ]
  },
  {
   "cell_type": "code",
   "execution_count": 19,
   "metadata": {
    "colab": {
     "base_uri": "https://localhost:8080/",
     "height": 279
    },
    "id": "iFpm68aI2UkJ",
    "outputId": "ec527137-7cdb-48ac-a203-282ab3b2b9f2"
   },
   "outputs": [
    {
     "data": {
      "image/png": "[encoded data removed]",
      "text/plain": [
       "<Figure size 432x288 with 1 Axes>"
      ]
     },
     "metadata": {
      "needs_background": "light"
     },
     "output_type": "display_data"
    }
   ],
   "source": [
    "#Plotting ROC curve with sgd\n",
    "ax = plt.gca()\n",
    "rfc_disp = plot_roc_curve(sgd_classifier, X_test, Y_test, ax=ax)\n",
    "plt.show()"
   ]
  },
  {
   "cell_type": "markdown",
   "metadata": {
    "id": "ChFeMuFn9A3V"
   },
   "source": [
    "### Random Forest"
   ]
  },
  {
   "cell_type": "code",
   "execution_count": 20,
   "metadata": {
    "colab": {
     "base_uri": "https://localhost:8080/"
    },
    "id": "SEqH-jNF9ATO",
    "outputId": "a1fd285f-deba-417d-820c-6ff4a196da70"
   },
   "outputs": [],
   "source": [
    "rf_classifier = RandomForestClassifier()\n",
    "rf_classifier.fit(X_train, Y_train) \n",
    "\n",
    "# The confusion matrix\n",
    "rf_predictions = rf_classifier.predict(X_test)"
   ]
  },
  {
   "cell_type": "code",
   "execution_count": 21,
   "metadata": {},
   "outputs": [
    {
     "name": "stdout",
     "output_type": "stream",
     "text": [
      "Train score: 1.0\n",
      "Train score: 0.8360655737704918\n"
     ]
    }
   ],
   "source": [
    "rf_train_score = rf_classifier.score(X_train, Y_train)\n",
    "rf_test_score = rf_classifier.score(X_test, Y_test)\n",
    "\n",
    "print (\"Train score:\",rf_train_score)\n",
    "print (\"Train score:\",rf_test_score)"
   ]
  },
  {
   "cell_type": "code",
   "execution_count": 22,
   "metadata": {},
   "outputs": [
    {
     "data": {
      "text/plain": [
       "Text(0.5, 20.57999999999999, 'Prediction')"
      ]
     },
     "execution_count": 22,
     "metadata": {},
     "output_type": "execute_result"
    },
    {
     "data": {
      "image/png": "[encoded data removed]",
      "text/plain": [
       "<Figure size 216x216 with 2 Axes>"
      ]
     },
     "metadata": {
      "needs_background": "light"
     },
     "output_type": "display_data"
    }
   ],
   "source": [
    "labels = rf_classifier.classes_\n",
    "\n",
    "# compute TP, TN, FP, FN values\n",
    "rf_cm = confusion_matrix(y_true=Y_test, \n",
    "                      y_pred = rf_predictions, \n",
    "                      labels = labels)\n",
    "\n",
    "plt.figure(figsize=(3,3))\n",
    "sbn.heatmap(rf_cm, annot=True, linewidths=.5, square = True);\n",
    "\n",
    "plt.ylabel('Actual')\n",
    "plt.xlabel('Prediction')"
   ]
  },
  {
   "cell_type": "code",
   "execution_count": 23,
   "metadata": {
    "colab": {
     "base_uri": "https://localhost:8080/"
    },
    "id": "7jK9V-Yl9_pK",
    "outputId": "ad829812-f843-44bf-f981-087bf8a5fa1d"
   },
   "outputs": [
    {
     "name": "stdout",
     "output_type": "stream",
     "text": [
      "              precision    recall  f1-score   support\n",
      "\n",
      "           0       0.86      0.80      0.83        30\n",
      "           1       0.82      0.87      0.84        31\n",
      "\n",
      "    accuracy                           0.84        61\n",
      "   macro avg       0.84      0.84      0.84        61\n",
      "weighted avg       0.84      0.84      0.84        61\n",
      "\n"
     ]
    }
   ],
   "source": [
    "# Print the classification report \n",
    "# compute recall, precision, f1-scores\n",
    "rf_cr = classification_report(y_true=Y_test, \n",
    "                      y_pred = rf_predictions, \n",
    "                      labels = labels)\n",
    "print(rf_cr)"
   ]
  },
  {
   "cell_type": "code",
   "execution_count": 24,
   "metadata": {
    "colab": {
     "base_uri": "https://localhost:8080/",
     "height": 279
    },
    "id": "v27rOx_H-Eql",
    "outputId": "69f1ecda-4107-40e5-cc24-299e3cd7d9ce"
   },
   "outputs": [
    {
     "data": {
      "image/png": "[encoded data removed]",
      "text/plain": [
       "<Figure size 432x288 with 1 Axes>"
      ]
     },
     "metadata": {
      "needs_background": "light"
     },
     "output_type": "display_data"
    }
   ],
   "source": [
    "#Plotting ROC Curve with random forest classifier\n",
    "ax = plt.gca()\n",
    "rfc_disp = plot_roc_curve(rf_classifier, X_test, Y_test, ax=ax)\n",
    "plt.show()"
   ]
  },
  {
   "cell_type": "code",
   "execution_count": 25,
   "metadata": {
    "colab": {
     "base_uri": "https://localhost:8080/",
     "height": 281
    },
    "id": "VRk-KI5D56LN",
    "outputId": "5b018bf4-3381-4a70-cd15-dea19e004bd4"
   },
   "outputs": [
    {
     "data": {
      "image/png": "[encoded data removed]",
      "text/plain": [
       "<Figure size 432x288 with 1 Axes>"
      ]
     },
     "metadata": {
      "needs_background": "light"
     },
     "output_type": "display_data"
    }
   ],
   "source": [
    "# Summarize the findings for all models\n",
    "\n",
    "labels = ['Logistic Regression', 'Random Forest','SGD Classifier']\n",
    "training_scores = [lr_train_score, rf_train_score, sgd_train_score]\n",
    "testing_scores =  [lr_test_score, rf_test_score, sgd_test_score ]\n",
    "\n",
    "x = np.arange(len(labels))\n",
    "width = 0.2\n",
    "\n",
    "fig, ax = plt.subplots()\n",
    "rects1 = ax.bar(x - width/2, training_scores, width, label='Training')\n",
    "rects2 = ax.bar(x + width/2, testing_scores, width, label='Testing')\n",
    "\n",
    "# Add some text for labels, title and custom x-axis tick labels, etc.\n",
    "ax.set_ylabel('Model Accuracy')\n",
    "ax.set_xticks(x)\n",
    "ax.set_ylim(0,1)\n",
    "ax.set_xticklabels(labels)\n",
    "ax.legend(bbox_to_anchor = (1.3, 1.0))\n",
    "\n",
    "plt.title('Testing Accuracy')\n",
    "plt.show()"
   ]
  },
  {
   "cell_type": "markdown",
   "metadata": {
    "id": "3lpL3ecG9mLG"
   },
   "source": [
    "From the above graph we can say that accuracy of the Random Forest (RF) model is higher than other model."
   ]
  },
  {
   "cell_type": "markdown",
   "metadata": {
    "id": "_acv1V1o_lHc"
   },
   "source": [
    "# Task 7. Verify whether or not scaling the data helps improve model accuracies."
   ]
  },
  {
   "cell_type": "markdown",
   "metadata": {
    "id": "n-n8GVjn__1G"
   },
   "source": [
    "### Standard Scalar with all 3 model"
   ]
  },
  {
   "cell_type": "code",
   "execution_count": 26,
   "metadata": {
    "colab": {
     "base_uri": "https://localhost:8080/",
     "height": 402
    },
    "id": "bSDqSPjp_tcx",
    "outputId": "84371c05-0be4-4a0b-ceb6-601a8ace06d2"
   },
   "outputs": [
    {
     "data": {
      "text/html": [
       "<div>\n",
       "<style scoped>\n",
       "    .dataframe tbody tr th:only-of-type {\n",
       "        vertical-align: middle;\n",
       "    }\n",
       "\n",
       "    .dataframe tbody tr th {\n",
       "        vertical-align: top;\n",
       "    }\n",
       "\n",
       "    .dataframe thead th {\n",
       "        text-align: right;\n",
       "    }\n",
       "</style>\n",
       "<table border=\"1\" class=\"dataframe\">\n",
       "  <thead>\n",
       "    <tr style=\"text-align: right;\">\n",
       "      <th></th>\n",
       "      <th>age</th>\n",
       "      <th>sex</th>\n",
       "      <th>cp</th>\n",
       "      <th>trestbps</th>\n",
       "      <th>chol</th>\n",
       "      <th>fbs</th>\n",
       "      <th>restecg</th>\n",
       "      <th>thalach</th>\n",
       "      <th>exang</th>\n",
       "      <th>oldpeak</th>\n",
       "      <th>slope</th>\n",
       "      <th>ca</th>\n",
       "      <th>thal</th>\n",
       "    </tr>\n",
       "  </thead>\n",
       "  <tbody>\n",
       "    <tr>\n",
       "      <th>count</th>\n",
       "      <td>3.030000e+02</td>\n",
       "      <td>3.030000e+02</td>\n",
       "      <td>3.030000e+02</td>\n",
       "      <td>3.030000e+02</td>\n",
       "      <td>3.030000e+02</td>\n",
       "      <td>3.030000e+02</td>\n",
       "      <td>3.030000e+02</td>\n",
       "      <td>3.030000e+02</td>\n",
       "      <td>3.030000e+02</td>\n",
       "      <td>3.030000e+02</td>\n",
       "      <td>3.030000e+02</td>\n",
       "      <td>3.030000e+02</td>\n",
       "      <td>3.030000e+02</td>\n",
       "    </tr>\n",
       "    <tr>\n",
       "      <th>mean</th>\n",
       "      <td>5.825923e-17</td>\n",
       "      <td>-1.319077e-17</td>\n",
       "      <td>-5.562565e-17</td>\n",
       "      <td>-7.146832e-16</td>\n",
       "      <td>-9.828955e-17</td>\n",
       "      <td>-3.664102e-19</td>\n",
       "      <td>2.652810e-16</td>\n",
       "      <td>-5.203025e-16</td>\n",
       "      <td>-5.203025e-16</td>\n",
       "      <td>-3.140136e-16</td>\n",
       "      <td>1.355718e-16</td>\n",
       "      <td>4.752341e-16</td>\n",
       "      <td>3.484561e-16</td>\n",
       "    </tr>\n",
       "    <tr>\n",
       "      <th>std</th>\n",
       "      <td>1.001654e+00</td>\n",
       "      <td>1.001654e+00</td>\n",
       "      <td>1.001654e+00</td>\n",
       "      <td>1.001654e+00</td>\n",
       "      <td>1.001654e+00</td>\n",
       "      <td>1.001654e+00</td>\n",
       "      <td>1.001654e+00</td>\n",
       "      <td>1.001654e+00</td>\n",
       "      <td>1.001654e+00</td>\n",
       "      <td>1.001654e+00</td>\n",
       "      <td>1.001654e+00</td>\n",
       "      <td>1.001654e+00</td>\n",
       "      <td>1.001654e+00</td>\n",
       "    </tr>\n",
       "    <tr>\n",
       "      <th>min</th>\n",
       "      <td>-2.797624e+00</td>\n",
       "      <td>-1.468418e+00</td>\n",
       "      <td>-9.385146e-01</td>\n",
       "      <td>-2.148802e+00</td>\n",
       "      <td>-2.324160e+00</td>\n",
       "      <td>-4.176345e-01</td>\n",
       "      <td>-1.005832e+00</td>\n",
       "      <td>-3.439267e+00</td>\n",
       "      <td>-6.966305e-01</td>\n",
       "      <td>-8.968617e-01</td>\n",
       "      <td>-2.274579e+00</td>\n",
       "      <td>-7.144289e-01</td>\n",
       "      <td>-3.784824e+00</td>\n",
       "    </tr>\n",
       "    <tr>\n",
       "      <th>25%</th>\n",
       "      <td>-7.572802e-01</td>\n",
       "      <td>-1.468418e+00</td>\n",
       "      <td>-9.385146e-01</td>\n",
       "      <td>-6.638668e-01</td>\n",
       "      <td>-6.814943e-01</td>\n",
       "      <td>-4.176345e-01</td>\n",
       "      <td>-1.005832e+00</td>\n",
       "      <td>-7.061105e-01</td>\n",
       "      <td>-6.966305e-01</td>\n",
       "      <td>-8.968617e-01</td>\n",
       "      <td>-6.491132e-01</td>\n",
       "      <td>-7.144289e-01</td>\n",
       "      <td>-5.129219e-01</td>\n",
       "    </tr>\n",
       "    <tr>\n",
       "      <th>50%</th>\n",
       "      <td>6.988599e-02</td>\n",
       "      <td>6.810052e-01</td>\n",
       "      <td>3.203122e-02</td>\n",
       "      <td>-9.273778e-02</td>\n",
       "      <td>-1.210553e-01</td>\n",
       "      <td>-4.176345e-01</td>\n",
       "      <td>8.989622e-01</td>\n",
       "      <td>1.466343e-01</td>\n",
       "      <td>-6.966305e-01</td>\n",
       "      <td>-2.067053e-01</td>\n",
       "      <td>-6.491132e-01</td>\n",
       "      <td>-7.144289e-01</td>\n",
       "      <td>-5.129219e-01</td>\n",
       "    </tr>\n",
       "    <tr>\n",
       "      <th>75%</th>\n",
       "      <td>7.316189e-01</td>\n",
       "      <td>6.810052e-01</td>\n",
       "      <td>1.002577e+00</td>\n",
       "      <td>4.783913e-01</td>\n",
       "      <td>5.456738e-01</td>\n",
       "      <td>-4.176345e-01</td>\n",
       "      <td>8.989622e-01</td>\n",
       "      <td>7.151309e-01</td>\n",
       "      <td>1.435481e+00</td>\n",
       "      <td>4.834512e-01</td>\n",
       "      <td>9.763521e-01</td>\n",
       "      <td>2.650822e-01</td>\n",
       "      <td>1.123029e+00</td>\n",
       "    </tr>\n",
       "    <tr>\n",
       "      <th>max</th>\n",
       "      <td>2.496240e+00</td>\n",
       "      <td>6.810052e-01</td>\n",
       "      <td>1.973123e+00</td>\n",
       "      <td>3.905165e+00</td>\n",
       "      <td>6.140401e+00</td>\n",
       "      <td>2.394438e+00</td>\n",
       "      <td>2.803756e+00</td>\n",
       "      <td>2.289429e+00</td>\n",
       "      <td>1.435481e+00</td>\n",
       "      <td>4.451851e+00</td>\n",
       "      <td>9.763521e-01</td>\n",
       "      <td>3.203615e+00</td>\n",
       "      <td>1.123029e+00</td>\n",
       "    </tr>\n",
       "  </tbody>\n",
       "</table>\n",
       "</div>"
      ],
      "text/plain": [
       "                age           sex            cp      trestbps          chol  \\\n",
       "count  3.030000e+02  3.030000e+02  3.030000e+02  3.030000e+02  3.030000e+02   \n",
       "mean   5.825923e-17 -1.319077e-17 -5.562565e-17 -7.146832e-16 -9.828955e-17   \n",
       "std    1.001654e+00  1.001654e+00  1.001654e+00  1.001654e+00  1.001654e+00   \n",
       "min   -2.797624e+00 -1.468418e+00 -9.385146e-01 -2.148802e+00 -2.324160e+00   \n",
       "25%   -7.572802e-01 -1.468418e+00 -9.385146e-01 -6.638668e-01 -6.814943e-01   \n",
       "50%    6.988599e-02  6.810052e-01  3.203122e-02 -9.273778e-02 -1.210553e-01   \n",
       "75%    7.316189e-01  6.810052e-01  1.002577e+00  4.783913e-01  5.456738e-01   \n",
       "max    2.496240e+00  6.810052e-01  1.973123e+00  3.905165e+00  6.140401e+00   \n",
       "\n",
       "                fbs       restecg       thalach         exang       oldpeak  \\\n",
       "count  3.030000e+02  3.030000e+02  3.030000e+02  3.030000e+02  3.030000e+02   \n",
       "mean  -3.664102e-19  2.652810e-16 -5.203025e-16 -5.203025e-16 -3.140136e-16   \n",
       "std    1.001654e+00  1.001654e+00  1.001654e+00  1.001654e+00  1.001654e+00   \n",
       "min   -4.176345e-01 -1.005832e+00 -3.439267e+00 -6.966305e-01 -8.968617e-01   \n",
       "25%   -4.176345e-01 -1.005832e+00 -7.061105e-01 -6.966305e-01 -8.968617e-01   \n",
       "50%   -4.176345e-01  8.989622e-01  1.466343e-01 -6.966305e-01 -2.067053e-01   \n",
       "75%   -4.176345e-01  8.989622e-01  7.151309e-01  1.435481e+00  4.834512e-01   \n",
       "max    2.394438e+00  2.803756e+00  2.289429e+00  1.435481e+00  4.451851e+00   \n",
       "\n",
       "              slope            ca          thal  \n",
       "count  3.030000e+02  3.030000e+02  3.030000e+02  \n",
       "mean   1.355718e-16  4.752341e-16  3.484561e-16  \n",
       "std    1.001654e+00  1.001654e+00  1.001654e+00  \n",
       "min   -2.274579e+00 -7.144289e-01 -3.784824e+00  \n",
       "25%   -6.491132e-01 -7.144289e-01 -5.129219e-01  \n",
       "50%   -6.491132e-01 -7.144289e-01 -5.129219e-01  \n",
       "75%    9.763521e-01  2.650822e-01  1.123029e+00  \n",
       "max    9.763521e-01  3.203615e+00  1.123029e+00  "
      ]
     },
     "execution_count": 26,
     "metadata": {},
     "output_type": "execute_result"
    }
   ],
   "source": [
    "standardScaler = StandardScaler()\n",
    "scaled_data = standardScaler.fit_transform(X)\n",
    "scaled_data_ss = pd.DataFrame(scaled_data, columns=X.columns, index=X.index);\n",
    "scaled_data_ss.describe()"
   ]
  },
  {
   "cell_type": "code",
   "execution_count": 27,
   "metadata": {
    "id": "n57gOGECBwhx"
   },
   "outputs": [
    {
     "name": "stdout",
     "output_type": "stream",
     "text": [
      "Shape of X_train=  (242, 13)\n",
      "Shape of X_test=  (61, 13)\n",
      "Shape of y_train=  (242,)\n",
      "Shape of y_test=  (61,)\n"
     ]
    }
   ],
   "source": [
    "#Split data\n",
    "X_train, X_test, Y_train, Y_test = train_test_split(scaled_data_ss, Y, test_size=0.2,  random_state = 51)\n",
    "print(\"Shape of X_train= \",X_train.shape)\n",
    "print(\"Shape of X_test= \",X_test.shape)\n",
    "print(\"Shape of y_train= \",Y_train.shape)\n",
    "print(\"Shape of y_test= \",Y_test.shape)"
   ]
  },
  {
   "cell_type": "markdown",
   "metadata": {
    "id": "xFXz8NZ6H8Tq"
   },
   "source": [
    " ### Logistic Model (standard scaling)"
   ]
  },
  {
   "cell_type": "code",
   "execution_count": 28,
   "metadata": {
    "colab": {
     "base_uri": "https://localhost:8080/"
    },
    "id": "Hn8PaowCCNph",
    "outputId": "d6daca86-4610-4e3a-a1bf-e1702ecc6e71"
   },
   "outputs": [
    {
     "name": "stdout",
     "output_type": "stream",
     "text": [
      "RUNNING THE L-BFGS-B CODE\n",
      "\n",
      "           * * *\n",
      "\n",
      "Machine precision = 2.220D-16\n",
      " N =           14     M =           10\n",
      "\n",
      "At X0         0 variables are exactly at the bounds\n",
      "\n",
      "At iterate    0    f=  1.67742D+02    |proj g|=  5.37964D+01\n",
      "\n"
     ]
    },
    {
     "name": "stderr",
     "output_type": "stream",
     "text": [
      "[Parallel(n_jobs=1)]: Using backend SequentialBackend with 1 concurrent workers.\n",
      " This problem is unconstrained.\n",
      "[Parallel(n_jobs=1)]: Done   1 out of   1 | elapsed:    0.0s remaining:    0.0s\n",
      "[Parallel(n_jobs=1)]: Done   1 out of   1 | elapsed:    0.0s finished\n"
     ]
    },
    {
     "data": {
      "text/plain": [
       "LogisticRegression(max_iter=1000, random_state=51, verbose=2)"
      ]
     },
     "execution_count": 28,
     "metadata": {},
     "output_type": "execute_result"
    },
    {
     "name": "stdout",
     "output_type": "stream",
     "text": [
      "At iterate    1    f=  9.74001D+01    |proj g|=  1.54576D+01\n",
      "\n",
      "At iterate    2    f=  9.08355D+01    |proj g|=  8.84314D+00\n",
      "\n",
      "At iterate    3    f=  8.64633D+01    |proj g|=  3.00085D+00\n",
      "\n",
      "At iterate    4    f=  8.58003D+01    |proj g|=  8.86228D-01\n",
      "\n",
      "At iterate    5    f=  8.57516D+01    |proj g|=  7.24417D-01\n",
      "\n",
      "At iterate    6    f=  8.57361D+01    |proj g|=  1.83713D-01\n",
      "\n",
      "At iterate    7    f=  8.57353D+01    |proj g|=  2.59615D-02\n",
      "\n",
      "At iterate    8    f=  8.57352D+01    |proj g|=  1.24747D-02\n",
      "\n",
      "At iterate    9    f=  8.57352D+01    |proj g|=  5.42681D-03\n",
      "\n",
      "At iterate   10    f=  8.57352D+01    |proj g|=  1.28136D-03\n",
      "\n",
      "At iterate   11    f=  8.57352D+01    |proj g|=  6.00816D-04\n",
      "\n",
      "           * * *\n",
      "\n",
      "Tit   = total number of iterations\n",
      "Tnf   = total number of function evaluations\n",
      "Tnint = total number of segments explored during Cauchy searches\n",
      "Skip  = number of BFGS updates skipped\n",
      "Nact  = number of active bounds at final generalized Cauchy point\n",
      "Projg = norm of the final projected gradient\n",
      "F     = final function value\n",
      "\n",
      "           * * *\n",
      "\n",
      "   N    Tit     Tnf  Tnint  Skip  Nact     Projg        F\n",
      "   14     11     12      1     0     0   6.008D-04   8.574D+01\n",
      "  F =   85.735184829069510     \n",
      "\n",
      "CONVERGENCE: REL_REDUCTION_OF_F_<=_FACTR*EPSMCH             \n"
     ]
    }
   ],
   "source": [
    "# Fit the model\n",
    "lr_classifier.fit(X_train, Y_train)\n",
    "#print(\"logistic classifier class value: \",lr_classifier.classes_)\n"
   ]
  },
  {
   "cell_type": "code",
   "execution_count": 29,
   "metadata": {},
   "outputs": [
    {
     "name": "stdout",
     "output_type": "stream",
     "text": [
      "Train score: 0.859504132231405\n",
      "Train score: 0.8360655737704918\n"
     ]
    }
   ],
   "source": [
    "# Accuracy scores on the training and testing sets\n",
    "\n",
    "lr_train_score_for_ss = lr_classifier.score(X_train, Y_train)\n",
    "lr_test_score_for_ss = lr_classifier.score(X_test, Y_test)\n",
    "\n",
    "print (\"Train score:\",lr_train_score_for_ss)\n",
    "print (\"Train score:\",lr_test_score_for_ss)"
   ]
  },
  {
   "cell_type": "code",
   "execution_count": 30,
   "metadata": {
    "colab": {
     "base_uri": "https://localhost:8080/",
     "height": 111
    },
    "id": "cJs7Qk5WGcR3",
    "outputId": "825ee329-a05a-45bf-d6f7-a481778b1921"
   },
   "outputs": [
    {
     "data": {
      "text/html": [
       "<div>\n",
       "<style scoped>\n",
       "    .dataframe tbody tr th:only-of-type {\n",
       "        vertical-align: middle;\n",
       "    }\n",
       "\n",
       "    .dataframe tbody tr th {\n",
       "        vertical-align: top;\n",
       "    }\n",
       "\n",
       "    .dataframe thead th {\n",
       "        text-align: right;\n",
       "    }\n",
       "</style>\n",
       "<table border=\"1\" class=\"dataframe\">\n",
       "  <thead>\n",
       "    <tr style=\"text-align: right;\">\n",
       "      <th></th>\n",
       "      <th>0</th>\n",
       "      <th>1</th>\n",
       "    </tr>\n",
       "  </thead>\n",
       "  <tbody>\n",
       "    <tr>\n",
       "      <th>0</th>\n",
       "      <td>23</td>\n",
       "      <td>7</td>\n",
       "    </tr>\n",
       "    <tr>\n",
       "      <th>1</th>\n",
       "      <td>3</td>\n",
       "      <td>28</td>\n",
       "    </tr>\n",
       "  </tbody>\n",
       "</table>\n",
       "</div>"
      ],
      "text/plain": [
       "    0   1\n",
       "0  23   7\n",
       "1   3  28"
      ]
     },
     "execution_count": 30,
     "metadata": {},
     "output_type": "execute_result"
    }
   ],
   "source": [
    "# The confusion matrix\n",
    "\n",
    "lr_predictions = lr_classifier.predict(X_test)\n",
    "\n",
    "labels = lr_classifier.classes_\n",
    "\n",
    "# compute TP, TN, FP, FN values\n",
    "lr_cm = confusion_matrix(y_true=Y_test, \n",
    "                      y_pred = lr_predictions, \n",
    "                      labels = labels)\n",
    "\n",
    "\n",
    "# compute recall, precision, f1-scores\n",
    "lr_cr = classification_report(y_true=Y_test, \n",
    "                      y_pred = lr_predictions, \n",
    "                      labels = labels)\n",
    "\n",
    "# print confusion matrix\n",
    "pd.DataFrame(lr_cm, index=labels, columns=labels)"
   ]
  },
  {
   "cell_type": "markdown",
   "metadata": {
    "id": "EsXsBfWJIN-U"
   },
   "source": [
    "### SGD (standard scaling)"
   ]
  },
  {
   "cell_type": "code",
   "execution_count": 31,
   "metadata": {
    "colab": {
     "base_uri": "https://localhost:8080/"
    },
    "id": "d6RBYBNKH4GV",
    "outputId": "2853bdd3-1460-4fc1-f9b4-c052572123bc"
   },
   "outputs": [
    {
     "data": {
      "text/plain": [
       "SGDClassifier(random_state=0, tol=1e-05)"
      ]
     },
     "execution_count": 31,
     "metadata": {},
     "output_type": "execute_result"
    }
   ],
   "source": [
    "# Fit the model\n",
    "sgd_classifier.fit(X_train, Y_train)"
   ]
  },
  {
   "cell_type": "code",
   "execution_count": 32,
   "metadata": {
    "colab": {
     "base_uri": "https://localhost:8080/"
    },
    "id": "nEDFFlJFIRmi",
    "outputId": "c74402fe-ce74-4efe-de70-0f667e5ee3a5"
   },
   "outputs": [
    {
     "name": "stdout",
     "output_type": "stream",
     "text": [
      "Train score: 0.8057851239669421\n",
      "Train score: 0.8688524590163934\n"
     ]
    }
   ],
   "source": [
    "# Accuracy scores on the training and testing sets\n",
    "\n",
    "sgd_train_score_for_ss = sgd_classifier.score(X_train, Y_train)\n",
    "sgd_test_score_for_ss = sgd_classifier.score(X_test, Y_test)\n",
    "\n",
    "print (\"Train score:\",sgd_train_score_for_ss)\n",
    "print (\"Train score:\",sgd_test_score_for_ss)"
   ]
  },
  {
   "cell_type": "code",
   "execution_count": 33,
   "metadata": {
    "colab": {
     "base_uri": "https://localhost:8080/",
     "height": 111
    },
    "id": "DTFoGgS6IYzS",
    "outputId": "e0f238c8-145b-4be4-f874-a100a1ef01af"
   },
   "outputs": [
    {
     "data": {
      "text/html": [
       "<div>\n",
       "<style scoped>\n",
       "    .dataframe tbody tr th:only-of-type {\n",
       "        vertical-align: middle;\n",
       "    }\n",
       "\n",
       "    .dataframe tbody tr th {\n",
       "        vertical-align: top;\n",
       "    }\n",
       "\n",
       "    .dataframe thead th {\n",
       "        text-align: right;\n",
       "    }\n",
       "</style>\n",
       "<table border=\"1\" class=\"dataframe\">\n",
       "  <thead>\n",
       "    <tr style=\"text-align: right;\">\n",
       "      <th></th>\n",
       "      <th>0</th>\n",
       "      <th>1</th>\n",
       "    </tr>\n",
       "  </thead>\n",
       "  <tbody>\n",
       "    <tr>\n",
       "      <th>0</th>\n",
       "      <td>25</td>\n",
       "      <td>5</td>\n",
       "    </tr>\n",
       "    <tr>\n",
       "      <th>1</th>\n",
       "      <td>3</td>\n",
       "      <td>28</td>\n",
       "    </tr>\n",
       "  </tbody>\n",
       "</table>\n",
       "</div>"
      ],
      "text/plain": [
       "    0   1\n",
       "0  25   5\n",
       "1   3  28"
      ]
     },
     "execution_count": 33,
     "metadata": {},
     "output_type": "execute_result"
    }
   ],
   "source": [
    "# The confusion matrix\n",
    "\n",
    "sgd_predictions = sgd_classifier.predict(X_test)\n",
    "\n",
    "labels = sgd_classifier.classes_\n",
    "\n",
    "# compute TP, TN, FP, FN values\n",
    "sgd_cm = confusion_matrix(y_true=Y_test, \n",
    "                      y_pred = sgd_predictions, \n",
    "                      labels = labels)\n",
    "\n",
    "# compute recall, precision, f1-scores\n",
    "sgd_cr = classification_report(y_true=Y_test, \n",
    "                      y_pred = sgd_predictions, \n",
    "                      labels = labels)\n",
    "\n",
    "# print confusion matrix\n",
    "pd.DataFrame(sgd_cm, index=labels, columns=labels)"
   ]
  },
  {
   "cell_type": "markdown",
   "metadata": {
    "id": "TiNAX9VoIpN_"
   },
   "source": [
    "### Random Forest (standard scaling)"
   ]
  },
  {
   "cell_type": "code",
   "execution_count": 34,
   "metadata": {
    "colab": {
     "base_uri": "https://localhost:8080/"
    },
    "id": "B-i8wXg2It5X",
    "outputId": "4fbd2033-d298-455a-a152-2b69cb614dae"
   },
   "outputs": [
    {
     "data": {
      "text/plain": [
       "RandomForestClassifier()"
      ]
     },
     "execution_count": 34,
     "metadata": {},
     "output_type": "execute_result"
    }
   ],
   "source": [
    "# Fit the model\n",
    "rf_classifier.fit(X_train, Y_train) "
   ]
  },
  {
   "cell_type": "code",
   "execution_count": 35,
   "metadata": {
    "colab": {
     "base_uri": "https://localhost:8080/"
    },
    "id": "2o_revwEIy4M",
    "outputId": "ee8077df-c444-4e3f-ae8f-f8ae8824f183"
   },
   "outputs": [
    {
     "name": "stdout",
     "output_type": "stream",
     "text": [
      "Train score: 1.0\n",
      "Train score: 0.8360655737704918\n"
     ]
    }
   ],
   "source": [
    "# Accuracy scores on the training and testing sets\n",
    "\n",
    "rf_train_score_for_ss = rf_classifier.score(X_train, Y_train)\n",
    "rf_test_score_for_ss = rf_classifier.score(X_test, Y_test)\n",
    "\n",
    "print (\"Train score:\",rf_train_score_for_ss)\n",
    "print (\"Train score:\",rf_test_score_for_ss)\n"
   ]
  },
  {
   "cell_type": "code",
   "execution_count": 36,
   "metadata": {
    "colab": {
     "base_uri": "https://localhost:8080/",
     "height": 111
    },
    "id": "Oa9j7W5TJNym",
    "outputId": "de12b7ec-a28b-446a-9768-9dc532a19b95"
   },
   "outputs": [
    {
     "data": {
      "text/html": [
       "<div>\n",
       "<style scoped>\n",
       "    .dataframe tbody tr th:only-of-type {\n",
       "        vertical-align: middle;\n",
       "    }\n",
       "\n",
       "    .dataframe tbody tr th {\n",
       "        vertical-align: top;\n",
       "    }\n",
       "\n",
       "    .dataframe thead th {\n",
       "        text-align: right;\n",
       "    }\n",
       "</style>\n",
       "<table border=\"1\" class=\"dataframe\">\n",
       "  <thead>\n",
       "    <tr style=\"text-align: right;\">\n",
       "      <th></th>\n",
       "      <th>0</th>\n",
       "      <th>1</th>\n",
       "    </tr>\n",
       "  </thead>\n",
       "  <tbody>\n",
       "    <tr>\n",
       "      <th>0</th>\n",
       "      <td>23</td>\n",
       "      <td>7</td>\n",
       "    </tr>\n",
       "    <tr>\n",
       "      <th>1</th>\n",
       "      <td>3</td>\n",
       "      <td>28</td>\n",
       "    </tr>\n",
       "  </tbody>\n",
       "</table>\n",
       "</div>"
      ],
      "text/plain": [
       "    0   1\n",
       "0  23   7\n",
       "1   3  28"
      ]
     },
     "execution_count": 36,
     "metadata": {},
     "output_type": "execute_result"
    }
   ],
   "source": [
    "# The confusion matrix\n",
    "\n",
    "rf_predictions = rf_classifier.predict(X_test)\n",
    "\n",
    "labels = rf_classifier.classes_\n",
    "\n",
    "# compute TP, TN, FP, FN values\n",
    "rf_cm = confusion_matrix(y_true=Y_test, \n",
    "                      y_pred = rf_predictions, \n",
    "                      labels = labels)\n",
    "\n",
    "# compute recall, precision, f1-scores\n",
    "rf_cr = classification_report(y_true=Y_test, \n",
    "                      y_pred = rf_predictions, \n",
    "                      labels = labels)\n",
    "\n",
    "# print confusion matrix\n",
    "pd.DataFrame(rf_cm, index=labels, columns=labels)"
   ]
  },
  {
   "cell_type": "code",
   "execution_count": 37,
   "metadata": {
    "colab": {
     "base_uri": "https://localhost:8080/",
     "height": 281
    },
    "id": "dQN9m6_uJXwE",
    "outputId": "4400cc89-0f97-4b23-8e08-d3a7b59146bd"
   },
   "outputs": [
    {
     "data": {
      "image/png": "[encoded data removed]",
      "text/plain": [
       "<Figure size 432x288 with 1 Axes>"
      ]
     },
     "metadata": {
      "needs_background": "light"
     },
     "output_type": "display_data"
    }
   ],
   "source": [
    "# Comparsion of accuracy of all 3 models after standard scalling\n",
    "\n",
    "labels = ['Logistic Regression', 'Random Forest','SGD Classifier']\n",
    "training_scores = [lr_train_score_for_ss, rf_train_score_for_ss, sgd_train_score_for_ss]\n",
    "testing_scores =  [lr_train_score_for_ss, rf_test_score_for_ss, sgd_test_score_for_ss]\n",
    "\n",
    "x = np.arange(len(labels))  # the label locations\n",
    "width = 0.2\n",
    "\n",
    "fig, ax = plt.subplots()\n",
    "rects1 = ax.bar(x - width/2, training_scores, width, label='Training')\n",
    "rects2 = ax.bar(x + width/2, testing_scores, width, label='Testing')\n",
    "\n",
    "# Add some text for labels, title and custom x-axis tick labels, etc.\n",
    "ax.set_ylabel('Accuracy')\n",
    "ax.set_xticks(x)\n",
    "ax.set_ylim(0,1)\n",
    "ax.set_xticklabels(labels)\n",
    "ax.legend(bbox_to_anchor = (1.3, 1.0), loc='upper right')\n",
    "\n",
    "plt.title('Test Accuracy after standard scaler')\n",
    "plt.show()"
   ]
  },
  {
   "cell_type": "markdown",
   "metadata": {},
   "source": [
    "#After standard scalling, accuracy of logistic regression model is still same, while accuracy of SGD classifier model is increased."
   ]
  },
  {
   "cell_type": "markdown",
   "metadata": {
    "id": "_an4M3CFJ9_O"
   },
   "source": [
    "###  Min Max Scaler With all 3 model"
   ]
  },
  {
   "cell_type": "code",
   "execution_count": 38,
   "metadata": {
    "colab": {
     "base_uri": "https://localhost:8080/",
     "height": 297
    },
    "id": "jJ75M04oKF89",
    "outputId": "b0130c2e-4b3b-401e-b40e-42cd6a24af59"
   },
   "outputs": [
    {
     "data": {
      "text/html": [
       "<div>\n",
       "<style scoped>\n",
       "    .dataframe tbody tr th:only-of-type {\n",
       "        vertical-align: middle;\n",
       "    }\n",
       "\n",
       "    .dataframe tbody tr th {\n",
       "        vertical-align: top;\n",
       "    }\n",
       "\n",
       "    .dataframe thead th {\n",
       "        text-align: right;\n",
       "    }\n",
       "</style>\n",
       "<table border=\"1\" class=\"dataframe\">\n",
       "  <thead>\n",
       "    <tr style=\"text-align: right;\">\n",
       "      <th></th>\n",
       "      <th>age</th>\n",
       "      <th>sex</th>\n",
       "      <th>cp</th>\n",
       "      <th>trestbps</th>\n",
       "      <th>chol</th>\n",
       "      <th>fbs</th>\n",
       "      <th>restecg</th>\n",
       "      <th>thalach</th>\n",
       "      <th>exang</th>\n",
       "      <th>oldpeak</th>\n",
       "      <th>slope</th>\n",
       "      <th>ca</th>\n",
       "      <th>thal</th>\n",
       "    </tr>\n",
       "  </thead>\n",
       "  <tbody>\n",
       "    <tr>\n",
       "      <th>count</th>\n",
       "      <td>303.000000</td>\n",
       "      <td>303.000000</td>\n",
       "      <td>303.000000</td>\n",
       "      <td>303.000000</td>\n",
       "      <td>303.000000</td>\n",
       "      <td>303.000000</td>\n",
       "      <td>303.000000</td>\n",
       "      <td>303.000000</td>\n",
       "      <td>303.000000</td>\n",
       "      <td>303.000000</td>\n",
       "      <td>303.000000</td>\n",
       "      <td>303.000000</td>\n",
       "      <td>303.000000</td>\n",
       "    </tr>\n",
       "    <tr>\n",
       "      <th>mean</th>\n",
       "      <td>0.528465</td>\n",
       "      <td>0.683168</td>\n",
       "      <td>0.322332</td>\n",
       "      <td>0.354941</td>\n",
       "      <td>0.274575</td>\n",
       "      <td>0.148515</td>\n",
       "      <td>0.264026</td>\n",
       "      <td>0.600358</td>\n",
       "      <td>0.326733</td>\n",
       "      <td>0.167678</td>\n",
       "      <td>0.699670</td>\n",
       "      <td>0.182343</td>\n",
       "      <td>0.771177</td>\n",
       "    </tr>\n",
       "    <tr>\n",
       "      <th>std</th>\n",
       "      <td>0.189210</td>\n",
       "      <td>0.466011</td>\n",
       "      <td>0.344017</td>\n",
       "      <td>0.165454</td>\n",
       "      <td>0.118335</td>\n",
       "      <td>0.356198</td>\n",
       "      <td>0.262930</td>\n",
       "      <td>0.174849</td>\n",
       "      <td>0.469794</td>\n",
       "      <td>0.187270</td>\n",
       "      <td>0.308113</td>\n",
       "      <td>0.255652</td>\n",
       "      <td>0.204092</td>\n",
       "    </tr>\n",
       "    <tr>\n",
       "      <th>min</th>\n",
       "      <td>0.000000</td>\n",
       "      <td>0.000000</td>\n",
       "      <td>0.000000</td>\n",
       "      <td>0.000000</td>\n",
       "      <td>0.000000</td>\n",
       "      <td>0.000000</td>\n",
       "      <td>0.000000</td>\n",
       "      <td>0.000000</td>\n",
       "      <td>0.000000</td>\n",
       "      <td>0.000000</td>\n",
       "      <td>0.000000</td>\n",
       "      <td>0.000000</td>\n",
       "      <td>0.000000</td>\n",
       "    </tr>\n",
       "    <tr>\n",
       "      <th>25%</th>\n",
       "      <td>0.385417</td>\n",
       "      <td>0.000000</td>\n",
       "      <td>0.000000</td>\n",
       "      <td>0.245283</td>\n",
       "      <td>0.194064</td>\n",
       "      <td>0.000000</td>\n",
       "      <td>0.000000</td>\n",
       "      <td>0.477099</td>\n",
       "      <td>0.000000</td>\n",
       "      <td>0.000000</td>\n",
       "      <td>0.500000</td>\n",
       "      <td>0.000000</td>\n",
       "      <td>0.666667</td>\n",
       "    </tr>\n",
       "    <tr>\n",
       "      <th>50%</th>\n",
       "      <td>0.541667</td>\n",
       "      <td>1.000000</td>\n",
       "      <td>0.333333</td>\n",
       "      <td>0.339623</td>\n",
       "      <td>0.260274</td>\n",
       "      <td>0.000000</td>\n",
       "      <td>0.500000</td>\n",
       "      <td>0.625954</td>\n",
       "      <td>0.000000</td>\n",
       "      <td>0.129032</td>\n",
       "      <td>0.500000</td>\n",
       "      <td>0.000000</td>\n",
       "      <td>0.666667</td>\n",
       "    </tr>\n",
       "    <tr>\n",
       "      <th>75%</th>\n",
       "      <td>0.666667</td>\n",
       "      <td>1.000000</td>\n",
       "      <td>0.666667</td>\n",
       "      <td>0.433962</td>\n",
       "      <td>0.339041</td>\n",
       "      <td>0.000000</td>\n",
       "      <td>0.500000</td>\n",
       "      <td>0.725191</td>\n",
       "      <td>1.000000</td>\n",
       "      <td>0.258065</td>\n",
       "      <td>1.000000</td>\n",
       "      <td>0.250000</td>\n",
       "      <td>1.000000</td>\n",
       "    </tr>\n",
       "    <tr>\n",
       "      <th>max</th>\n",
       "      <td>1.000000</td>\n",
       "      <td>1.000000</td>\n",
       "      <td>1.000000</td>\n",
       "      <td>1.000000</td>\n",
       "      <td>1.000000</td>\n",
       "      <td>1.000000</td>\n",
       "      <td>1.000000</td>\n",
       "      <td>1.000000</td>\n",
       "      <td>1.000000</td>\n",
       "      <td>1.000000</td>\n",
       "      <td>1.000000</td>\n",
       "      <td>1.000000</td>\n",
       "      <td>1.000000</td>\n",
       "    </tr>\n",
       "  </tbody>\n",
       "</table>\n",
       "</div>"
      ],
      "text/plain": [
       "              age         sex          cp    trestbps        chol         fbs  \\\n",
       "count  303.000000  303.000000  303.000000  303.000000  303.000000  303.000000   \n",
       "mean     0.528465    0.683168    0.322332    0.354941    0.274575    0.148515   \n",
       "std      0.189210    0.466011    0.344017    0.165454    0.118335    0.356198   \n",
       "min      0.000000    0.000000    0.000000    0.000000    0.000000    0.000000   \n",
       "25%      0.385417    0.000000    0.000000    0.245283    0.194064    0.000000   \n",
       "50%      0.541667    1.000000    0.333333    0.339623    0.260274    0.000000   \n",
       "75%      0.666667    1.000000    0.666667    0.433962    0.339041    0.000000   \n",
       "max      1.000000    1.000000    1.000000    1.000000    1.000000    1.000000   \n",
       "\n",
       "          restecg     thalach       exang     oldpeak       slope          ca  \\\n",
       "count  303.000000  303.000000  303.000000  303.000000  303.000000  303.000000   \n",
       "mean     0.264026    0.600358    0.326733    0.167678    0.699670    0.182343   \n",
       "std      0.262930    0.174849    0.469794    0.187270    0.308113    0.255652   \n",
       "min      0.000000    0.000000    0.000000    0.000000    0.000000    0.000000   \n",
       "25%      0.000000    0.477099    0.000000    0.000000    0.500000    0.000000   \n",
       "50%      0.500000    0.625954    0.000000    0.129032    0.500000    0.000000   \n",
       "75%      0.500000    0.725191    1.000000    0.258065    1.000000    0.250000   \n",
       "max      1.000000    1.000000    1.000000    1.000000    1.000000    1.000000   \n",
       "\n",
       "             thal  \n",
       "count  303.000000  \n",
       "mean     0.771177  \n",
       "std      0.204092  \n",
       "min      0.000000  \n",
       "25%      0.666667  \n",
       "50%      0.666667  \n",
       "75%      1.000000  \n",
       "max      1.000000  "
      ]
     },
     "execution_count": 38,
     "metadata": {},
     "output_type": "execute_result"
    }
   ],
   "source": [
    "scaler_MM= MinMaxScaler()\n",
    "scaler_MM.fit(X)\n",
    "scaled_data_minmax = scaler_MM.transform(X)\n",
    "scaled_data_minmax\n",
    "\n",
    "scaled_data_mm = pd.DataFrame(scaled_data_minmax, columns=X.columns, index=X.index);\n",
    "\n",
    "scaled_data_mm.describe()"
   ]
  },
  {
   "cell_type": "code",
   "execution_count": 39,
   "metadata": {
    "id": "8dfAKQ71LG6j"
   },
   "outputs": [
    {
     "name": "stdout",
     "output_type": "stream",
     "text": [
      "Shape of X_train=  (242, 13)\n",
      "Shape of X_test=  (61, 13)\n",
      "Shape of y_train=  (242,)\n",
      "Shape of y_test=  (61,)\n"
     ]
    }
   ],
   "source": [
    "X_train, X_test, Y_train, Y_test = train_test_split(scaled_data_mm, Y, test_size=0.2,  random_state = 51)\n",
    "print(\"Shape of X_train= \",X_train.shape)\n",
    "print(\"Shape of X_test= \",X_test.shape)\n",
    "print(\"Shape of y_train= \",Y_train.shape)\n",
    "print(\"Shape of y_test= \",Y_test.shape)"
   ]
  },
  {
   "cell_type": "markdown",
   "metadata": {
    "id": "fkKtIEI6LQ-f"
   },
   "source": [
    "### Logistic Model (min max scaling)"
   ]
  },
  {
   "cell_type": "code",
   "execution_count": 40,
   "metadata": {
    "colab": {
     "base_uri": "https://localhost:8080/"
    },
    "id": "uPfpej5nL0Mg",
    "outputId": "2b04ba76-2f52-4db6-94f6-273e77259e25"
   },
   "outputs": [
    {
     "name": "stdout",
     "output_type": "stream",
     "text": [
      "RUNNING THE L-BFGS-B CODE\n",
      "\n",
      "           * * *\n",
      "\n",
      "Machine precision = 2.220D-16\n",
      " N =           14     M =           10\n",
      "\n",
      "At X0         0 variables are exactly at the bounds\n",
      "\n",
      "At iterate    0    f=  1.67742D+02    |proj g|=  2.26667D+01\n",
      "\n",
      "At iterate    1    f=  1.46193D+02    |proj g|=  3.44510D+01\n",
      "\n",
      "At iterate    2    f=  1.21231D+02    |proj g|=  1.88790D+01\n",
      "\n",
      "At iterate    3    f=  1.06412D+02    |proj g|=  5.23810D+00\n",
      "\n",
      "At iterate    4    f=  1.03511D+02    |proj g|=  3.78277D+00\n",
      "\n",
      "At iterate    5    f=  1.01102D+02    |proj g|=  3.64958D+00\n",
      "\n",
      "At iterate    6    f=  9.93355D+01    |proj g|=  1.46859D+00\n",
      "\n",
      "At iterate    7    f=  9.88876D+01    |proj g|=  5.15992D-01\n",
      "\n",
      "At iterate    8    f=  9.87358D+01    |proj g|=  5.07876D-01\n",
      "\n",
      "At iterate    9    f=  9.85853D+01    |proj g|=  4.48861D-01\n",
      "\n",
      "At iterate   10    f=  9.84911D+01    |proj g|=  1.97901D-01\n",
      "\n",
      "At iterate   11    f=  9.84705D+01    |proj g|=  2.25209D-01\n",
      "\n",
      "At iterate   12    f=  9.84692D+01    |proj g|=  1.79254D-01\n",
      "\n",
      "At iterate   13    f=  9.84665D+01    |proj g|=  1.24392D-01\n",
      "\n",
      "At iterate   14    f=  9.84620D+01    |proj g|=  6.07385D-02\n",
      "\n",
      "At iterate   15    f=  9.84604D+01    |proj g|=  3.22667D-02\n",
      "\n",
      "At iterate   16    f=  9.84602D+01    |proj g|=  3.76014D-02\n",
      "\n",
      "At iterate   17    f=  9.84600D+01    |proj g|=  2.72717D-02\n",
      "\n",
      "At iterate   18    f=  9.84600D+01    |proj g|=  3.84505D-03\n",
      "\n",
      "At iterate   19    f=  9.84600D+01    |proj g|=  2.70324D-03\n",
      "\n",
      "At iterate   20    f=  9.84600D+01    |proj g|=  1.10084D-03\n",
      "\n",
      "At iterate   21    f=  9.84600D+01    |proj g|=  4.18786D-04\n",
      "\n",
      "At iterate   22    f=  9.84600D+01    |proj g|=  1.67740D-04\n",
      "\n",
      "           * * *\n",
      "\n",
      "Tit   = total number of iterations\n",
      "Tnf   = total number of function evaluations\n",
      "Tnint = total number of segments explored during Cauchy searches\n",
      "Skip  = number of BFGS updates skipped\n",
      "Nact  = number of active bounds at final generalized Cauchy point\n",
      "Projg = norm of the final projected gradient\n",
      "F     = final function value\n",
      "\n",
      "           * * *\n",
      "\n",
      "   N    Tit     Tnf  Tnint  Skip  Nact     Projg        F\n",
      "   14     22     25      1     0"
     ]
    },
    {
     "name": "stderr",
     "output_type": "stream",
     "text": [
      "[Parallel(n_jobs=1)]: Using backend SequentialBackend with 1 concurrent workers.\n",
      " This problem is unconstrained.\n",
      "[Parallel(n_jobs=1)]: Done   1 out of   1 | elapsed:    0.0s remaining:    0.0s\n",
      "[Parallel(n_jobs=1)]: Done   1 out of   1 | elapsed:    0.0s finished\n"
     ]
    },
    {
     "data": {
      "text/plain": [
       "array([0, 1])"
      ]
     },
     "execution_count": 40,
     "metadata": {},
     "output_type": "execute_result"
    },
    {
     "name": "stdout",
     "output_type": "stream",
     "text": [
      "     0   1.677D-04   9.846D+01\n",
      "  F =   98.459950346628375     \n",
      "\n",
      "CONVERGENCE: REL_REDUCTION_OF_F_<=_FACTR*EPSMCH             \n"
     ]
    }
   ],
   "source": [
    "# Fit the model\n",
    "lr_classifier.fit(X_train, Y_train)\n",
    "\n",
    "# Let's see what the classifier has learned\n",
    "lr_classifier.classes_"
   ]
  },
  {
   "cell_type": "code",
   "execution_count": 41,
   "metadata": {
    "colab": {
     "base_uri": "https://localhost:8080/"
    },
    "id": "KzVPLDUTL0Mh",
    "outputId": "658d61c0-0cdb-4736-fe1b-9dff701ea4a1"
   },
   "outputs": [
    {
     "name": "stdout",
     "output_type": "stream",
     "text": [
      "Train score: 0.8512396694214877\n",
      "Train score: 0.8032786885245902\n"
     ]
    }
   ],
   "source": [
    "# Accuracy scores on the training and testing sets\n",
    "\n",
    "lr_train_score_for_mms = lr_classifier.score(X_train, Y_train)\n",
    "lr_test_score_for_mms = lr_classifier.score(X_test, Y_test)\n",
    "\n",
    "print (\"Train score:\",lr_train_score_for_mms)\n",
    "print (\"Train score:\",lr_test_score_for_mms)\n"
   ]
  },
  {
   "cell_type": "code",
   "execution_count": 42,
   "metadata": {
    "colab": {
     "base_uri": "https://localhost:8080/",
     "height": 111
    },
    "id": "EynIAnvNL0Mh",
    "outputId": "8c6f18c9-4780-4a1f-c015-ef1973cc40bf"
   },
   "outputs": [
    {
     "data": {
      "text/html": [
       "<div>\n",
       "<style scoped>\n",
       "    .dataframe tbody tr th:only-of-type {\n",
       "        vertical-align: middle;\n",
       "    }\n",
       "\n",
       "    .dataframe tbody tr th {\n",
       "        vertical-align: top;\n",
       "    }\n",
       "\n",
       "    .dataframe thead th {\n",
       "        text-align: right;\n",
       "    }\n",
       "</style>\n",
       "<table border=\"1\" class=\"dataframe\">\n",
       "  <thead>\n",
       "    <tr style=\"text-align: right;\">\n",
       "      <th></th>\n",
       "      <th>0</th>\n",
       "      <th>1</th>\n",
       "    </tr>\n",
       "  </thead>\n",
       "  <tbody>\n",
       "    <tr>\n",
       "      <th>0</th>\n",
       "      <td>23</td>\n",
       "      <td>7</td>\n",
       "    </tr>\n",
       "    <tr>\n",
       "      <th>1</th>\n",
       "      <td>5</td>\n",
       "      <td>26</td>\n",
       "    </tr>\n",
       "  </tbody>\n",
       "</table>\n",
       "</div>"
      ],
      "text/plain": [
       "    0   1\n",
       "0  23   7\n",
       "1   5  26"
      ]
     },
     "execution_count": 42,
     "metadata": {},
     "output_type": "execute_result"
    }
   ],
   "source": [
    "# The confusion matrix\n",
    "lr_predictions = lr_classifier.predict(X_test)\n",
    "labels = lr_classifier.classes_\n",
    "\n",
    "# compute TP, TN, FP, FN values\n",
    "lr_cm = confusion_matrix(y_true=Y_test, \n",
    "                      y_pred = lr_predictions, \n",
    "                      labels = labels)\n",
    "\n",
    "# compute recall, precision, f1-scores\n",
    "lr_cr = classification_report(y_true=Y_test, \n",
    "                      y_pred = lr_predictions, \n",
    "                      labels = labels)\n",
    "\n",
    "# print confusion matrix\n",
    "pd.DataFrame(lr_cm, index=labels, columns=labels)"
   ]
  },
  {
   "cell_type": "markdown",
   "metadata": {
    "id": "SmiGKTd-L0Mi"
   },
   "source": [
    "### SGD (min max scaling))"
   ]
  },
  {
   "cell_type": "code",
   "execution_count": 43,
   "metadata": {
    "colab": {
     "base_uri": "https://localhost:8080/"
    },
    "id": "uRvgvZmZL0Mi",
    "outputId": "29012dc5-4a91-46f3-dcb9-1a9a9130e974"
   },
   "outputs": [
    {
     "data": {
      "text/plain": [
       "SGDClassifier(random_state=0, tol=1e-05)"
      ]
     },
     "execution_count": 43,
     "metadata": {},
     "output_type": "execute_result"
    }
   ],
   "source": [
    "# Fit the model\n",
    "sgd_classifier.fit(X_train, Y_train)"
   ]
  },
  {
   "cell_type": "code",
   "execution_count": 44,
   "metadata": {
    "colab": {
     "base_uri": "https://localhost:8080/"
    },
    "id": "IMi9th5hL0Mi",
    "outputId": "ae1bd8ed-ad2e-4724-c566-ed1199e6c1fb"
   },
   "outputs": [
    {
     "name": "stdout",
     "output_type": "stream",
     "text": [
      "Train score: 0.8512396694214877\n",
      "Train score: 0.819672131147541\n"
     ]
    }
   ],
   "source": [
    "# Accuracy scores on the training and testing sets\n",
    "\n",
    "sgd_train_score_for_mms = sgd_classifier.score(X_train, Y_train)\n",
    "sgd_test_score_for_mms = sgd_classifier.score(X_test, Y_test)\n",
    "\n",
    "print (\"Train score:\",sgd_train_score_for_mms)\n",
    "print (\"Train score:\",sgd_test_score_for_mms)\n"
   ]
  },
  {
   "cell_type": "code",
   "execution_count": 45,
   "metadata": {
    "colab": {
     "base_uri": "https://localhost:8080/",
     "height": 111
    },
    "id": "u2wIqGPJL0Mi",
    "outputId": "109b37a5-741c-4116-c5be-08474deb7339"
   },
   "outputs": [
    {
     "data": {
      "text/html": [
       "<div>\n",
       "<style scoped>\n",
       "    .dataframe tbody tr th:only-of-type {\n",
       "        vertical-align: middle;\n",
       "    }\n",
       "\n",
       "    .dataframe tbody tr th {\n",
       "        vertical-align: top;\n",
       "    }\n",
       "\n",
       "    .dataframe thead th {\n",
       "        text-align: right;\n",
       "    }\n",
       "</style>\n",
       "<table border=\"1\" class=\"dataframe\">\n",
       "  <thead>\n",
       "    <tr style=\"text-align: right;\">\n",
       "      <th></th>\n",
       "      <th>0</th>\n",
       "      <th>1</th>\n",
       "    </tr>\n",
       "  </thead>\n",
       "  <tbody>\n",
       "    <tr>\n",
       "      <th>0</th>\n",
       "      <td>22</td>\n",
       "      <td>8</td>\n",
       "    </tr>\n",
       "    <tr>\n",
       "      <th>1</th>\n",
       "      <td>3</td>\n",
       "      <td>28</td>\n",
       "    </tr>\n",
       "  </tbody>\n",
       "</table>\n",
       "</div>"
      ],
      "text/plain": [
       "    0   1\n",
       "0  22   8\n",
       "1   3  28"
      ]
     },
     "execution_count": 45,
     "metadata": {},
     "output_type": "execute_result"
    }
   ],
   "source": [
    "# The confusion matrix\n",
    "\n",
    "sgd_predictions = sgd_classifier.predict(X_test)\n",
    "\n",
    "labels = sgd_classifier.classes_\n",
    "\n",
    "# compute TP, TN, FP, FN values\n",
    "sgd_cm = confusion_matrix(y_true=Y_test, \n",
    "                      y_pred = sgd_predictions, \n",
    "                      labels = labels)\n",
    "\n",
    "# compute recall, precision, f1-scores\n",
    "sgd_cr = classification_report(y_true=Y_test, \n",
    "                      y_pred = sgd_predictions, \n",
    "                      labels = labels)\n",
    "\n",
    "# print confusion matrix\n",
    "pd.DataFrame(sgd_cm, index=labels, columns=labels)"
   ]
  },
  {
   "cell_type": "markdown",
   "metadata": {
    "id": "fV0_I-SoL0Mj"
   },
   "source": [
    "### Random Forest  (min max scaling))"
   ]
  },
  {
   "cell_type": "code",
   "execution_count": 46,
   "metadata": {
    "colab": {
     "base_uri": "https://localhost:8080/"
    },
    "id": "79vkdvehL0Mj",
    "outputId": "5c96ab3f-f017-4f68-b51a-484bb2e0ee98"
   },
   "outputs": [
    {
     "data": {
      "text/plain": [
       "RandomForestClassifier()"
      ]
     },
     "execution_count": 46,
     "metadata": {},
     "output_type": "execute_result"
    }
   ],
   "source": [
    "# Fit the model\n",
    "rf_classifier.fit(X_train, Y_train) "
   ]
  },
  {
   "cell_type": "code",
   "execution_count": 47,
   "metadata": {
    "colab": {
     "base_uri": "https://localhost:8080/"
    },
    "id": "0Z355evRL0Mj",
    "outputId": "e6298879-c5bc-473f-c9c7-33b8610cc34b"
   },
   "outputs": [
    {
     "name": "stdout",
     "output_type": "stream",
     "text": [
      "Train score: 1.0\n",
      "Train score: 0.8032786885245902\n"
     ]
    }
   ],
   "source": [
    "# Accuracy scores on the training and testing sets\n",
    "\n",
    "rf_train_score_for_mms = rf_classifier.score(X_train, Y_train)\n",
    "rf_test_score_for_mms = rf_classifier.score(X_test, Y_test)\n",
    "\n",
    "print (\"Train score:\",rf_train_score_for_mms)\n",
    "print (\"Train score:\",rf_test_score_for_mms)"
   ]
  },
  {
   "cell_type": "code",
   "execution_count": 48,
   "metadata": {
    "colab": {
     "base_uri": "https://localhost:8080/",
     "height": 111
    },
    "id": "gQYUPz1GL0Mk",
    "outputId": "5d728497-9916-4bbd-a677-2ed72bdeacf0"
   },
   "outputs": [
    {
     "data": {
      "text/html": [
       "<div>\n",
       "<style scoped>\n",
       "    .dataframe tbody tr th:only-of-type {\n",
       "        vertical-align: middle;\n",
       "    }\n",
       "\n",
       "    .dataframe tbody tr th {\n",
       "        vertical-align: top;\n",
       "    }\n",
       "\n",
       "    .dataframe thead th {\n",
       "        text-align: right;\n",
       "    }\n",
       "</style>\n",
       "<table border=\"1\" class=\"dataframe\">\n",
       "  <thead>\n",
       "    <tr style=\"text-align: right;\">\n",
       "      <th></th>\n",
       "      <th>0</th>\n",
       "      <th>1</th>\n",
       "    </tr>\n",
       "  </thead>\n",
       "  <tbody>\n",
       "    <tr>\n",
       "      <th>0</th>\n",
       "      <td>22</td>\n",
       "      <td>8</td>\n",
       "    </tr>\n",
       "    <tr>\n",
       "      <th>1</th>\n",
       "      <td>4</td>\n",
       "      <td>27</td>\n",
       "    </tr>\n",
       "  </tbody>\n",
       "</table>\n",
       "</div>"
      ],
      "text/plain": [
       "    0   1\n",
       "0  22   8\n",
       "1   4  27"
      ]
     },
     "execution_count": 48,
     "metadata": {},
     "output_type": "execute_result"
    }
   ],
   "source": [
    "# The confusion matrix\n",
    "\n",
    "rf_predictions = rf_classifier.predict(X_test)\n",
    "\n",
    "labels = rf_classifier.classes_\n",
    "\n",
    "# compute TP, TN, FP, FN values\n",
    "rf_cm = confusion_matrix(y_true=Y_test, \n",
    "                      y_pred = rf_predictions, \n",
    "                      labels = labels)\n",
    "\n",
    "# compute recall, precision, f1-scores\n",
    "rf_cr = classification_report(y_true=Y_test, \n",
    "                      y_pred = rf_predictions, \n",
    "                      labels = labels)\n",
    "\n",
    "# print confusion matrix\n",
    "pd.DataFrame(rf_cm, index=labels, columns=labels)"
   ]
  },
  {
   "cell_type": "code",
   "execution_count": 49,
   "metadata": {
    "colab": {
     "base_uri": "https://localhost:8080/",
     "height": 281
    },
    "id": "hyMGBUSUL0Mk",
    "outputId": "eb9d9c0f-05b4-43b5-d0bd-44c2f0ee9a7c"
   },
   "outputs": [
    {
     "data": {
      "image/png": "[encoded data removed]",
      "text/plain": [
       "<Figure size 432x288 with 1 Axes>"
      ]
     },
     "metadata": {
      "needs_background": "light"
     },
     "output_type": "display_data"
    }
   ],
   "source": [
    "# Comparsion the accuracy of all 3 model after min max scalling\n",
    "\n",
    "labels = ['Logistic Regression', 'Random Forest','SGD Classifier']\n",
    "training_scores = [lr_train_score_for_mms, rf_train_score_for_mms, sgd_train_score_for_mms]\n",
    "testing_scores =  [lr_train_score_for_mms, rf_test_score_for_mms, sgd_test_score_for_mms]\n",
    "\n",
    "x = np.arange(len(labels))  # the label locations\n",
    "width = 0.2  # the width of the bars\n",
    "\n",
    "fig, ax = plt.subplots()\n",
    "rects1 = ax.bar(x - width/2, training_scores, width, label='Training')\n",
    "rects2 = ax.bar(x + width/2, testing_scores, width, label='Testing')\n",
    "\n",
    "# Add some text for labels, title and custom x-axis tick labels, etc.\n",
    "ax.set_ylabel('Accuracy')\n",
    "ax.set_xticks(x)\n",
    "ax.set_ylim(0,1)\n",
    "ax.set_xticklabels(labels)\n",
    "ax.legend(bbox_to_anchor = (1.3, 1.0), loc='upper right')\n",
    "\n",
    "plt.title('Test acuracy after minmax scalling')\n",
    "plt.show()"
   ]
  },
  {
   "cell_type": "markdown",
   "metadata": {
    "id": "FAlfW3pvQQRk"
   },
   "source": [
    "After min max scalling, accuracy for logistic regression is still same, while accuracy of SGD classifier is increased."
   ]
  },
  {
   "cell_type": "markdown",
   "metadata": {
    "id": "S6xL0LlZU1Vj"
   },
   "source": [
    "Summary: Accuracy of Random forest model is better than other model, its performance is still consistent after scalling. whiel there is no changes in logistic regrssion model after scalling. and accuracy of the SGD classifier model is increasing after scalling."
   ]
  },
  {
   "cell_type": "code",
   "execution_count": null,
   "metadata": {},
   "outputs": [],
   "source": []
  }
 ],
 "metadata": {
  "colab": {
   "authorship_tag": "ABX9TyPpbi7xdEVzZSPlGx8zoT12",
   "collapsed_sections": [],
   "include_colab_link": true,
   "name": "Project3_heart_disease.ipynb",
   "provenance": []
  },
  "kernelspec": {
   "display_name": "Python 3 (ipykernel)",
   "language": "python",
   "name": "python3"
  },
  "language_info": {
   "codemirror_mode": {
    "name": "ipython",
    "version": 3
   },
   "file_extension": ".py",
   "mimetype": "text/x-python",
   "name": "python",
   "nbconvert_exporter": "python",
   "pygments_lexer": "ipython3",
   "version": "3.9.7"
  }
 },
 "nbformat": 4,
 "nbformat_minor": 1
}
